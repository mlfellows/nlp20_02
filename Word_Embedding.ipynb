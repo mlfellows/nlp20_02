{
 "cells": [
  {
   "cell_type": "markdown",
   "metadata": {},
   "source": [
    "#### Outline.\n",
    "            1. Word Embedding: using Frequency Base method\n",
    "            \n",
    "            2. Word Embedding: Prediction Base method step by step.\n",
    "            \n",
    "            3. Word Embedding: using Word2vec & GloVe\n",
    "            \n",
    "            4. Using Keras Embedding Layer in some example of real-dataset."
   ]
  },
  {
   "cell_type": "code",
   "execution_count": 1,
   "metadata": {},
   "outputs": [],
   "source": [
    "import numpy as np\n",
    "import pandas as pd"
   ]
  },
  {
   "cell_type": "markdown",
   "metadata": {},
   "source": [
    "**`Word embedding`** is the collective name for a set of **`language modeling`** and **`feature learning`** techniques in **`Natural language processing (NLP)`** where `words` or `phrases` from the `vocabulary` are *mapped to vectors of real numbers*. \n",
    "\n",
    "Conceptually, it involves a `mathematical embedding` from a space with `many dimensions per word` to a `continuous vector space` with a much `lower dimension`.\n",
    "\n",
    "Methods to generate this mapping include `neural networks`, `dimensionality reduction` on the `co-occurrence matrix.`\n",
    "\n",
    "There are two different model architectures which can be leveraged by `Word2Vec` to create these word embedding representations; includes: `Continuous Bag of Words (CBOW)` and `Skip-gram`. Hence, before understanding `Word2Vec`; we will explore the `CBOW` and `skip-gram` in the section 2 `Prediction Base method`.\n",
    "\n",
    "The `GloVe (Global Vectorizer)` is an improvement from `Co-occurrence Matrix` which be presented in the following section.\n",
    "\n",
    "\n",
    "## 1. Word Embedding: using Frequency Base method\n",
    "\n",
    "Includes: `Count Vector`; `tf-idf Vector` and `Co-occurrence Matrix.`\n",
    "\n",
    "### 1.1. CountVectorizer using with `TfidfTransformer` \n",
    "\n",
    "First, consider the simple sentences."
   ]
  },
  {
   "cell_type": "code",
   "execution_count": 2,
   "metadata": {},
   "outputs": [
    {
     "name": "stdout",
     "output_type": "stream",
     "text": [
      "There are 5 sentences in this corpus\n",
      "The number of the different words is : 11 , and ... they are:\n",
      "['and', 'document', 'first', 'is', 'not', 'one', 'second', 'the', 'third', 'this', 'yours']\n"
     ]
    }
   ],
   "source": [
    "from sklearn.feature_extraction.text import CountVectorizer\n",
    "\n",
    "corpus = ['this is the first document',\n",
    "          'this document is the second document',\n",
    "          'and this is the third one',\n",
    "          'is this the first document?',\n",
    "          'this Document is not yours..']\n",
    "\n",
    "cvect = CountVectorizer()\n",
    "X = cvect.fit_transform(corpus)\n",
    "\n",
    "print(\"There are %d sentences in this corpus\"%(X.shape[0]))\n",
    "print('The number of the different words is :', X.shape[1], \", and ... they are:\")\n",
    "print(cvect.get_feature_names())"
   ]
  },
  {
   "cell_type": "markdown",
   "metadata": {},
   "source": [
    "- Firstly, they will count how many `different words` in this sentence, here are `11`; noting that both of the words \"`document`\" and \"`Document`\" will be changed to the lower scripts : `\"Document\"`.\n",
    "- Only the second document contains the `word has frequencies = 2`, it is `document`.\n",
    "- The `unique` words in the corpus will be arranged to the `English alphabet characters`; starting at the word \"**a**nd\" and ending by \"**y**ours\".\n",
    "- The `punctuation` (such as `\"?\"` or `\"!\"`, ....) will be ignored.\n",
    "\n"
   ]
  },
  {
   "cell_type": "code",
   "execution_count": 3,
   "metadata": {},
   "outputs": [
    {
     "data": {
      "text/plain": [
       "array([[0, 1, 1, 1, 0, 0, 0, 1, 0, 1, 0],\n",
       "       [0, 2, 0, 1, 0, 0, 1, 1, 0, 1, 0],\n",
       "       [1, 0, 0, 1, 0, 1, 0, 1, 1, 1, 0],\n",
       "       [0, 1, 1, 1, 0, 0, 0, 1, 0, 1, 0],\n",
       "       [0, 1, 0, 1, 1, 0, 0, 0, 0, 1, 1]], dtype=int64)"
      ]
     },
     "execution_count": 3,
     "metadata": {},
     "output_type": "execute_result"
    }
   ],
   "source": [
    "from sklearn.pipeline import Pipeline\n",
    "from sklearn.feature_extraction.text import TfidfTransformer\n",
    "\n",
    "vocabulary = cvect.get_feature_names()\n",
    "pipe = Pipeline([('count', CountVectorizer(vocabulary = vocabulary, min_df=2, max_df=0.5, ngram_range=(1,2))),\n",
    "                 ('tfid', TfidfTransformer(smooth_idf=False, use_idf=True))]).fit(corpus)\n",
    "pipe['count'].transform(corpus).toarray()"
   ]
  },
  {
   "cell_type": "markdown",
   "metadata": {},
   "source": [
    "Next, **compute the `IDF` values.** (An `idf` is constant per corpus, and **accounts** for the ratio of documents that include the word.)"
   ]
  },
  {
   "cell_type": "code",
   "execution_count": 4,
   "metadata": {},
   "outputs": [
    {
     "data": {
      "text/html": [
       "<div>\n",
       "<style scoped>\n",
       "    .dataframe tbody tr th:only-of-type {\n",
       "        vertical-align: middle;\n",
       "    }\n",
       "\n",
       "    .dataframe tbody tr th {\n",
       "        vertical-align: top;\n",
       "    }\n",
       "\n",
       "    .dataframe thead th {\n",
       "        text-align: right;\n",
       "    }\n",
       "</style>\n",
       "<table border=\"1\" class=\"dataframe\">\n",
       "  <thead>\n",
       "    <tr style=\"text-align: right;\">\n",
       "      <th></th>\n",
       "      <th>fea_names</th>\n",
       "      <th>idf_smooth_False)</th>\n",
       "    </tr>\n",
       "  </thead>\n",
       "  <tbody>\n",
       "    <tr>\n",
       "      <th>0</th>\n",
       "      <td>and</td>\n",
       "      <td>2.609438</td>\n",
       "    </tr>\n",
       "    <tr>\n",
       "      <th>1</th>\n",
       "      <td>document</td>\n",
       "      <td>1.223144</td>\n",
       "    </tr>\n",
       "    <tr>\n",
       "      <th>2</th>\n",
       "      <td>first</td>\n",
       "      <td>1.916291</td>\n",
       "    </tr>\n",
       "    <tr>\n",
       "      <th>3</th>\n",
       "      <td>is</td>\n",
       "      <td>1.000000</td>\n",
       "    </tr>\n",
       "    <tr>\n",
       "      <th>4</th>\n",
       "      <td>not</td>\n",
       "      <td>2.609438</td>\n",
       "    </tr>\n",
       "    <tr>\n",
       "      <th>5</th>\n",
       "      <td>one</td>\n",
       "      <td>2.609438</td>\n",
       "    </tr>\n",
       "    <tr>\n",
       "      <th>6</th>\n",
       "      <td>second</td>\n",
       "      <td>2.609438</td>\n",
       "    </tr>\n",
       "    <tr>\n",
       "      <th>7</th>\n",
       "      <td>the</td>\n",
       "      <td>1.223144</td>\n",
       "    </tr>\n",
       "    <tr>\n",
       "      <th>8</th>\n",
       "      <td>third</td>\n",
       "      <td>2.609438</td>\n",
       "    </tr>\n",
       "    <tr>\n",
       "      <th>9</th>\n",
       "      <td>this</td>\n",
       "      <td>1.000000</td>\n",
       "    </tr>\n",
       "    <tr>\n",
       "      <th>10</th>\n",
       "      <td>yours</td>\n",
       "      <td>2.609438</td>\n",
       "    </tr>\n",
       "  </tbody>\n",
       "</table>\n",
       "</div>"
      ],
      "text/plain": [
       "   fea_names  idf_smooth_False)\n",
       "0        and           2.609438\n",
       "1   document           1.223144\n",
       "2      first           1.916291\n",
       "3         is           1.000000\n",
       "4        not           2.609438\n",
       "5        one           2.609438\n",
       "6     second           2.609438\n",
       "7        the           1.223144\n",
       "8      third           2.609438\n",
       "9       this           1.000000\n",
       "10     yours           2.609438"
      ]
     },
     "execution_count": 4,
     "metadata": {},
     "output_type": "execute_result"
    }
   ],
   "source": [
    "table = pd.DataFrame({\"fea_names\": cvect.get_feature_names(), \"idf_smooth_False)\": pipe['tfid'].idf_})\n",
    "table"
   ]
  },
  {
   "cell_type": "markdown",
   "metadata": {},
   "source": [
    "According to https://github.com/scikit-learn/scikit-learn/blob/master/sklearn/feature_extraction/text.py#L987-L992 and https://scikit-learn.org/stable/modules/generated/sklearn.feature_extraction.text.TfidfTransformer.html?highlight=tfidf#sklearn.feature_extraction.text.TfidfTransformer\n",
    "\n",
    "- If `smooth_idf=False`); the formula that is used to compute the `tf-idf` for a term t of a document `d` in a document set is \n",
    "\n",
    "                                    tf-idf(w, d) = tf(w, d) * idf(w), \n",
    "\n",
    "and the `idf` is computed as \n",
    "\n",
    "                                        idf(w) = log [ n / df(w) ] + 1, \n",
    "\n",
    "where `n` is the `total number of documents in the corpus` and `df(t) is the document frequency of w`; the document frequency is the number of documents in the document set that contain the word `w`. \n",
    "\n",
    "The effect of adding `“1”` to the idf in the equation above is that terms with zero idf, i.e., terms that occur in all documents in a training set, ***will not be entirely ignored***. \n",
    "\n",
    "For example: \n",
    "1. The word `\"is\"`. We have a corpus of `5 sentences/ documents` and all of them contain this word (`\"is\"`); so \n",
    "\n",
    "                                    idf(\"is\") = log(5 / 5) + 1 = 1\n",
    "\n",
    "2. The word `\"and\"`, we have\n",
    "\n",
    "                                    idf(\"and\") = log(5 / 1) + 1 appox 2.609 \n",
    "                                \n",
    "Noting that, the `log` here is `natural logarithm (default)`.\n",
    "\n",
    "***Note that the `idf` formula above differs from the standard textbook notation that defines the idf as***\n",
    "\n",
    "                                    idf(w) = log [ n / (df(w) + 1) ].\n",
    "\n",
    "- If `smooth_idf=True` (the default), the constant `“1”` is added to the numerator and denominator of the idf as if an extra document was seen containing every term in the collection exactly once, which ***prevents zero divisions:*** \n",
    "\n",
    "                                    idf(d, t) = log [ (1 + n) / (1 + df(d, t)) ] + 1."
   ]
  },
  {
   "cell_type": "code",
   "execution_count": 5,
   "metadata": {},
   "outputs": [
    {
     "data": {
      "text/html": [
       "<div>\n",
       "<style scoped>\n",
       "    .dataframe tbody tr th:only-of-type {\n",
       "        vertical-align: middle;\n",
       "    }\n",
       "\n",
       "    .dataframe tbody tr th {\n",
       "        vertical-align: top;\n",
       "    }\n",
       "\n",
       "    .dataframe thead th {\n",
       "        text-align: right;\n",
       "    }\n",
       "</style>\n",
       "<table border=\"1\" class=\"dataframe\">\n",
       "  <thead>\n",
       "    <tr style=\"text-align: right;\">\n",
       "      <th></th>\n",
       "      <th>fea_names</th>\n",
       "      <th>idf_smooth_False)</th>\n",
       "      <th>idf_smooth_True</th>\n",
       "    </tr>\n",
       "  </thead>\n",
       "  <tbody>\n",
       "    <tr>\n",
       "      <th>0</th>\n",
       "      <td>and</td>\n",
       "      <td>2.609438</td>\n",
       "      <td>2.098612</td>\n",
       "    </tr>\n",
       "    <tr>\n",
       "      <th>1</th>\n",
       "      <td>document</td>\n",
       "      <td>1.223144</td>\n",
       "      <td>1.182322</td>\n",
       "    </tr>\n",
       "    <tr>\n",
       "      <th>2</th>\n",
       "      <td>first</td>\n",
       "      <td>1.916291</td>\n",
       "      <td>1.693147</td>\n",
       "    </tr>\n",
       "    <tr>\n",
       "      <th>3</th>\n",
       "      <td>is</td>\n",
       "      <td>1.000000</td>\n",
       "      <td>1.000000</td>\n",
       "    </tr>\n",
       "    <tr>\n",
       "      <th>4</th>\n",
       "      <td>not</td>\n",
       "      <td>2.609438</td>\n",
       "      <td>2.098612</td>\n",
       "    </tr>\n",
       "    <tr>\n",
       "      <th>5</th>\n",
       "      <td>one</td>\n",
       "      <td>2.609438</td>\n",
       "      <td>2.098612</td>\n",
       "    </tr>\n",
       "    <tr>\n",
       "      <th>6</th>\n",
       "      <td>second</td>\n",
       "      <td>2.609438</td>\n",
       "      <td>2.098612</td>\n",
       "    </tr>\n",
       "    <tr>\n",
       "      <th>7</th>\n",
       "      <td>the</td>\n",
       "      <td>1.223144</td>\n",
       "      <td>1.182322</td>\n",
       "    </tr>\n",
       "    <tr>\n",
       "      <th>8</th>\n",
       "      <td>third</td>\n",
       "      <td>2.609438</td>\n",
       "      <td>2.098612</td>\n",
       "    </tr>\n",
       "    <tr>\n",
       "      <th>9</th>\n",
       "      <td>this</td>\n",
       "      <td>1.000000</td>\n",
       "      <td>1.000000</td>\n",
       "    </tr>\n",
       "    <tr>\n",
       "      <th>10</th>\n",
       "      <td>yours</td>\n",
       "      <td>2.609438</td>\n",
       "      <td>2.098612</td>\n",
       "    </tr>\n",
       "  </tbody>\n",
       "</table>\n",
       "</div>"
      ],
      "text/plain": [
       "   fea_names  idf_smooth_False)  idf_smooth_True\n",
       "0        and           2.609438         2.098612\n",
       "1   document           1.223144         1.182322\n",
       "2      first           1.916291         1.693147\n",
       "3         is           1.000000         1.000000\n",
       "4        not           2.609438         2.098612\n",
       "5        one           2.609438         2.098612\n",
       "6     second           2.609438         2.098612\n",
       "7        the           1.223144         1.182322\n",
       "8      third           2.609438         2.098612\n",
       "9       this           1.000000         1.000000\n",
       "10     yours           2.609438         2.098612"
      ]
     },
     "execution_count": 5,
     "metadata": {},
     "output_type": "execute_result"
    }
   ],
   "source": [
    "pipe = Pipeline([('count', CountVectorizer(vocabulary = vocabulary, \n",
    "                                           min_df=2, max_df=0.5, ngram_range=(1,2))),\n",
    "                 ('tfid', TfidfTransformer(smooth_idf=True, use_idf=True))]).fit(corpus)\n",
    "\n",
    "table[\"idf_smooth_True\"] = pipe['tfid'].idf_\n",
    "table"
   ]
  },
  {
   "cell_type": "code",
   "execution_count": 6,
   "metadata": {},
   "outputs": [
    {
     "data": {
      "text/plain": [
       "(2.6094379124341005, 2.09861228866811)"
      ]
     },
     "execution_count": 6,
     "metadata": {},
     "output_type": "execute_result"
    }
   ],
   "source": [
    "## verify the idf_value of the word \"and\"\n",
    "\n",
    "np.log(5) + 1, np.log((1 + 5)/(1+1))+1"
   ]
  },
  {
   "cell_type": "markdown",
   "metadata": {},
   "source": [
    "**Compute the TFIDF score**, depend on how we compute the `idf_values`, the `tfidf` is defined by\n",
    "\n",
    "                                tf-idf(w, d) = tf(w, d) * idf(w)\n",
    "\n",
    "Recall that; the meaning of `TF` is **`term frequency`** and here defined by *the number of times that word `w` occurs in document `d`*\n",
    "\n",
    "For example; in the first sentence, `d = 1`; the word `\"and\"` is not in this sentence, so `tf(\"and\", d=1) = 0`.\n",
    "\n",
    "See the table bellow."
   ]
  },
  {
   "cell_type": "code",
   "execution_count": 7,
   "metadata": {},
   "outputs": [
    {
     "data": {
      "text/html": [
       "<div>\n",
       "<style scoped>\n",
       "    .dataframe tbody tr th:only-of-type {\n",
       "        vertical-align: middle;\n",
       "    }\n",
       "\n",
       "    .dataframe tbody tr th {\n",
       "        vertical-align: top;\n",
       "    }\n",
       "\n",
       "    .dataframe thead th {\n",
       "        text-align: right;\n",
       "    }\n",
       "</style>\n",
       "<table border=\"1\" class=\"dataframe\">\n",
       "  <thead>\n",
       "    <tr style=\"text-align: right;\">\n",
       "      <th></th>\n",
       "      <th>fea_names</th>\n",
       "      <th>idf_smooth_False)</th>\n",
       "      <th>idf_smooth_True</th>\n",
       "      <th>tfidf_smooth_True_1st_doc</th>\n",
       "      <th>tfidf_smooth_True_2nd_doc</th>\n",
       "      <th>tfidf_smooth_True_3rd_doc</th>\n",
       "    </tr>\n",
       "  </thead>\n",
       "  <tbody>\n",
       "    <tr>\n",
       "      <th>0</th>\n",
       "      <td>and</td>\n",
       "      <td>2.609438</td>\n",
       "      <td>2.098612</td>\n",
       "      <td>0.000000</td>\n",
       "      <td>0.000000</td>\n",
       "      <td>0.514923</td>\n",
       "    </tr>\n",
       "    <tr>\n",
       "      <th>1</th>\n",
       "      <td>document</td>\n",
       "      <td>1.223144</td>\n",
       "      <td>1.182322</td>\n",
       "      <td>0.427120</td>\n",
       "      <td>0.646126</td>\n",
       "      <td>0.000000</td>\n",
       "    </tr>\n",
       "    <tr>\n",
       "      <th>2</th>\n",
       "      <td>first</td>\n",
       "      <td>1.916291</td>\n",
       "      <td>1.693147</td>\n",
       "      <td>0.611659</td>\n",
       "      <td>0.000000</td>\n",
       "      <td>0.000000</td>\n",
       "    </tr>\n",
       "    <tr>\n",
       "      <th>3</th>\n",
       "      <td>is</td>\n",
       "      <td>1.000000</td>\n",
       "      <td>1.000000</td>\n",
       "      <td>0.361255</td>\n",
       "      <td>0.273244</td>\n",
       "      <td>0.245363</td>\n",
       "    </tr>\n",
       "    <tr>\n",
       "      <th>4</th>\n",
       "      <td>not</td>\n",
       "      <td>2.609438</td>\n",
       "      <td>2.098612</td>\n",
       "      <td>0.000000</td>\n",
       "      <td>0.000000</td>\n",
       "      <td>0.000000</td>\n",
       "    </tr>\n",
       "    <tr>\n",
       "      <th>5</th>\n",
       "      <td>one</td>\n",
       "      <td>2.609438</td>\n",
       "      <td>2.098612</td>\n",
       "      <td>0.000000</td>\n",
       "      <td>0.000000</td>\n",
       "      <td>0.514923</td>\n",
       "    </tr>\n",
       "    <tr>\n",
       "      <th>6</th>\n",
       "      <td>second</td>\n",
       "      <td>2.609438</td>\n",
       "      <td>2.098612</td>\n",
       "      <td>0.000000</td>\n",
       "      <td>0.573434</td>\n",
       "      <td>0.000000</td>\n",
       "    </tr>\n",
       "    <tr>\n",
       "      <th>7</th>\n",
       "      <td>the</td>\n",
       "      <td>1.223144</td>\n",
       "      <td>1.182322</td>\n",
       "      <td>0.427120</td>\n",
       "      <td>0.323063</td>\n",
       "      <td>0.290099</td>\n",
       "    </tr>\n",
       "    <tr>\n",
       "      <th>8</th>\n",
       "      <td>third</td>\n",
       "      <td>2.609438</td>\n",
       "      <td>2.098612</td>\n",
       "      <td>0.000000</td>\n",
       "      <td>0.000000</td>\n",
       "      <td>0.514923</td>\n",
       "    </tr>\n",
       "    <tr>\n",
       "      <th>9</th>\n",
       "      <td>this</td>\n",
       "      <td>1.000000</td>\n",
       "      <td>1.000000</td>\n",
       "      <td>0.361255</td>\n",
       "      <td>0.273244</td>\n",
       "      <td>0.245363</td>\n",
       "    </tr>\n",
       "    <tr>\n",
       "      <th>10</th>\n",
       "      <td>yours</td>\n",
       "      <td>2.609438</td>\n",
       "      <td>2.098612</td>\n",
       "      <td>0.000000</td>\n",
       "      <td>0.000000</td>\n",
       "      <td>0.000000</td>\n",
       "    </tr>\n",
       "  </tbody>\n",
       "</table>\n",
       "</div>"
      ],
      "text/plain": [
       "   fea_names  idf_smooth_False)  idf_smooth_True  tfidf_smooth_True_1st_doc  \\\n",
       "0        and           2.609438         2.098612                   0.000000   \n",
       "1   document           1.223144         1.182322                   0.427120   \n",
       "2      first           1.916291         1.693147                   0.611659   \n",
       "3         is           1.000000         1.000000                   0.361255   \n",
       "4        not           2.609438         2.098612                   0.000000   \n",
       "5        one           2.609438         2.098612                   0.000000   \n",
       "6     second           2.609438         2.098612                   0.000000   \n",
       "7        the           1.223144         1.182322                   0.427120   \n",
       "8      third           2.609438         2.098612                   0.000000   \n",
       "9       this           1.000000         1.000000                   0.361255   \n",
       "10     yours           2.609438         2.098612                   0.000000   \n",
       "\n",
       "    tfidf_smooth_True_2nd_doc  tfidf_smooth_True_3rd_doc  \n",
       "0                    0.000000                   0.514923  \n",
       "1                    0.646126                   0.000000  \n",
       "2                    0.000000                   0.000000  \n",
       "3                    0.273244                   0.245363  \n",
       "4                    0.000000                   0.000000  \n",
       "5                    0.000000                   0.514923  \n",
       "6                    0.573434                   0.000000  \n",
       "7                    0.323063                   0.290099  \n",
       "8                    0.000000                   0.514923  \n",
       "9                    0.273244                   0.245363  \n",
       "10                   0.000000                   0.000000  "
      ]
     },
     "execution_count": 7,
     "metadata": {},
     "output_type": "execute_result"
    }
   ],
   "source": [
    "vocabulary = cvect.get_feature_names()\n",
    "pipe = Pipeline([('count', CountVectorizer(vocabulary = vocabulary, \n",
    "                                           min_df=2, max_df=0.5, ngram_range=(1,2))),\n",
    "                 ('tfid', TfidfTransformer(smooth_idf=True, use_idf = True))]).fit(corpus)\n",
    "\n",
    "count_vector = pipe['count'].transform(corpus).toarray()  ## equivalent with CountVectorizer.fit_transform(corpus)\n",
    "\n",
    "tf_idf_vector = pipe['tfid'].transform(count_vector)\n",
    "tf_idf_vector[0].toarray()\n",
    "table[\"tfidf_smooth_True_1st_doc\"] = tf_idf_vector[0].T.toarray()\n",
    "table[\"tfidf_smooth_True_2nd_doc\"] = tf_idf_vector[1].T.toarray()\n",
    "table[\"tfidf_smooth_True_3rd_doc\"] = tf_idf_vector[2].T.toarray()\n",
    "table"
   ]
  },
  {
   "cell_type": "markdown",
   "metadata": {},
   "source": [
    "### 1.2. `TfidfVectorizer` is equivalent to the first method"
   ]
  },
  {
   "cell_type": "code",
   "execution_count": 8,
   "metadata": {},
   "outputs": [
    {
     "name": "stdout",
     "output_type": "stream",
     "text": [
      "['and', 'document', 'first', 'is', 'not', 'one', 'second', 'the', 'third', 'this', 'yours']\n"
     ]
    }
   ],
   "source": [
    "from sklearn.feature_extraction.text import TfidfVectorizer\n",
    "\n",
    "tf = TfidfVectorizer()\n",
    "tfidf_matrix =  tf.fit_transform(corpus)\n",
    "feature_names = tf.get_feature_names()\n",
    "print(feature_names)"
   ]
  },
  {
   "cell_type": "markdown",
   "metadata": {},
   "source": [
    "**Viewing the `tfidf-score` by using `TfidfVectorizer`; first looking at the `tfidf-values` in the first sentences.**"
   ]
  },
  {
   "cell_type": "code",
   "execution_count": 9,
   "metadata": {},
   "outputs": [
    {
     "data": {
      "text/plain": [
       "array([0.        , 0.42712001, 0.6116585 , 0.36125537, 0.        ,\n",
       "       0.        , 0.        , 0.42712001, 0.        , 0.36125537,\n",
       "       0.        ])"
      ]
     },
     "execution_count": 9,
     "metadata": {},
     "output_type": "execute_result"
    }
   ],
   "source": [
    "tfidf_vectorizer = TfidfVectorizer(use_idf=True)\n",
    "tfidf_vectorizer_vectors=tfidf_vectorizer.fit_transform(corpus)\n",
    "M = tfidf_vectorizer_vectors.toarray()\n",
    "M[0,:]"
   ]
  },
  {
   "cell_type": "markdown",
   "metadata": {},
   "source": [
    "**tf-idf values using Tfidfvectorizer**"
   ]
  },
  {
   "cell_type": "code",
   "execution_count": 10,
   "metadata": {},
   "outputs": [
    {
     "data": {
      "text/html": [
       "<div>\n",
       "<style scoped>\n",
       "    .dataframe tbody tr th:only-of-type {\n",
       "        vertical-align: middle;\n",
       "    }\n",
       "\n",
       "    .dataframe tbody tr th {\n",
       "        vertical-align: top;\n",
       "    }\n",
       "\n",
       "    .dataframe thead th {\n",
       "        text-align: right;\n",
       "    }\n",
       "</style>\n",
       "<table border=\"1\" class=\"dataframe\">\n",
       "  <thead>\n",
       "    <tr style=\"text-align: right;\">\n",
       "      <th></th>\n",
       "      <th>fea_names</th>\n",
       "      <th>tfidf_TfVec_1st_doc</th>\n",
       "      <th>tfidf_TfVec_2nd_doc</th>\n",
       "      <th>tfidf_TfVec_3rd_doc</th>\n",
       "    </tr>\n",
       "  </thead>\n",
       "  <tbody>\n",
       "    <tr>\n",
       "      <th>0</th>\n",
       "      <td>and</td>\n",
       "      <td>0.000000</td>\n",
       "      <td>0.000000</td>\n",
       "      <td>0.514923</td>\n",
       "    </tr>\n",
       "    <tr>\n",
       "      <th>1</th>\n",
       "      <td>document</td>\n",
       "      <td>0.427120</td>\n",
       "      <td>0.646126</td>\n",
       "      <td>0.000000</td>\n",
       "    </tr>\n",
       "    <tr>\n",
       "      <th>2</th>\n",
       "      <td>first</td>\n",
       "      <td>0.611659</td>\n",
       "      <td>0.000000</td>\n",
       "      <td>0.000000</td>\n",
       "    </tr>\n",
       "    <tr>\n",
       "      <th>3</th>\n",
       "      <td>is</td>\n",
       "      <td>0.361255</td>\n",
       "      <td>0.273244</td>\n",
       "      <td>0.245363</td>\n",
       "    </tr>\n",
       "    <tr>\n",
       "      <th>4</th>\n",
       "      <td>not</td>\n",
       "      <td>0.000000</td>\n",
       "      <td>0.000000</td>\n",
       "      <td>0.000000</td>\n",
       "    </tr>\n",
       "    <tr>\n",
       "      <th>5</th>\n",
       "      <td>one</td>\n",
       "      <td>0.000000</td>\n",
       "      <td>0.000000</td>\n",
       "      <td>0.514923</td>\n",
       "    </tr>\n",
       "    <tr>\n",
       "      <th>6</th>\n",
       "      <td>second</td>\n",
       "      <td>0.000000</td>\n",
       "      <td>0.573434</td>\n",
       "      <td>0.000000</td>\n",
       "    </tr>\n",
       "    <tr>\n",
       "      <th>7</th>\n",
       "      <td>the</td>\n",
       "      <td>0.427120</td>\n",
       "      <td>0.323063</td>\n",
       "      <td>0.290099</td>\n",
       "    </tr>\n",
       "    <tr>\n",
       "      <th>8</th>\n",
       "      <td>third</td>\n",
       "      <td>0.000000</td>\n",
       "      <td>0.000000</td>\n",
       "      <td>0.514923</td>\n",
       "    </tr>\n",
       "    <tr>\n",
       "      <th>9</th>\n",
       "      <td>this</td>\n",
       "      <td>0.361255</td>\n",
       "      <td>0.273244</td>\n",
       "      <td>0.245363</td>\n",
       "    </tr>\n",
       "    <tr>\n",
       "      <th>10</th>\n",
       "      <td>yours</td>\n",
       "      <td>0.000000</td>\n",
       "      <td>0.000000</td>\n",
       "      <td>0.000000</td>\n",
       "    </tr>\n",
       "  </tbody>\n",
       "</table>\n",
       "</div>"
      ],
      "text/plain": [
       "   fea_names  tfidf_TfVec_1st_doc  tfidf_TfVec_2nd_doc  tfidf_TfVec_3rd_doc\n",
       "0        and             0.000000             0.000000             0.514923\n",
       "1   document             0.427120             0.646126             0.000000\n",
       "2      first             0.611659             0.000000             0.000000\n",
       "3         is             0.361255             0.273244             0.245363\n",
       "4        not             0.000000             0.000000             0.000000\n",
       "5        one             0.000000             0.000000             0.514923\n",
       "6     second             0.000000             0.573434             0.000000\n",
       "7        the             0.427120             0.323063             0.290099\n",
       "8      third             0.000000             0.000000             0.514923\n",
       "9       this             0.361255             0.273244             0.245363\n",
       "10     yours             0.000000             0.000000             0.000000"
      ]
     },
     "execution_count": 10,
     "metadata": {},
     "output_type": "execute_result"
    }
   ],
   "source": [
    "pd.DataFrame({\"fea_names\": feature_names, \n",
    "              \"tfidf_TfVec_1st_doc\": M[0, :], \n",
    "              \"tfidf_TfVec_2nd_doc\": M[1, :],\n",
    "              \"tfidf_TfVec_3rd_doc\": M[2, :]})"
   ]
  },
  {
   "cell_type": "markdown",
   "metadata": {},
   "source": [
    "In a summary, the main difference between the two modules are as follows:\n",
    "\n",
    "- With `Tfidftransformer` you will systematically compute word counts using `CountVectorizer` and then compute the `Inverse Document Frequency (IDF)` values and only then compute the `Tf-idf scores`.\n",
    "\n",
    "- With `Tfidfvectorizer` on the contrary, **you will do all three steps at once**. It computes the word counts, IDF values, and Tf-idf scores all using the same dataset.\n",
    "\n",
    "**When to use what?**\n",
    "So now you may be wondering, why you should use more steps than necessary if you can get everything done in two steps. Well, there are cases where you want to use Tfidftransformer over Tfidfvectorizer and it is sometimes not that obvious. Here is a general guideline:\n",
    "\n",
    "- If you need the `term frequency` (term count) vectors for `different tasks`, use `Tfidftransformer`.\n",
    "- If you need to compute `tf-idf scores` on documents within your `“training”` dataset, use `Tfidfvectorizer`.\n",
    "- If you need to compute `tf-idf scores` on documents **`outside your “training”`** dataset, use either one, both will work.\n",
    "\n",
    "-----------------------------------"
   ]
  },
  {
   "cell_type": "code",
   "execution_count": 11,
   "metadata": {},
   "outputs": [],
   "source": [
    "import nltk\n",
    "from nltk import bigrams\n",
    "import itertools"
   ]
  },
  {
   "cell_type": "markdown",
   "metadata": {},
   "source": [
    "However, the `disadvantage` of both preceding methods is that it **only focuses on the frequency of occurrence of a word, leading to it having almost no contextual meaning**. Using **`co-occurrence matrix`** can solves that problem partially. \n",
    "\n",
    "------------------------\n",
    "\n",
    "### 1.3. Co-occurrence Matrix.\n",
    "\n",
    "------------------------\n",
    "\n",
    "**Definition.** `Co-occurrence matrix`, is a symmetric square matrix, each row or column will be the vector representing the corresponding word; it is measuring `co-occurrences` of `features` within a `user-defined context`. \n",
    "\n",
    "The `context` can be defined as a document or a `window` within a collection of documents, with an `optional vector of weights` applied to the co-occurrence counts.\n",
    "\n",
    "------------------------\n",
    "\n",
    "Hence, **`Co-occurrence Matrix`** has the ***advantage of preserving the semantic relationship between words, built on the number of occurrences of word pairs in the `Context Window`***. \n",
    "\n",
    "\n",
    "`A Context Window` is determined by its size and direction, the following table is an example of the `Context Window` with `size = 1`. \n",
    "- Given a text_data:\n",
    "\n",
    "            draft_text = [[\"I\", \"love\", \"you\", \"and\", \"hers\"], \n",
    "                          [\"Don't\", \"worried\", \"just\", \"kidding\"], \n",
    "                           [\"I\", \"love\", \"NLP\"],\n",
    "                           [\"I\", \"love\", \"Machine\", \"Learning\", \"and\", \"Mathematics\"]]\n",
    "\n",
    "\n",
    "- We want to create the matrix $X$ such that $X_{i, j}$ represents how often `word_i` appears in `context_of_word_j`. For example, there are 3 times word `word_i = \"love\"` is defined by the words `word_j = \"I\"` in these `context_sentences`: \"`I love` you and hers\", \"`I love` NLP\" and \"`I love` Machine Learning and Mathematics\".\n",
    "\n",
    "$$ X_{\\text{(\"I\", \"love\")}} = X_{\\text{(\"love\", \"I\")}} = 3 $$"
   ]
  },
  {
   "cell_type": "code",
   "execution_count": 12,
   "metadata": {},
   "outputs": [
    {
     "data": {
      "text/html": [
       "<div>\n",
       "<style scoped>\n",
       "    .dataframe tbody tr th:only-of-type {\n",
       "        vertical-align: middle;\n",
       "    }\n",
       "\n",
       "    .dataframe tbody tr th {\n",
       "        vertical-align: top;\n",
       "    }\n",
       "\n",
       "    .dataframe thead th {\n",
       "        text-align: right;\n",
       "    }\n",
       "</style>\n",
       "<table border=\"1\" class=\"dataframe\">\n",
       "  <thead>\n",
       "    <tr style=\"text-align: right;\">\n",
       "      <th></th>\n",
       "      <th>NLP</th>\n",
       "      <th>Don't</th>\n",
       "      <th>I</th>\n",
       "      <th>just</th>\n",
       "      <th>Mathematics</th>\n",
       "      <th>love</th>\n",
       "      <th>and</th>\n",
       "      <th>hers</th>\n",
       "      <th>kidding</th>\n",
       "      <th>Learning</th>\n",
       "      <th>Machine</th>\n",
       "      <th>worried</th>\n",
       "      <th>you</th>\n",
       "    </tr>\n",
       "  </thead>\n",
       "  <tbody>\n",
       "    <tr>\n",
       "      <th>NLP</th>\n",
       "      <td>0.0</td>\n",
       "      <td>0.0</td>\n",
       "      <td>1.0</td>\n",
       "      <td>0.0</td>\n",
       "      <td>0.0</td>\n",
       "      <td>1.0</td>\n",
       "      <td>0.0</td>\n",
       "      <td>0.0</td>\n",
       "      <td>0.0</td>\n",
       "      <td>0.0</td>\n",
       "      <td>0.0</td>\n",
       "      <td>0.0</td>\n",
       "      <td>0.0</td>\n",
       "    </tr>\n",
       "    <tr>\n",
       "      <th>Don't</th>\n",
       "      <td>0.0</td>\n",
       "      <td>0.0</td>\n",
       "      <td>0.0</td>\n",
       "      <td>0.0</td>\n",
       "      <td>0.0</td>\n",
       "      <td>0.0</td>\n",
       "      <td>0.0</td>\n",
       "      <td>1.0</td>\n",
       "      <td>0.0</td>\n",
       "      <td>0.0</td>\n",
       "      <td>0.0</td>\n",
       "      <td>1.0</td>\n",
       "      <td>0.0</td>\n",
       "    </tr>\n",
       "    <tr>\n",
       "      <th>I</th>\n",
       "      <td>1.0</td>\n",
       "      <td>0.0</td>\n",
       "      <td>0.0</td>\n",
       "      <td>0.0</td>\n",
       "      <td>0.0</td>\n",
       "      <td>3.0</td>\n",
       "      <td>0.0</td>\n",
       "      <td>0.0</td>\n",
       "      <td>1.0</td>\n",
       "      <td>0.0</td>\n",
       "      <td>0.0</td>\n",
       "      <td>0.0</td>\n",
       "      <td>0.0</td>\n",
       "    </tr>\n",
       "    <tr>\n",
       "      <th>just</th>\n",
       "      <td>0.0</td>\n",
       "      <td>0.0</td>\n",
       "      <td>0.0</td>\n",
       "      <td>0.0</td>\n",
       "      <td>0.0</td>\n",
       "      <td>0.0</td>\n",
       "      <td>0.0</td>\n",
       "      <td>0.0</td>\n",
       "      <td>1.0</td>\n",
       "      <td>0.0</td>\n",
       "      <td>0.0</td>\n",
       "      <td>1.0</td>\n",
       "      <td>0.0</td>\n",
       "    </tr>\n",
       "    <tr>\n",
       "      <th>Mathematics</th>\n",
       "      <td>0.0</td>\n",
       "      <td>0.0</td>\n",
       "      <td>0.0</td>\n",
       "      <td>0.0</td>\n",
       "      <td>0.0</td>\n",
       "      <td>0.0</td>\n",
       "      <td>1.0</td>\n",
       "      <td>0.0</td>\n",
       "      <td>0.0</td>\n",
       "      <td>0.0</td>\n",
       "      <td>0.0</td>\n",
       "      <td>0.0</td>\n",
       "      <td>0.0</td>\n",
       "    </tr>\n",
       "    <tr>\n",
       "      <th>love</th>\n",
       "      <td>1.0</td>\n",
       "      <td>0.0</td>\n",
       "      <td>3.0</td>\n",
       "      <td>0.0</td>\n",
       "      <td>0.0</td>\n",
       "      <td>0.0</td>\n",
       "      <td>0.0</td>\n",
       "      <td>0.0</td>\n",
       "      <td>0.0</td>\n",
       "      <td>0.0</td>\n",
       "      <td>1.0</td>\n",
       "      <td>0.0</td>\n",
       "      <td>1.0</td>\n",
       "    </tr>\n",
       "    <tr>\n",
       "      <th>and</th>\n",
       "      <td>0.0</td>\n",
       "      <td>0.0</td>\n",
       "      <td>0.0</td>\n",
       "      <td>0.0</td>\n",
       "      <td>1.0</td>\n",
       "      <td>0.0</td>\n",
       "      <td>0.0</td>\n",
       "      <td>1.0</td>\n",
       "      <td>0.0</td>\n",
       "      <td>1.0</td>\n",
       "      <td>0.0</td>\n",
       "      <td>0.0</td>\n",
       "      <td>1.0</td>\n",
       "    </tr>\n",
       "    <tr>\n",
       "      <th>hers</th>\n",
       "      <td>0.0</td>\n",
       "      <td>1.0</td>\n",
       "      <td>0.0</td>\n",
       "      <td>0.0</td>\n",
       "      <td>0.0</td>\n",
       "      <td>0.0</td>\n",
       "      <td>1.0</td>\n",
       "      <td>0.0</td>\n",
       "      <td>0.0</td>\n",
       "      <td>0.0</td>\n",
       "      <td>0.0</td>\n",
       "      <td>0.0</td>\n",
       "      <td>0.0</td>\n",
       "    </tr>\n",
       "    <tr>\n",
       "      <th>kidding</th>\n",
       "      <td>0.0</td>\n",
       "      <td>0.0</td>\n",
       "      <td>1.0</td>\n",
       "      <td>1.0</td>\n",
       "      <td>0.0</td>\n",
       "      <td>0.0</td>\n",
       "      <td>0.0</td>\n",
       "      <td>0.0</td>\n",
       "      <td>0.0</td>\n",
       "      <td>0.0</td>\n",
       "      <td>0.0</td>\n",
       "      <td>0.0</td>\n",
       "      <td>0.0</td>\n",
       "    </tr>\n",
       "    <tr>\n",
       "      <th>Learning</th>\n",
       "      <td>0.0</td>\n",
       "      <td>0.0</td>\n",
       "      <td>0.0</td>\n",
       "      <td>0.0</td>\n",
       "      <td>0.0</td>\n",
       "      <td>0.0</td>\n",
       "      <td>1.0</td>\n",
       "      <td>0.0</td>\n",
       "      <td>0.0</td>\n",
       "      <td>0.0</td>\n",
       "      <td>1.0</td>\n",
       "      <td>0.0</td>\n",
       "      <td>0.0</td>\n",
       "    </tr>\n",
       "    <tr>\n",
       "      <th>Machine</th>\n",
       "      <td>0.0</td>\n",
       "      <td>0.0</td>\n",
       "      <td>0.0</td>\n",
       "      <td>0.0</td>\n",
       "      <td>0.0</td>\n",
       "      <td>1.0</td>\n",
       "      <td>0.0</td>\n",
       "      <td>0.0</td>\n",
       "      <td>0.0</td>\n",
       "      <td>1.0</td>\n",
       "      <td>0.0</td>\n",
       "      <td>0.0</td>\n",
       "      <td>0.0</td>\n",
       "    </tr>\n",
       "    <tr>\n",
       "      <th>worried</th>\n",
       "      <td>0.0</td>\n",
       "      <td>1.0</td>\n",
       "      <td>0.0</td>\n",
       "      <td>1.0</td>\n",
       "      <td>0.0</td>\n",
       "      <td>0.0</td>\n",
       "      <td>0.0</td>\n",
       "      <td>0.0</td>\n",
       "      <td>0.0</td>\n",
       "      <td>0.0</td>\n",
       "      <td>0.0</td>\n",
       "      <td>0.0</td>\n",
       "      <td>0.0</td>\n",
       "    </tr>\n",
       "    <tr>\n",
       "      <th>you</th>\n",
       "      <td>0.0</td>\n",
       "      <td>0.0</td>\n",
       "      <td>0.0</td>\n",
       "      <td>0.0</td>\n",
       "      <td>0.0</td>\n",
       "      <td>1.0</td>\n",
       "      <td>1.0</td>\n",
       "      <td>0.0</td>\n",
       "      <td>0.0</td>\n",
       "      <td>0.0</td>\n",
       "      <td>0.0</td>\n",
       "      <td>0.0</td>\n",
       "      <td>0.0</td>\n",
       "    </tr>\n",
       "  </tbody>\n",
       "</table>\n",
       "</div>"
      ],
      "text/plain": [
       "             NLP  Don't    I  just  Mathematics  love  and  hers  kidding  \\\n",
       "NLP          0.0    0.0  1.0   0.0          0.0   1.0  0.0   0.0      0.0   \n",
       "Don't        0.0    0.0  0.0   0.0          0.0   0.0  0.0   1.0      0.0   \n",
       "I            1.0    0.0  0.0   0.0          0.0   3.0  0.0   0.0      1.0   \n",
       "just         0.0    0.0  0.0   0.0          0.0   0.0  0.0   0.0      1.0   \n",
       "Mathematics  0.0    0.0  0.0   0.0          0.0   0.0  1.0   0.0      0.0   \n",
       "love         1.0    0.0  3.0   0.0          0.0   0.0  0.0   0.0      0.0   \n",
       "and          0.0    0.0  0.0   0.0          1.0   0.0  0.0   1.0      0.0   \n",
       "hers         0.0    1.0  0.0   0.0          0.0   0.0  1.0   0.0      0.0   \n",
       "kidding      0.0    0.0  1.0   1.0          0.0   0.0  0.0   0.0      0.0   \n",
       "Learning     0.0    0.0  0.0   0.0          0.0   0.0  1.0   0.0      0.0   \n",
       "Machine      0.0    0.0  0.0   0.0          0.0   1.0  0.0   0.0      0.0   \n",
       "worried      0.0    1.0  0.0   1.0          0.0   0.0  0.0   0.0      0.0   \n",
       "you          0.0    0.0  0.0   0.0          0.0   1.0  1.0   0.0      0.0   \n",
       "\n",
       "             Learning  Machine  worried  you  \n",
       "NLP               0.0      0.0      0.0  0.0  \n",
       "Don't             0.0      0.0      1.0  0.0  \n",
       "I                 0.0      0.0      0.0  0.0  \n",
       "just              0.0      0.0      1.0  0.0  \n",
       "Mathematics       0.0      0.0      0.0  0.0  \n",
       "love              0.0      1.0      0.0  1.0  \n",
       "and               1.0      0.0      0.0  1.0  \n",
       "hers              0.0      0.0      0.0  0.0  \n",
       "kidding           0.0      0.0      0.0  0.0  \n",
       "Learning          0.0      1.0      0.0  0.0  \n",
       "Machine           1.0      0.0      0.0  0.0  \n",
       "worried           0.0      0.0      0.0  0.0  \n",
       "you               0.0      0.0      0.0  0.0  "
      ]
     },
     "execution_count": 12,
     "metadata": {},
     "output_type": "execute_result"
    }
   ],
   "source": [
    "## ------------------------- hiden code --------------------------------------"
   ]
  },
  {
   "cell_type": "markdown",
   "metadata": {},
   "source": [
    "with the `window_size = 1`, then using `bi-grams` is a `sensible way` to build this matrix. The `detailed-discussion` on **`Bi-grams` and `N-grams`** will be introduced later in this link:\n",
    "\n",
    "https://github.com/Nhan121/Lectures_notes-teaching-in-VN-/blob/master/Statistics/NLP/N-grams%20NLP.ipynb\n",
    "\n",
    "**Quick reminder: Bigrams**\n",
    "\n",
    "- A `bigram` or `digram` is a sequence of 2 `adjacent elements` from a `string of tokens`, which are typically `letters`, `syllables`, or `words`.\n",
    "\n",
    "-  The `frequency distribution` of every bigram in a string is commonly used for simple `statistical analysis of text` in many `applications`, such as `computational linguistics`, `cryptography`, `speech recognition`.\n",
    "\n",
    "- Bigrams help provide the `conditional probability` of a `token` given the **`preceding token`**, when the relation of the conditional probability is applied:\n",
    "\n",
    "$$ \\mathbb{P}\\left( \\text{token}_{k} \\left\\vert \\text{token}_{k-1}\\right. \\right) = \\dfrac{\\mathbb{P}\\left( \\text{token}_{k}, \\text{token}_{k-1} \\right)}{ \\mathbb{P} \\left( \\text{token}_{k-1} \\right)} $$\n",
    "\n",
    "For example, the sentence `\"The office building was destroyed yesterday\"` contains 5 `bigrams`:\n",
    "        \n",
    "        the office, office building, building was, was destroyed, destroyed yesterday."
   ]
  },
  {
   "cell_type": "code",
   "execution_count": 13,
   "metadata": {},
   "outputs": [
    {
     "data": {
      "text/plain": [
       "[('The', 'office'),\n",
       " ('office', 'building'),\n",
       " ('building', 'was'),\n",
       " ('was', 'destroyed'),\n",
       " ('destroyed', 'yesterday')]"
      ]
     },
     "execution_count": 13,
     "metadata": {},
     "output_type": "execute_result"
    }
   ],
   "source": [
    "sentence = \"The office building was destroyed yesterday\"\n",
    "bi_grams = list(bigrams(sentence.split()))\n",
    "bi_grams"
   ]
  },
  {
   "cell_type": "markdown",
   "metadata": {},
   "source": [
    "Before build-in a function for the `co_occurrence_matrix`; we will use a few classes and packages; Firstly \n",
    "\n",
    "**Insight coding**\n",
    "Use `itertools.chain.from_iterable`"
   ]
  },
  {
   "cell_type": "code",
   "execution_count": 14,
   "metadata": {},
   "outputs": [
    {
     "data": {
      "text/plain": [
       "<itertools.chain at 0x2388e64b4c8>"
      ]
     },
     "execution_count": 14,
     "metadata": {},
     "output_type": "execute_result"
    }
   ],
   "source": [
    "draft_text = [[\"I\", \"love\", \"you\", \"and\", \"hers\"], \n",
    "              [\"Don't\", \"worried\", \"just\", \"kidding\"], \n",
    "              [\"I\", \"love\", \"NLP\"],\n",
    "              [\"I\", \"love\", \"Machine\", \"Learning\", \"and\", \"Mathematics\"]]\n",
    "\n",
    "z = itertools.chain.from_iterable(draft_text)\n",
    "z"
   ]
  },
  {
   "cell_type": "markdown",
   "metadata": {},
   "source": [
    "**put the `object: itertools.chain` to list, then we get an 1D vector**"
   ]
  },
  {
   "cell_type": "code",
   "execution_count": 15,
   "metadata": {},
   "outputs": [
    {
     "name": "stdout",
     "output_type": "stream",
     "text": [
      "['I', 'love', 'you', 'and', 'hers', \"Don't\", 'worried', 'just', 'kidding', 'I', 'love', 'NLP', 'I', 'love', 'Machine', 'Learning', 'and', 'Mathematics']\n"
     ]
    }
   ],
   "source": [
    "data = list(z)\n",
    "print(data)"
   ]
  },
  {
   "cell_type": "markdown",
   "metadata": {},
   "source": [
    "**Create the vocabulary_list, set and indexes**"
   ]
  },
  {
   "cell_type": "code",
   "execution_count": 16,
   "metadata": {},
   "outputs": [
    {
     "name": "stdout",
     "output_type": "stream",
     "text": [
      "['I', 'love', 'you', 'and', 'hers', \"Don't\", 'worried', 'just', 'kidding', 'I', 'love', 'NLP', 'I', 'love', 'Machine', 'Learning', 'and', 'Mathematics']\n"
     ]
    }
   ],
   "source": [
    "vocab = set(data)\n",
    "vocab = list(data)\n",
    "print(vocab)"
   ]
  },
  {
   "cell_type": "code",
   "execution_count": 17,
   "metadata": {},
   "outputs": [
    {
     "data": {
      "text/plain": [
       "18"
      ]
     },
     "execution_count": 17,
     "metadata": {},
     "output_type": "execute_result"
    }
   ],
   "source": [
    "len(vocab)"
   ]
  },
  {
   "cell_type": "code",
   "execution_count": 18,
   "metadata": {},
   "outputs": [
    {
     "data": {
      "text/plain": [
       "{'I': 12,\n",
       " 'love': 13,\n",
       " 'you': 2,\n",
       " 'and': 16,\n",
       " 'hers': 4,\n",
       " \"Don't\": 5,\n",
       " 'worried': 6,\n",
       " 'just': 7,\n",
       " 'kidding': 8,\n",
       " 'NLP': 11,\n",
       " 'Machine': 14,\n",
       " 'Learning': 15,\n",
       " 'Mathematics': 17}"
      ]
     },
     "execution_count": 18,
     "metadata": {},
     "output_type": "execute_result"
    }
   ],
   "source": [
    "vocab_index = {word: i for i, word in enumerate(vocab)}\n",
    "vocab_index"
   ]
  },
  {
   "cell_type": "markdown",
   "metadata": {},
   "source": [
    "This meant the last time the word appear in the whole sentences. \n",
    "\n",
    "For example the last time the word `Mathematics` appears in the data is `18 (index = 17 in python)` while the word `love` is `14 (index = 13)`; you is `3 (index = 2)`.\n",
    "\n",
    "-------------------------------\n",
    "\n",
    "**Create bigrams from all words in corpus**"
   ]
  },
  {
   "cell_type": "code",
   "execution_count": 19,
   "metadata": {},
   "outputs": [
    {
     "name": "stdout",
     "output_type": "stream",
     "text": [
      "[('I', 'love'), ('love', 'you'), ('you', 'and'), ('and', 'hers'), ('hers', \"Don't\"), (\"Don't\", 'worried'), ('worried', 'just'), ('just', 'kidding'), ('kidding', 'I'), ('I', 'love'), ('love', 'NLP'), ('NLP', 'I'), ('I', 'love'), ('love', 'Machine'), ('Machine', 'Learning'), ('Learning', 'and'), ('and', 'Mathematics')]\n"
     ]
    }
   ],
   "source": [
    "bi_grams = list(bigrams(data))\n",
    "print(bi_grams)"
   ]
  },
  {
   "cell_type": "markdown",
   "metadata": {},
   "source": [
    "***Count the bigrams***"
   ]
  },
  {
   "cell_type": "code",
   "execution_count": 20,
   "metadata": {},
   "outputs": [
    {
     "data": {
      "text/plain": [
       "[(('I', 'love'), 3),\n",
       " (('love', 'you'), 1),\n",
       " (('you', 'and'), 1),\n",
       " (('and', 'hers'), 1),\n",
       " (('hers', \"Don't\"), 1),\n",
       " ((\"Don't\", 'worried'), 1),\n",
       " (('worried', 'just'), 1),\n",
       " (('just', 'kidding'), 1),\n",
       " (('kidding', 'I'), 1),\n",
       " (('love', 'NLP'), 1),\n",
       " (('NLP', 'I'), 1),\n",
       " (('love', 'Machine'), 1),\n",
       " (('Machine', 'Learning'), 1),\n",
       " (('Learning', 'and'), 1),\n",
       " (('and', 'Mathematics'), 1)]"
      ]
     },
     "execution_count": 20,
     "metadata": {},
     "output_type": "execute_result"
    }
   ],
   "source": [
    "bigram_freq = nltk.FreqDist(bi_grams).most_common(len(bi_grams))\n",
    "bigram_freq"
   ]
  },
  {
   "cell_type": "markdown",
   "metadata": {},
   "source": [
    "Noting that; the `bigram_freq` now is the list of the `tupple`. \n",
    "\n",
    "For instance; the first element in this list is the `tupple: (('I', 'love'), 3)` is combined by the `set: ('I', 'love')` and an  `integer: 3`"
   ]
  },
  {
   "cell_type": "code",
   "execution_count": 21,
   "metadata": {},
   "outputs": [
    {
     "data": {
      "text/plain": [
       "(list, tuple, int)"
      ]
     },
     "execution_count": 21,
     "metadata": {},
     "output_type": "execute_result"
    }
   ],
   "source": [
    "type(bigram_freq), type(bigram_freq[1]), type(bigram_freq[0][1])"
   ]
  },
  {
   "cell_type": "markdown",
   "metadata": {},
   "source": [
    "NOW, assigning the `current(word) = bigram[0][1]` and the `previous(preceding word) = bigram[0][0]` for each iterations `bigram in bigram_freq`"
   ]
  },
  {
   "cell_type": "code",
   "execution_count": 22,
   "metadata": {},
   "outputs": [
    {
     "name": "stdout",
     "output_type": "stream",
     "text": [
      "(('I', 'love'), 3) \t\t love \t\t I \t\t 3\n",
      "(('love', 'you'), 1) \t\t you \t\t love \t\t 1\n",
      "(('you', 'and'), 1) \t\t and \t\t you \t\t 1\n",
      "(('and', 'hers'), 1) \t\t hers \t\t and \t\t 1\n",
      "(('hers', \"Don't\"), 1) \t\t Don't \t\t hers \t\t 1\n",
      "((\"Don't\", 'worried'), 1) \t\t worried \t\t Don't \t\t 1\n",
      "(('worried', 'just'), 1) \t\t just \t\t worried \t\t 1\n",
      "(('just', 'kidding'), 1) \t\t kidding \t\t just \t\t 1\n",
      "(('kidding', 'I'), 1) \t\t I \t\t kidding \t\t 1\n",
      "(('love', 'NLP'), 1) \t\t NLP \t\t love \t\t 1\n",
      "(('NLP', 'I'), 1) \t\t I \t\t NLP \t\t 1\n",
      "(('love', 'Machine'), 1) \t\t Machine \t\t love \t\t 1\n",
      "(('Machine', 'Learning'), 1) \t\t Learning \t\t Machine \t\t 1\n",
      "(('Learning', 'and'), 1) \t\t and \t\t Learning \t\t 1\n",
      "(('and', 'Mathematics'), 1) \t\t Mathematics \t\t and \t\t 1\n"
     ]
    }
   ],
   "source": [
    "co_occurrence_matrix = np.zeros((len(vocab), len(vocab)))\n",
    "for bigram in bigram_freq:\n",
    "    current = bigram[0][1]   ## row 1 ([0]); col 2 ([1]) of the first set in the 2D-set\n",
    "    previous = bigram[0][0]  ## row 1, col 1\n",
    "    count = bigram[1]        ## the values in the 2nd set\n",
    "    print(bigram, '\\t\\t', current, \"\\t\\t\", previous, \"\\t\\t\",count)"
   ]
  },
  {
   "cell_type": "markdown",
   "metadata": {},
   "source": [
    "**Build-in the function**"
   ]
  },
  {
   "cell_type": "code",
   "execution_count": 23,
   "metadata": {},
   "outputs": [
    {
     "data": {
      "text/html": [
       "<div>\n",
       "<style scoped>\n",
       "    .dataframe tbody tr th:only-of-type {\n",
       "        vertical-align: middle;\n",
       "    }\n",
       "\n",
       "    .dataframe tbody tr th {\n",
       "        vertical-align: top;\n",
       "    }\n",
       "\n",
       "    .dataframe thead th {\n",
       "        text-align: right;\n",
       "    }\n",
       "</style>\n",
       "<table border=\"1\" class=\"dataframe\">\n",
       "  <thead>\n",
       "    <tr style=\"text-align: right;\">\n",
       "      <th></th>\n",
       "      <th>NLP</th>\n",
       "      <th>Don't</th>\n",
       "      <th>I</th>\n",
       "      <th>just</th>\n",
       "      <th>Mathematics</th>\n",
       "      <th>love</th>\n",
       "      <th>and</th>\n",
       "      <th>hers</th>\n",
       "      <th>kidding</th>\n",
       "      <th>Learning</th>\n",
       "      <th>Machine</th>\n",
       "      <th>worried</th>\n",
       "      <th>you</th>\n",
       "    </tr>\n",
       "  </thead>\n",
       "  <tbody>\n",
       "    <tr>\n",
       "      <th>NLP</th>\n",
       "      <td>0.0</td>\n",
       "      <td>0.0</td>\n",
       "      <td>1.0</td>\n",
       "      <td>0.0</td>\n",
       "      <td>0.0</td>\n",
       "      <td>1.0</td>\n",
       "      <td>0.0</td>\n",
       "      <td>0.0</td>\n",
       "      <td>0.0</td>\n",
       "      <td>0.0</td>\n",
       "      <td>0.0</td>\n",
       "      <td>0.0</td>\n",
       "      <td>0.0</td>\n",
       "    </tr>\n",
       "    <tr>\n",
       "      <th>Don't</th>\n",
       "      <td>0.0</td>\n",
       "      <td>0.0</td>\n",
       "      <td>0.0</td>\n",
       "      <td>0.0</td>\n",
       "      <td>0.0</td>\n",
       "      <td>0.0</td>\n",
       "      <td>0.0</td>\n",
       "      <td>1.0</td>\n",
       "      <td>0.0</td>\n",
       "      <td>0.0</td>\n",
       "      <td>0.0</td>\n",
       "      <td>1.0</td>\n",
       "      <td>0.0</td>\n",
       "    </tr>\n",
       "    <tr>\n",
       "      <th>I</th>\n",
       "      <td>1.0</td>\n",
       "      <td>0.0</td>\n",
       "      <td>0.0</td>\n",
       "      <td>0.0</td>\n",
       "      <td>0.0</td>\n",
       "      <td>3.0</td>\n",
       "      <td>0.0</td>\n",
       "      <td>0.0</td>\n",
       "      <td>1.0</td>\n",
       "      <td>0.0</td>\n",
       "      <td>0.0</td>\n",
       "      <td>0.0</td>\n",
       "      <td>0.0</td>\n",
       "    </tr>\n",
       "    <tr>\n",
       "      <th>just</th>\n",
       "      <td>0.0</td>\n",
       "      <td>0.0</td>\n",
       "      <td>0.0</td>\n",
       "      <td>0.0</td>\n",
       "      <td>0.0</td>\n",
       "      <td>0.0</td>\n",
       "      <td>0.0</td>\n",
       "      <td>0.0</td>\n",
       "      <td>1.0</td>\n",
       "      <td>0.0</td>\n",
       "      <td>0.0</td>\n",
       "      <td>1.0</td>\n",
       "      <td>0.0</td>\n",
       "    </tr>\n",
       "    <tr>\n",
       "      <th>Mathematics</th>\n",
       "      <td>0.0</td>\n",
       "      <td>0.0</td>\n",
       "      <td>0.0</td>\n",
       "      <td>0.0</td>\n",
       "      <td>0.0</td>\n",
       "      <td>0.0</td>\n",
       "      <td>1.0</td>\n",
       "      <td>0.0</td>\n",
       "      <td>0.0</td>\n",
       "      <td>0.0</td>\n",
       "      <td>0.0</td>\n",
       "      <td>0.0</td>\n",
       "      <td>0.0</td>\n",
       "    </tr>\n",
       "    <tr>\n",
       "      <th>love</th>\n",
       "      <td>1.0</td>\n",
       "      <td>0.0</td>\n",
       "      <td>3.0</td>\n",
       "      <td>0.0</td>\n",
       "      <td>0.0</td>\n",
       "      <td>0.0</td>\n",
       "      <td>0.0</td>\n",
       "      <td>0.0</td>\n",
       "      <td>0.0</td>\n",
       "      <td>0.0</td>\n",
       "      <td>1.0</td>\n",
       "      <td>0.0</td>\n",
       "      <td>1.0</td>\n",
       "    </tr>\n",
       "    <tr>\n",
       "      <th>and</th>\n",
       "      <td>0.0</td>\n",
       "      <td>0.0</td>\n",
       "      <td>0.0</td>\n",
       "      <td>0.0</td>\n",
       "      <td>1.0</td>\n",
       "      <td>0.0</td>\n",
       "      <td>0.0</td>\n",
       "      <td>1.0</td>\n",
       "      <td>0.0</td>\n",
       "      <td>1.0</td>\n",
       "      <td>0.0</td>\n",
       "      <td>0.0</td>\n",
       "      <td>1.0</td>\n",
       "    </tr>\n",
       "    <tr>\n",
       "      <th>hers</th>\n",
       "      <td>0.0</td>\n",
       "      <td>1.0</td>\n",
       "      <td>0.0</td>\n",
       "      <td>0.0</td>\n",
       "      <td>0.0</td>\n",
       "      <td>0.0</td>\n",
       "      <td>1.0</td>\n",
       "      <td>0.0</td>\n",
       "      <td>0.0</td>\n",
       "      <td>0.0</td>\n",
       "      <td>0.0</td>\n",
       "      <td>0.0</td>\n",
       "      <td>0.0</td>\n",
       "    </tr>\n",
       "    <tr>\n",
       "      <th>kidding</th>\n",
       "      <td>0.0</td>\n",
       "      <td>0.0</td>\n",
       "      <td>1.0</td>\n",
       "      <td>1.0</td>\n",
       "      <td>0.0</td>\n",
       "      <td>0.0</td>\n",
       "      <td>0.0</td>\n",
       "      <td>0.0</td>\n",
       "      <td>0.0</td>\n",
       "      <td>0.0</td>\n",
       "      <td>0.0</td>\n",
       "      <td>0.0</td>\n",
       "      <td>0.0</td>\n",
       "    </tr>\n",
       "    <tr>\n",
       "      <th>Learning</th>\n",
       "      <td>0.0</td>\n",
       "      <td>0.0</td>\n",
       "      <td>0.0</td>\n",
       "      <td>0.0</td>\n",
       "      <td>0.0</td>\n",
       "      <td>0.0</td>\n",
       "      <td>1.0</td>\n",
       "      <td>0.0</td>\n",
       "      <td>0.0</td>\n",
       "      <td>0.0</td>\n",
       "      <td>1.0</td>\n",
       "      <td>0.0</td>\n",
       "      <td>0.0</td>\n",
       "    </tr>\n",
       "    <tr>\n",
       "      <th>Machine</th>\n",
       "      <td>0.0</td>\n",
       "      <td>0.0</td>\n",
       "      <td>0.0</td>\n",
       "      <td>0.0</td>\n",
       "      <td>0.0</td>\n",
       "      <td>1.0</td>\n",
       "      <td>0.0</td>\n",
       "      <td>0.0</td>\n",
       "      <td>0.0</td>\n",
       "      <td>1.0</td>\n",
       "      <td>0.0</td>\n",
       "      <td>0.0</td>\n",
       "      <td>0.0</td>\n",
       "    </tr>\n",
       "    <tr>\n",
       "      <th>worried</th>\n",
       "      <td>0.0</td>\n",
       "      <td>1.0</td>\n",
       "      <td>0.0</td>\n",
       "      <td>1.0</td>\n",
       "      <td>0.0</td>\n",
       "      <td>0.0</td>\n",
       "      <td>0.0</td>\n",
       "      <td>0.0</td>\n",
       "      <td>0.0</td>\n",
       "      <td>0.0</td>\n",
       "      <td>0.0</td>\n",
       "      <td>0.0</td>\n",
       "      <td>0.0</td>\n",
       "    </tr>\n",
       "    <tr>\n",
       "      <th>you</th>\n",
       "      <td>0.0</td>\n",
       "      <td>0.0</td>\n",
       "      <td>0.0</td>\n",
       "      <td>0.0</td>\n",
       "      <td>0.0</td>\n",
       "      <td>1.0</td>\n",
       "      <td>1.0</td>\n",
       "      <td>0.0</td>\n",
       "      <td>0.0</td>\n",
       "      <td>0.0</td>\n",
       "      <td>0.0</td>\n",
       "      <td>0.0</td>\n",
       "      <td>0.0</td>\n",
       "    </tr>\n",
       "  </tbody>\n",
       "</table>\n",
       "</div>"
      ],
      "text/plain": [
       "             NLP  Don't    I  just  Mathematics  love  and  hers  kidding  \\\n",
       "NLP          0.0    0.0  1.0   0.0          0.0   1.0  0.0   0.0      0.0   \n",
       "Don't        0.0    0.0  0.0   0.0          0.0   0.0  0.0   1.0      0.0   \n",
       "I            1.0    0.0  0.0   0.0          0.0   3.0  0.0   0.0      1.0   \n",
       "just         0.0    0.0  0.0   0.0          0.0   0.0  0.0   0.0      1.0   \n",
       "Mathematics  0.0    0.0  0.0   0.0          0.0   0.0  1.0   0.0      0.0   \n",
       "love         1.0    0.0  3.0   0.0          0.0   0.0  0.0   0.0      0.0   \n",
       "and          0.0    0.0  0.0   0.0          1.0   0.0  0.0   1.0      0.0   \n",
       "hers         0.0    1.0  0.0   0.0          0.0   0.0  1.0   0.0      0.0   \n",
       "kidding      0.0    0.0  1.0   1.0          0.0   0.0  0.0   0.0      0.0   \n",
       "Learning     0.0    0.0  0.0   0.0          0.0   0.0  1.0   0.0      0.0   \n",
       "Machine      0.0    0.0  0.0   0.0          0.0   1.0  0.0   0.0      0.0   \n",
       "worried      0.0    1.0  0.0   1.0          0.0   0.0  0.0   0.0      0.0   \n",
       "you          0.0    0.0  0.0   0.0          0.0   1.0  1.0   0.0      0.0   \n",
       "\n",
       "             Learning  Machine  worried  you  \n",
       "NLP               0.0      0.0      0.0  0.0  \n",
       "Don't             0.0      0.0      1.0  0.0  \n",
       "I                 0.0      0.0      0.0  0.0  \n",
       "just              0.0      0.0      1.0  0.0  \n",
       "Mathematics       0.0      0.0      0.0  0.0  \n",
       "love              0.0      1.0      0.0  1.0  \n",
       "and               1.0      0.0      0.0  1.0  \n",
       "hers              0.0      0.0      0.0  0.0  \n",
       "kidding           0.0      0.0      0.0  0.0  \n",
       "Learning          0.0      1.0      0.0  0.0  \n",
       "Machine           1.0      0.0      0.0  0.0  \n",
       "worried           0.0      0.0      0.0  0.0  \n",
       "you               0.0      0.0      0.0  0.0  "
      ]
     },
     "execution_count": 23,
     "metadata": {},
     "output_type": "execute_result"
    }
   ],
   "source": [
    "def generate_co_occurrence_matrix(corpus):\n",
    "    \n",
    "    ## Create the vocabulary_list, set and indexes\n",
    "    vocab = set(corpus)\n",
    "    vocab = list(vocab)\n",
    "    vocab_index = {word: i for i, word in enumerate(vocab)}\n",
    " \n",
    "    # Create bigrams from all words in corpus\n",
    "    bi_grams = list(bigrams(corpus))\n",
    " \n",
    "    # Frequency distribution of bigrams ((word1, word2), num_occurrences)\n",
    "    bigram_freq = nltk.FreqDist(bi_grams).most_common(len(bi_grams))\n",
    " \n",
    "    # Initialise co-occurrence matrix\n",
    "    # co_occurrence_matrix[current][previous]\n",
    "    co_occurrence_matrix = np.zeros((len(vocab), len(vocab)))\n",
    " \n",
    "    # Loop through the bigrams taking the current and previous word (one-way),\n",
    "    # and the number of occurrences of the bigram.\n",
    "    for bigram in bigram_freq:\n",
    "        current = bigram[0][1]\n",
    "        previous = bigram[0][0]\n",
    "        count = bigram[1]\n",
    "        pos_current = vocab_index[current]\n",
    "        pos_previous = vocab_index[previous]\n",
    "        co_occurrence_matrix[pos_current][pos_previous] = count\n",
    "    \n",
    "    # create a symetric matrix by combining it to its transpose to get the two-way\n",
    "    co_occurrence_matrix = np.matrix(co_occurrence_matrix + co_occurrence_matrix.T)\n",
    " \n",
    "    # return the matrix and the index\n",
    "    return co_occurrence_matrix, vocab_index\n",
    "\n",
    "draft_data = list(itertools.chain.from_iterable(draft_text))\n",
    "matrix, vocab_index = generate_co_occurrence_matrix(draft_data)\n",
    "  \n",
    "data_matrix = pd.DataFrame(matrix, index=vocab_index,\n",
    "                             columns=vocab_index)\n",
    "data_matrix"
   ]
  },
  {
   "cell_type": "code",
   "execution_count": 24,
   "metadata": {},
   "outputs": [
    {
     "data": {
      "text/html": [
       "<div>\n",
       "<style scoped>\n",
       "    .dataframe tbody tr th:only-of-type {\n",
       "        vertical-align: middle;\n",
       "    }\n",
       "\n",
       "    .dataframe tbody tr th {\n",
       "        vertical-align: top;\n",
       "    }\n",
       "\n",
       "    .dataframe thead th {\n",
       "        text-align: right;\n",
       "    }\n",
       "</style>\n",
       "<table border=\"1\" class=\"dataframe\">\n",
       "  <thead>\n",
       "    <tr style=\"text-align: right;\">\n",
       "      <th></th>\n",
       "      <th>I</th>\n",
       "      <th>love</th>\n",
       "      <th>and</th>\n",
       "      <th>dog</th>\n",
       "      <th>.</th>\n",
       "      <th>hate</th>\n",
       "      <th>cat</th>\n",
       "      <th>Biology</th>\n",
       "      <th>Math</th>\n",
       "      <th>snake</th>\n",
       "      <th>Programming</th>\n",
       "    </tr>\n",
       "  </thead>\n",
       "  <tbody>\n",
       "    <tr>\n",
       "      <th>I</th>\n",
       "      <td>0.0</td>\n",
       "      <td>4.0</td>\n",
       "      <td>0.0</td>\n",
       "      <td>0.0</td>\n",
       "      <td>3.0</td>\n",
       "      <td>2.0</td>\n",
       "      <td>0.0</td>\n",
       "      <td>2.0</td>\n",
       "      <td>0.0</td>\n",
       "      <td>0.0</td>\n",
       "      <td>0.0</td>\n",
       "    </tr>\n",
       "    <tr>\n",
       "      <th>love</th>\n",
       "      <td>4.0</td>\n",
       "      <td>0.0</td>\n",
       "      <td>0.0</td>\n",
       "      <td>0.0</td>\n",
       "      <td>0.0</td>\n",
       "      <td>0.0</td>\n",
       "      <td>0.0</td>\n",
       "      <td>1.0</td>\n",
       "      <td>2.0</td>\n",
       "      <td>0.0</td>\n",
       "      <td>1.0</td>\n",
       "    </tr>\n",
       "    <tr>\n",
       "      <th>and</th>\n",
       "      <td>0.0</td>\n",
       "      <td>0.0</td>\n",
       "      <td>0.0</td>\n",
       "      <td>1.0</td>\n",
       "      <td>0.0</td>\n",
       "      <td>0.0</td>\n",
       "      <td>0.0</td>\n",
       "      <td>1.0</td>\n",
       "      <td>1.0</td>\n",
       "      <td>1.0</td>\n",
       "      <td>2.0</td>\n",
       "    </tr>\n",
       "    <tr>\n",
       "      <th>dog</th>\n",
       "      <td>0.0</td>\n",
       "      <td>0.0</td>\n",
       "      <td>1.0</td>\n",
       "      <td>0.0</td>\n",
       "      <td>0.0</td>\n",
       "      <td>1.0</td>\n",
       "      <td>0.0</td>\n",
       "      <td>0.0</td>\n",
       "      <td>0.0</td>\n",
       "      <td>0.0</td>\n",
       "      <td>0.0</td>\n",
       "    </tr>\n",
       "    <tr>\n",
       "      <th>.</th>\n",
       "      <td>3.0</td>\n",
       "      <td>0.0</td>\n",
       "      <td>0.0</td>\n",
       "      <td>0.0</td>\n",
       "      <td>0.0</td>\n",
       "      <td>0.0</td>\n",
       "      <td>1.0</td>\n",
       "      <td>0.0</td>\n",
       "      <td>1.0</td>\n",
       "      <td>0.0</td>\n",
       "      <td>1.0</td>\n",
       "    </tr>\n",
       "    <tr>\n",
       "      <th>hate</th>\n",
       "      <td>2.0</td>\n",
       "      <td>0.0</td>\n",
       "      <td>0.0</td>\n",
       "      <td>1.0</td>\n",
       "      <td>0.0</td>\n",
       "      <td>0.0</td>\n",
       "      <td>1.0</td>\n",
       "      <td>0.0</td>\n",
       "      <td>0.0</td>\n",
       "      <td>0.0</td>\n",
       "      <td>0.0</td>\n",
       "    </tr>\n",
       "    <tr>\n",
       "      <th>cat</th>\n",
       "      <td>0.0</td>\n",
       "      <td>0.0</td>\n",
       "      <td>0.0</td>\n",
       "      <td>0.0</td>\n",
       "      <td>1.0</td>\n",
       "      <td>1.0</td>\n",
       "      <td>0.0</td>\n",
       "      <td>0.0</td>\n",
       "      <td>0.0</td>\n",
       "      <td>0.0</td>\n",
       "      <td>0.0</td>\n",
       "    </tr>\n",
       "    <tr>\n",
       "      <th>Biology</th>\n",
       "      <td>2.0</td>\n",
       "      <td>1.0</td>\n",
       "      <td>1.0</td>\n",
       "      <td>0.0</td>\n",
       "      <td>0.0</td>\n",
       "      <td>0.0</td>\n",
       "      <td>0.0</td>\n",
       "      <td>0.0</td>\n",
       "      <td>0.0</td>\n",
       "      <td>0.0</td>\n",
       "      <td>0.0</td>\n",
       "    </tr>\n",
       "    <tr>\n",
       "      <th>Math</th>\n",
       "      <td>0.0</td>\n",
       "      <td>2.0</td>\n",
       "      <td>1.0</td>\n",
       "      <td>0.0</td>\n",
       "      <td>1.0</td>\n",
       "      <td>0.0</td>\n",
       "      <td>0.0</td>\n",
       "      <td>0.0</td>\n",
       "      <td>0.0</td>\n",
       "      <td>0.0</td>\n",
       "      <td>0.0</td>\n",
       "    </tr>\n",
       "    <tr>\n",
       "      <th>snake</th>\n",
       "      <td>0.0</td>\n",
       "      <td>0.0</td>\n",
       "      <td>1.0</td>\n",
       "      <td>0.0</td>\n",
       "      <td>0.0</td>\n",
       "      <td>0.0</td>\n",
       "      <td>0.0</td>\n",
       "      <td>0.0</td>\n",
       "      <td>0.0</td>\n",
       "      <td>0.0</td>\n",
       "      <td>0.0</td>\n",
       "    </tr>\n",
       "    <tr>\n",
       "      <th>Programming</th>\n",
       "      <td>0.0</td>\n",
       "      <td>1.0</td>\n",
       "      <td>2.0</td>\n",
       "      <td>0.0</td>\n",
       "      <td>1.0</td>\n",
       "      <td>0.0</td>\n",
       "      <td>0.0</td>\n",
       "      <td>0.0</td>\n",
       "      <td>0.0</td>\n",
       "      <td>0.0</td>\n",
       "      <td>0.0</td>\n",
       "    </tr>\n",
       "  </tbody>\n",
       "</table>\n",
       "</div>"
      ],
      "text/plain": [
       "               I  love  and  dog    .  hate  cat  Biology  Math  snake  \\\n",
       "I            0.0   4.0  0.0  0.0  3.0   2.0  0.0      2.0   0.0    0.0   \n",
       "love         4.0   0.0  0.0  0.0  0.0   0.0  0.0      1.0   2.0    0.0   \n",
       "and          0.0   0.0  0.0  1.0  0.0   0.0  0.0      1.0   1.0    1.0   \n",
       "dog          0.0   0.0  1.0  0.0  0.0   1.0  0.0      0.0   0.0    0.0   \n",
       ".            3.0   0.0  0.0  0.0  0.0   0.0  1.0      0.0   1.0    0.0   \n",
       "hate         2.0   0.0  0.0  1.0  0.0   0.0  1.0      0.0   0.0    0.0   \n",
       "cat          0.0   0.0  0.0  0.0  1.0   1.0  0.0      0.0   0.0    0.0   \n",
       "Biology      2.0   1.0  1.0  0.0  0.0   0.0  0.0      0.0   0.0    0.0   \n",
       "Math         0.0   2.0  1.0  0.0  1.0   0.0  0.0      0.0   0.0    0.0   \n",
       "snake        0.0   0.0  1.0  0.0  0.0   0.0  0.0      0.0   0.0    0.0   \n",
       "Programming  0.0   1.0  2.0  0.0  1.0   0.0  0.0      0.0   0.0    0.0   \n",
       "\n",
       "             Programming  \n",
       "I                    0.0  \n",
       "love                 1.0  \n",
       "and                  2.0  \n",
       "dog                  0.0  \n",
       ".                    1.0  \n",
       "hate                 0.0  \n",
       "cat                  0.0  \n",
       "Biology              0.0  \n",
       "Math                 0.0  \n",
       "snake                0.0  \n",
       "Programming          0.0  "
      ]
     },
     "execution_count": 24,
     "metadata": {},
     "output_type": "execute_result"
    }
   ],
   "source": [
    "text = [[\"I\", \"love\", \"Math\", \".\" , \"I\", \"love\", \"Programming\", \".\", \"I\", \"love\", \"Biology\"],\n",
    "         [\"I\", \"love\", \"Math\", \"and\", \"Programming\", \"and\", \"Biology\"],\n",
    "         [\"I\", \"hate\", \"cat\", \".\" , \"I\", \"hate\", \"dog\", \"and\", \"snake\"]]\n",
    "\n",
    "# Create one list using many lists\n",
    "data = list(itertools.chain.from_iterable(text))\n",
    "matrix, vocab_index = generate_co_occurrence_matrix(data)\n",
    "  \n",
    "data_matrix = pd.DataFrame(matrix, index=vocab_index,\n",
    "                             columns=vocab_index)\n",
    "data_matrix"
   ]
  },
  {
   "cell_type": "markdown",
   "metadata": {},
   "source": [
    "- Here the word `‘love’` is defined by the words `‘I’` and `‘Programming’`, meaning that we increment the value both for the `‘I love’` and the `‘love Programming’` co-occurrence. We do that for each window and obtain the preceding `co-occurrence matrix`.\n",
    "\n",
    "- Since `‘Programming’` and `‘Math’` share the same co-occurrence values, they would be placed in the same place; meaning that in this context they mean the same thing (or `‘pretty much’` the same thing). `‘Biology’` would be the closest word to these 2 meaning ‘it has the closest possible meaning but it’s not the same thing’, and so on for every word. The semantic and syntactic relationships generated by this technique are really powerful but it’s computationally expensive since we are talking about a very high-dimensional space. Therefore, we need a technique that reduces dimensionality for us with the least data-loss possible.\n",
    "\n",
    "----------------------------------\n",
    "### Summarizations.\n",
    "\n",
    "#### Advantages\n",
    "- It preserves the `semantic relationship` between words.\n",
    "- It uses `SVD (singular value decomposition)` at its core to reduce the size of vector, which produces more accurate word vector representations than existing methods.\n",
    "- It uses `factorization` which is a `well-defined problem` and can be efficiently solved.\n",
    "- It has to be computed once and can be used anytime once computed. In this sense, it is faster in comparison to others.\n",
    "\n",
    "#### Disadvantage\n",
    "The disadvantage of **`Co-occurrence Matrix (CM)`** is when the `text_data` contains a `large numbers of vocalbularies`; hence it requires huge memory to store the co-occurrence matrix. \n",
    "\n",
    "To make the representation of words clearer and save memory used to store **`CM`**; we have to choose or to remove some unnecessary words (such as **`stopwords`**).\n",
    "\n",
    "--------------------------\n",
    "\n",
    "## 2. Word Embedding: using Prediction Base method\n",
    "\n",
    "In this section, we will study 2 models : `Continuous Bag of Words (CBOW)` and `skip-gram`. Both of them\n",
    "\n",
    "### 2.1. `Continuous Bag of Words (CBOW)`:\n",
    "`CBOW` is learning to predict the word by the context. A context may be single word or multiple word for a given target words.\n",
    "\n",
    "The `CBOW model` architecture tries to predict the current target word (the center word) based on the source context words (surrounding words). \n",
    "\n",
    "------------------------------\n",
    "\n",
    "Considering a simple sentence, `“the office building was destroyed yesterday”`, this can be pairs of (`context_window`, `target_word`) where if we consider a `context window of size = 2`, we have examples like (`[the, building]`, `office`), (`[was, yesterday]`, `destroyed`), (`[office, was]`, `building`) and so on.\n",
    "\n",
    "Thus, the model ***tries to predict the target_word based on the context_window words***."
   ]
  },
  {
   "cell_type": "code",
   "execution_count": 25,
   "metadata": {},
   "outputs": [
    {
     "data": {
      "image/png": "[encoded data removed]",
      "text/plain": [
       "<IPython.core.display.Image object>"
      ]
     },
     "metadata": {
      "image/png": {
       "unconfined": true,
       "width": 590
      }
     },
     "output_type": "display_data"
    }
   ],
   "source": [
    "from IPython.core.display import Image, display\n",
    "\n",
    "display(Image(r\"C:\\Users\\Admin\\Desktop\\Nhan_pro\\Data\\cbow1.png\", width=590, unconfined=True))\n",
    "# https://github.com/Nhan121/Kaggle-6-first-projects/blob/master/NLP_Text_Classification/image_illustration/cbow1.png"
   ]
  },
  {
   "cell_type": "markdown",
   "metadata": {},
   "source": [
    "**Describe problem using 3 layers: `Input`; `hidden (Lambda layer)` & `output`**\n",
    "\n",
    "We breakdown the way this model works in these steps:\n",
    "- $W_i$ is weight matrix between `input layer` and `hidden layer` of size `[V * N]`\n",
    "- $W'$ is weight matrix between hidden layer and output layer of size `[N * V]`\n",
    "\n",
    "Step 1) We need pairs which consist of a `target centre word` $x_c$ and surround context words; So we first generate our `one hot word vectors` \n",
    "\n",
    "                            (x (c−m) , . . . , x (c−1) , x (c+1) , . . . , x (c+m) )\n",
    "            \n",
    "for the input context of size m. where x(c) is the center or target word that we want to predict. we have `C = 2m` one hot word vector of size `[1 * V]`. So, our `input layer` size is `[C * V]`; the `hidden layer` is an $N$-dimensional vector $\\textbf{h}$; and the `output layer` is output word in the training example which is also `one-hot encoded`. \n",
    "\n",
    "The one-hot encoded input vectors are connected to the hidden layer via a weight matrix and the `hidden layer` is connected to the output layer via a $N \\times V$ wieght matrix $W'$.\n",
    "\n",
    "Step 2) **[Forward Propagation]** Now we take average of these $2m $ vectors, shaped `[1 * N]` to evaluate the `output` of the `hidden layer` \n",
    "$$ \\textbf{h} = \\dfrac{1}{2m} W \\circ \\left( \\sum_{i=1}^C x_i \\right) := \\dfrac{1}{C} \\sum_{i=1}^C \\textbf{v}_{\\text{w}_i}^T $$\n",
    "\n",
    "where $\\textbf{v}_{\\text{w}_i}^T$ is the `vector representation` of the `input word` $\\text{w}_i$ (from the `input matrix` $W$).\n",
    "\n",
    "Then compute the `inputs to each node in the output layer` $$ u_j = \\textbf{v}'^T_{\\textbf{w}_j} \\circ \\textbf{h} $$\n",
    "\n",
    "where $\\textbf{v}'_{\\textbf{w}_j}$ is the $j^{th}$ column of the `output matrix` $W'$\n",
    "\n",
    "Step 3) Next, Compute the output of the output layer by using the `soft-max` as an activation\n",
    "\n",
    "$$ y_{j}=\\mathbb{P}\\left(\\textbf{w}_{y_{j}}\\left|\\textbf{w}_{y_{1}},\\ldots,\\textbf{w}_{y_{C}}\\right.\\right)=\\dfrac{\\exp\\left(u_{j}\\right)}{\\sum_{k=1}^{V}\\exp\\left(u_{k} \\right)} $$"
   ]
  },
  {
   "cell_type": "markdown",
   "metadata": {},
   "source": [
    "Since `input word` to the model be the `1-hot encoded vectors`, where the `size of the vector` is the `size of the vocabulary`; so we must have a **Quick reminder on `one-hot-encoder`.**  \n",
    "\n",
    "`One-hot representation` is a method in which only one element is 1 and the other elements are 0 in the vector. By setting 1 or 0 for each dimension, it represents `“that word or not”`.\n",
    "\n",
    "Let’s say, for example, we represent the word `“python”` as one-hot representation. Here, the vocabulary which is a set of words is 5 labels or words (`cold, python, hot, ruby, warm`). "
   ]
  },
  {
   "cell_type": "code",
   "execution_count": 26,
   "metadata": {},
   "outputs": [
    {
     "name": "stdout",
     "output_type": "stream",
     "text": [
      "text data:  ['python' 'cold' 'cold' 'warm' 'cold' 'hot' 'ruby' 'cold' 'warm']\n",
      "label for each class: ['cold' 'hot' 'python' 'ruby' 'warm']\n",
      "integer encode: [2 0 0 4 0 1 3 0 4]\n",
      "inverse_trans: [0, 0, 1, 3, 3, 4, 0, 1] = ['cold' 'cold' 'hot' 'ruby' 'ruby' 'warm' 'cold' 'hot']\n",
      "binary encode: \n",
      " [[0. 0. 1. 0. 0.]\n",
      " [1. 0. 0. 0. 0.]\n",
      " [1. 0. 0. 0. 0.]\n",
      " [0. 0. 0. 0. 1.]\n",
      " [1. 0. 0. 0. 0.]\n",
      " [0. 1. 0. 0. 0.]\n",
      " [0. 0. 0. 1. 0.]\n",
      " [1. 0. 0. 0. 0.]\n",
      " [0. 0. 0. 0. 1.]]\n",
      "first word:  ['python']\n",
      "second word:  ['cold']\n",
      "last word:  ['warm']\n"
     ]
    }
   ],
   "source": [
    "from sklearn.preprocessing import LabelEncoder\n",
    "from sklearn.preprocessing import OneHotEncoder\n",
    "\n",
    "data = ['python', 'cold', 'cold', 'warm', 'cold', 'hot', 'ruby', 'cold', 'warm']\n",
    "values = np.array(data)\n",
    "print('text data: ', values)\n",
    "\n",
    "## label_encoder\n",
    "label_encoder = LabelEncoder()\n",
    "integer_encoded = label_encoder.fit_transform(values)\n",
    "print('label for each class:', label_encoder.classes_)\n",
    "print('integer encode:', integer_encoded)\n",
    "print('inverse_trans:', [0, 0, 1, 3, 3, 4, 0, 1], '=', label_encoder.inverse_transform([0, 0, 1, 3, 3, 4, 0, 1]))\n",
    "\n",
    "## one_hot_encoder\n",
    "onehot_encoder = OneHotEncoder(sparse=False)\n",
    "integer_encoded = integer_encoded.reshape(len(integer_encoded), 1)\n",
    "onehot_encoded = onehot_encoder.fit_transform(integer_encoded)\n",
    "print('binary encode: \\n', onehot_encoded)\n",
    "print('first word: ', label_encoder.inverse_transform([np.argmax(onehot_encoded[0, :])]))\n",
    "print('second word: ', label_encoder.inverse_transform([np.argmax(onehot_encoded[1, :])]))\n",
    "print('last word: ', label_encoder.inverse_transform([np.argmax(onehot_encoded[-1, :])]))"
   ]
  },
  {
   "cell_type": "markdown",
   "metadata": {},
   "source": [
    "**Learning the Weight Matrices with Backpropagation.** \n",
    "\n",
    "In the process of learning the wieght matrices $W_j$ and $W'$, we begin with randomly initialized values. We then sequentially feed training examples into our model and observe the error which is some function of the difference between the expected output and the actual output. \n",
    "\n",
    "We then compute the gradient of this error with respect to the elements of both weight matrices and correct them in the direction of this gradient. This general optimization procedure is known as **SGD** but the method by which the gradients are derived is known as **backpropagation**.\n",
    "\n",
    "The first step is to define the loss function. The objective is to maximize the conditional probability of the output word given the input context, therefore our `loss function` as\n",
    "\n",
    "$$ E = -\\log p\\left( \\textbf{w}_{\\text{Output}} \\left| \\textbf{w}_{\\text{Input}} \\right. \\right)=-u_{j_{*}}  \\log\\sum_{k=1}^{V} \\exp \\left( u_{k}\\right) = -\\textbf{v}_{\\textbf{w}_{\\text{Output}}} \\circ \\textbf{h} -\\log \\sum_{k=1}^{V} \\exp \\left( \\textbf{v}_{\\textbf{w}_{k}}^{T} \\circ \\textbf{h}\\right) $$\n",
    "\n",
    "where $j_{*}$ is the `index` of the the **`actual output word`**. The next step is to derive the update equation for the hidden-output layer weights , then derive the weights for the input-hidden layer weights.\n",
    "\n",
    "---------------------------\n",
    "\n",
    "**Updating the `hidden-output layer` weights.**\n",
    "\n",
    "The first step is to compute the derivative of the `loss function` w.r.t the `input` to the node $j^{th}$ in the output layer $u_j$:\n",
    "\n",
    "$$ \\dfrac{\\partial E}{\\partial u_j} = y_j - t_j $$\n",
    "\n",
    "where $t_{j}=\\delta_{jj_{*}}$. This is simply the `prediction error` of node $j$ in the `output layer`. \n",
    "\n",
    "Next, using the `chain rule` to find partial derivaties w.r.t the output-weight,\n",
    "\n",
    "$$ \\dfrac{ \\partial E}{ \\partial\\text{w}_{ij}} = \\dfrac{ \\partial E}{\\partial u_{j}} \\dfrac{\\partial u_{j}}{\\partial \\text{w}_{ij}} = \\left(y_{j}-t_{j}\\right) h_{i} $$\n",
    "\n",
    "Using **SGD** for $\\eta > 0$, we obtain\n",
    "$$ \\text{w}_{ij\\left(\\text{new}\\right)}^{'}=\\text{w}_{ij\\left(\\text{old}\\right)}^{'}-\\eta\\left(y_{j}-t_{j}\\right) h_{i} $$\n",
    "and\n",
    "$$ \\textbf{v}'_{\\textbf{w}_{j\\left(\\text{new}\\right)}} = \\textbf{v}'_{\\textbf{w}_{j\\left(\\text{old}\\right)}}-\\eta\\left(y_{j}-t_{j}\\right)\\textbf{h}. $$"
   ]
  },
  {
   "cell_type": "markdown",
   "metadata": {},
   "source": [
    "**Updating the `input-hidden layer` weights.**\n",
    "\n",
    "By the `chain-rule` again; we calculate the derivative of w.r.t an arbitrary hidden node $h_i$\n",
    "\n",
    "$$ \\dfrac{\\partial E}{\\partial h_{i}}=\\sum_{j=1}^{V}\\dfrac{\\partial E}{\\partial u_{j}}\\dfrac{\\partial u_{j}}{\\partial h_{j}}=\\sum_{j=1}^{V}\\left(y_{j}-t_{j}\\right)\\text{w}'_{ij}$$\n",
    "\n",
    "where the sum is do to the fact that the hidden layer node $h_{i}$ is connected to each node of the output layer and therefore each prediction error must be incorporated. The next step is to compute the derivative $E$ of with respect to an arbitrary input weight \n",
    "\n",
    "$$\\text{w}_{ki}\\dfrac{\\partial E}{\\partial\\text{w}_{ki}}=\\sum_{i=1}^{V}\\dfrac{\\partial E}{\\partial h_{i}}\\dfrac{\\partial h_{i}}{\\partial\\text{w}_{ki}}=\\sum_{i=1}^{V}\\left(\\left(y_{j}-t_{j}\\right)\\text{w}'_{ij}\\right)\\left(C^{-1}x_{k}\\right)$$\n",
    "\n",
    "hence, by SGD again\n",
    "\n",
    "$$\\textbf{v}_{\\textbf{w}_{\\text{Input, c}}}^{\\text{(new)}'} = \\textbf{v}_{\\textbf{w}_{\\text{Input, c}}}^{\\text{(old)}'} - \\eta C^{-1}\\sum_{i=1}^{V}\\left(y_{j}-t_{j}\\right)\\text{w}'_{ij}x_{k}$$\n",
    "\n",
    "**Quick example for `keras.preprocessing.text.Tokenizer`**"
   ]
  },
  {
   "cell_type": "code",
   "execution_count": 27,
   "metadata": {},
   "outputs": [
    {
     "name": "stderr",
     "output_type": "stream",
     "text": [
      "Using TensorFlow backend.\n"
     ]
    },
    {
     "name": "stdout",
     "output_type": "stream",
     "text": [
      "sequences :  [[1, 2, 3, 6, 7]] \n",
      "\n",
      "word_index :  {'the': 1, 'earth': 2, 'is': 3, 'an': 4, 'awesome': 5, 'place': 6, 'live': 7}\n"
     ]
    }
   ],
   "source": [
    "from keras.preprocessing.text import Tokenizer\n",
    "t  = Tokenizer()\n",
    "fit_text = [\"The earth is an awesome place live\"]\n",
    "t.fit_on_texts(fit_text)\n",
    "test_text = [\"The earth is a great place live\"]\n",
    "sequences = t.texts_to_sequences(test_text)\n",
    "print(\"sequences : \", sequences,'\\n')\n",
    "print(\"word_index : \", t.word_index)"
   ]
  },
  {
   "cell_type": "markdown",
   "metadata": {},
   "source": [
    "2 sentences has the `conciding_words`; for example:\n",
    "- `the (index = 1)` is the first word in the first sentence (for fiting model)\n",
    "- `earth (index =2)`\n",
    "- and so on"
   ]
  },
  {
   "cell_type": "markdown",
   "metadata": {},
   "source": [
    "#### Build the corpus vocabulary.\n",
    "\n",
    "To start off, we will first build our corpus vocabulary where we **extract out each unique word from our vocabulary and map a unique numeric identifier to it**."
   ]
  },
  {
   "cell_type": "code",
   "execution_count": 28,
   "metadata": {},
   "outputs": [
    {
     "name": "stdout",
     "output_type": "stream",
     "text": [
      "Vocabulary Size: 61\n"
     ]
    },
    {
     "data": {
      "text/plain": [
       "{'the': 1,\n",
       " 'is': 2,\n",
       " 'this': 3,\n",
       " 'document': 4,\n",
       " 'and': 5,\n",
       " 'earth': 6,\n",
       " 'not': 7,\n",
       " 'of': 8,\n",
       " 'first': 9,\n",
       " 'an': 10,\n",
       " 'place': 11,\n",
       " 'live': 12,\n",
       " 'one': 13,\n",
       " 'without': 14,\n",
       " 'loss': 15,\n",
       " 'generality': 16,\n",
       " 'we': 17,\n",
       " 'consider': 18,\n",
       " 'firstly': 19,\n",
       " 'on': 20,\n",
       " 'unit': 21,\n",
       " 'ball': 22,\n",
       " 'great': 23,\n",
       " 'likewise': 24,\n",
       " 'second': 25,\n",
       " 'awesome': 26,\n",
       " 'third': 27,\n",
       " 'problem': 28,\n",
       " 'does': 29,\n",
       " 'hold': 30,\n",
       " 'slater': 31,\n",
       " 'condition': 32,\n",
       " 'jane': 33,\n",
       " 'fat': 34,\n",
       " 'fast': 35,\n",
       " 'yours': 36,\n",
       " 'laid': 37,\n",
       " 'by': 38,\n",
       " 'her': 39,\n",
       " 'said': 40,\n",
       " 'unto': 41,\n",
       " 'cain': 42,\n",
       " 'in': 43,\n",
       " 'beginning': 44,\n",
       " 'god': 45,\n",
       " 'created': 46,\n",
       " 'heaven': 47,\n",
       " 'next': 48,\n",
       " 'quick': 49,\n",
       " 'brown': 50,\n",
       " 'fox': 51,\n",
       " 'jumps': 52,\n",
       " 'over': 53,\n",
       " 'lazy': 54,\n",
       " 'dog': 55,\n",
       " 'finally': 56,\n",
       " 'all': 57,\n",
       " 'above': 58,\n",
       " 'are': 59,\n",
       " 'documents': 60,\n",
       " 'end': 61}"
      ]
     },
     "execution_count": 28,
     "metadata": {},
     "output_type": "execute_result"
    }
   ],
   "source": [
    "from keras.utils import np_utils\n",
    "from keras.preprocessing import sequence\n",
    "\n",
    "corpus2 = ['without loss of generality; we consider firstly on the unit ball',\n",
    "          'this is the first document: the Earth is an great place live',\n",
    "          'Likewise this document is the second document: the Earth is an awesome place live.',\n",
    "          'and this is the third one: this problem does not hold the Slater condition',\n",
    "          'is this the first document: Jane is not  fat and fast',\n",
    "          'this Document is not yours: laid by her , and said unto Cain',\n",
    "           'In the beginning God created heaven and earth',\n",
    "           \"next one is: the quick brown fox jumps over the lazy dog\",\n",
    "            'Finally, all of above are documents; the end']\n",
    "\n",
    "tokenizer = Tokenizer(num_words = None, \n",
    "                           filters = '!\"#$%&()*+,-./:;<=>?@[\\\\]^_`{|}~\\t\\n',\n",
    "                           lower = True)\n",
    "tokenizer.fit_on_texts(corpus2)\n",
    "\n",
    "word_index = tokenizer.word_index\n",
    "vocab_size = len(word_index)\n",
    "print('Vocabulary Size:', vocab_size)\n",
    "word_index"
   ]
  },
  {
   "cell_type": "markdown",
   "metadata": {},
   "source": [
    "This meant there are 61 vocalbularies in `corpus2`; the first vocabulary is the word has the highest frequency; here is an article `the`; the next one `is` and the last one is `end`."
   ]
  },
  {
   "cell_type": "markdown",
   "metadata": {},
   "source": [
    "#### Build vocabulary of unique words"
   ]
  },
  {
   "cell_type": "code",
   "execution_count": 29,
   "metadata": {},
   "outputs": [
    {
     "name": "stdout",
     "output_type": "stream",
     "text": [
      "Vocabulary Sample: \n",
      " [('the', 1), ('is', 2), ('this', 3), ('document', 4), ('and', 5)]\n"
     ]
    }
   ],
   "source": [
    "from keras.preprocessing import text\n",
    "\n",
    "## Re-arange the order in word_index as index : word\n",
    "id_word = {v:k for k, v in word_index.items()}\n",
    "\n",
    "## list of the index_words\n",
    "wids = [[word_index[w] for w in text.text_to_word_sequence(doc, \n",
    "                                                           filters='!\"#$%&()*+,-./:;<=>?@[\\\\]^_`{|}~\\t\\n', \n",
    "                                                           lower = True, split=' ')] \n",
    "        for doc in corpus2]\n",
    "\n",
    "embed_size = 10\n",
    "\n",
    "print('Vocabulary Sample: \\n', list(word_index.items())[:5])"
   ]
  },
  {
   "cell_type": "markdown",
   "metadata": {},
   "source": [
    "--------------------------------------\n",
    "\n",
    "Now, we can see that we have created a vocabulary of `unique words` in our `corpus` and also ways to map a word to `its unique identifier`. \n",
    "\n",
    "Take a look insight to understand `\"How the previous command-line works?\"`; To convenient, we consider the first documents in the `corpus2`; that is `corpus[0]`\n",
    "\n",
    "Noting that **`text.text_to_word_sequence`** returns sequence of words (or tokens); so the `wids` contains the `word_index`"
   ]
  },
  {
   "cell_type": "code",
   "execution_count": 30,
   "metadata": {},
   "outputs": [
    {
     "name": "stdout",
     "output_type": "stream",
     "text": [
      "['without', 'loss', 'of', 'generality', 'we', 'consider', 'firstly', 'on', 'the', 'unit', 'ball']\n"
     ]
    }
   ],
   "source": [
    "print(text.text_to_word_sequence(corpus2[0]))"
   ]
  },
  {
   "cell_type": "markdown",
   "metadata": {},
   "source": [
    "For example; the word `'without'` has index = 14; ..., `'ball'` has index = 22; so we recover a `list of index-word` for each sentence"
   ]
  },
  {
   "cell_type": "code",
   "execution_count": 31,
   "metadata": {},
   "outputs": [
    {
     "data": {
      "text/plain": [
       "[14, 15, 8, 16, 17, 18, 19, 20, 1, 21, 22]"
      ]
     },
     "execution_count": 31,
     "metadata": {},
     "output_type": "execute_result"
    }
   ],
   "source": [
    "[word_index[k] for k in text.text_to_word_sequence(corpus2[0])]"
   ]
  },
  {
   "cell_type": "markdown",
   "metadata": {},
   "source": [
    "Obviously, the values of `wids[0]` or `wids[:1]` must be concided the preceding line"
   ]
  },
  {
   "cell_type": "code",
   "execution_count": 32,
   "metadata": {},
   "outputs": [
    {
     "data": {
      "text/plain": [
       "[[14, 15, 8, 16, 17, 18, 19, 20, 1, 21, 22]]"
      ]
     },
     "execution_count": 32,
     "metadata": {},
     "output_type": "execute_result"
    }
   ],
   "source": [
    "wids[:1]  ## this is wids[0]"
   ]
  },
  {
   "cell_type": "markdown",
   "metadata": {},
   "source": [
    "Before going on to the `generating CBOW`; take a look to `sequence.pad_sequences` and  `np.utils.to_categorical`.\n",
    "\n",
    "Again; focus on the first document"
   ]
  },
  {
   "cell_type": "code",
   "execution_count": 33,
   "metadata": {},
   "outputs": [
    {
     "name": "stdout",
     "output_type": "stream",
     "text": [
      "context: [[15, 8]] \t label: [14]\n",
      "context: [[14, 8, 16]] \t label: [15]\n",
      "context: [[14, 15, 16, 17]] \t label: [8]\n",
      "context: [[15, 8, 17, 18]] \t label: [16]\n",
      "context: [[8, 16, 18, 19]] \t label: [17]\n",
      "context: [[16, 17, 19, 20]] \t label: [18]\n",
      "context: [[17, 18, 20, 1]] \t label: [19]\n",
      "context: [[18, 19, 1, 21]] \t label: [20]\n",
      "context: [[19, 20, 21, 22]] \t label: [1]\n",
      "context: [[20, 1, 22]] \t label: [21]\n",
      "context: [[1, 21]] \t label: [22]\n"
     ]
    }
   ],
   "source": [
    "window_size = 2 # context window size\n",
    "context_length = window_size*2\n",
    "for words in wids[:1]:\n",
    "    sentence_length = len(words)\n",
    "    for index, word in enumerate(words):\n",
    "        context_words = []\n",
    "        label_word   = []            \n",
    "        start = index - window_size\n",
    "        end = index + window_size + 1\n",
    "    \n",
    "        context_words.append([words[i] \n",
    "                             for i in range(start, end) \n",
    "                             if 0 <= i < sentence_length \n",
    "                            and i != index])\n",
    "        label_word.append(word)\n",
    "        print('context:', context_words, '\\t', 'label:', label_word)"
   ]
  },
  {
   "cell_type": "markdown",
   "metadata": {},
   "source": [
    "The `context_words` contain the indexes of the words $x_{c-m}, \\ldots, x_{c+m}$ which create a context while the `label_word` contain the indexes of the `center word` $x_c$. For example, in the first sentence `\"without loss of generality; we consider firsly on the unit ball.\"`; \n",
    "- For the `context_size = 2 < 4` (starting at the first 2 words); the term `without loss of` has the `context = loss [index = 15] of [8]` while the `target = \"without\" [14]` \n",
    "- For the `context_size = 3 < 4`; then the context be `\"without [14] of [8] generality [16]\"` and `target = \"loss [15]\"`\n",
    "- With `context_size = 4`; then `context = \"without [14] loss [15] generality [16] we [17]\"` and `target = \"of [8]\"`\n",
    "\n",
    "            ....\n",
    "\n",
    "- For the last 2 words (`context_size` = 2 again).\n",
    "\n",
    "\n",
    "The `sequence.pad_sequences` transforms a list of `num_samples` sequences (lists of integers) into a `2D Numpy array` of shape `(num_samples, num_timesteps)`. The `num_timesteps` is either the `maxlen` argument if provided, or the `length of the longest sequence` otherwise.\n",
    "\n",
    "The `np_utils.to_categorical` returns the values as a `categories`; for example the last label(`label_words[-1]`) in `label_words` is `[22]` so we will get a list of weights `{0, 1}`; the index has weight = 1 is `22`."
   ]
  },
  {
   "cell_type": "code",
   "execution_count": 34,
   "metadata": {},
   "outputs": [
    {
     "name": "stdout",
     "output_type": "stream",
     "text": [
      "[[ 0  0  1 21]]\n",
      "[0. 0. 0. 0. 0. 0. 0. 0. 0. 0. 0. 0. 0. 0. 0. 0. 0. 0. 0. 0. 0. 0. 1. 0.\n",
      " 0. 0. 0. 0. 0. 0. 0. 0. 0. 0. 0. 0. 0. 0. 0. 0. 0. 0. 0. 0. 0. 0. 0. 0.\n",
      " 0. 0. 0. 0. 0. 0. 0. 0. 0. 0. 0. 0. 0.]\n"
     ]
    }
   ],
   "source": [
    "x = sequence.pad_sequences(context_words, maxlen = context_length)\n",
    "y = np_utils.to_categorical(label_word[-1], vocab_size)\n",
    "print(x)\n",
    "print(y)"
   ]
  },
  {
   "cell_type": "markdown",
   "metadata": {},
   "source": [
    "----------------------------------\n",
    "\n",
    "#### Build a CBOW (context, target) generator\n",
    "\n",
    "We need pairs which consist of a `target centre word` $x_c$ and surround context words. \n",
    "\n",
    "In our implementation, a `target word` is of length 1 and `surrounding context` is of length `2 x window_size` where we take window_size words before and after the target word in our corpus. This will become clearer with the following example."
   ]
  },
  {
   "cell_type": "code",
   "execution_count": 35,
   "metadata": {},
   "outputs": [
    {
     "name": "stdout",
     "output_type": "stream",
     "text": [
      "Context (X): ['without', 'loss', 'generality', 'we'] \t\t\t---> Target (Y): of\n",
      "Context (X): ['loss', 'of', 'we', 'consider'] \t\t\t---> Target (Y): generality\n",
      "Context (X): ['of', 'generality', 'consider', 'firstly'] \t\t\t---> Target (Y): we\n",
      "Context (X): ['generality', 'we', 'firstly', 'on'] \t\t\t---> Target (Y): consider\n",
      "Context (X): ['we', 'consider', 'on', 'the'] \t\t\t---> Target (Y): firstly\n",
      "Context (X): ['consider', 'firstly', 'the', 'unit'] \t\t\t---> Target (Y): on\n",
      "Context (X): ['firstly', 'on', 'unit', 'ball'] \t\t\t---> Target (Y): the\n",
      "Context (X): ['this', 'is', 'first', 'document'] \t\t\t---> Target (Y): the\n",
      "Context (X): ['is', 'the', 'document', 'the'] \t\t\t---> Target (Y): first\n",
      "Context (X): ['the', 'first', 'the', 'earth'] \t\t\t---> Target (Y): document\n",
      "Context (X): ['first', 'document', 'earth', 'is'] \t\t\t---> Target (Y): the\n"
     ]
    }
   ],
   "source": [
    "def generate_CBOW(corpus, window_size, vocab_size):\n",
    "    context_length = window_size*2\n",
    "    for words in corpus:\n",
    "        sentence_length = len(words)\n",
    "        for index, word in enumerate(words):\n",
    "            context_words = []\n",
    "            label_word   = []            \n",
    "            start = index - window_size\n",
    "            end = index + window_size + 1\n",
    "            \n",
    "            context_words.append([words[i] \n",
    "                                 for i in range(start, end) \n",
    "                                 if 0 <= i < sentence_length \n",
    "                                 and i != index])\n",
    "            label_word.append(word)\n",
    "\n",
    "            x = sequence.pad_sequences(context_words, maxlen = context_length)\n",
    "            y = np_utils.to_categorical(label_word, vocab_size)\n",
    "            yield (x, y)            \n",
    "            \n",
    "# Test this out for some samples\n",
    "i = 0\n",
    "for x, y in generate_CBOW(corpus = wids, window_size=window_size, vocab_size=vocab_size):\n",
    "    if 0 not in x[0]:\n",
    "        print('Context (X):', [id_word[w] for w in x[0]], '\\t\\t\\t---> Target (Y):', id_word[np.argwhere(y[0])[0][0]])\n",
    "    \n",
    "        if i == 10:\n",
    "            break     ## stopping with the first 10 samples\n",
    "        i += 1"
   ]
  },
  {
   "cell_type": "markdown",
   "metadata": {},
   "source": [
    "--------------------------------\n",
    "\n",
    "The preceding output should give you some more perspective of how X forms our context words and we are trying to predict the target center word Y based on this context. \n",
    "\n",
    "For example, if the original text was `‘without loss of generality, we firstly consider on the unit ball’` which after pre-processing and removal of stopwords; then given `['without', 'loss', 'generality', 'we']` as the `context`, what the `target` center word is, which is `‘of’` in this case.\n",
    "\n",
    "------------------------------------\n",
    "\n",
    "#### Build the CBOW model architecture\n",
    "\n",
    "We now leverage `keras` on top of `tensorflow` to build our deep learning architecture for the `CBOW` model. For this our inputs will be our context words which are passed to an **`embedding layer`** (initialized with random weights). \n",
    "\n",
    "The **`word embeddings`** are propagated to a `lambda layer` where we average out the word embeddings (hence called CBOW because we don’t really consider the order or sequence in the context words when averaged)and then we pass this averaged context embedding to a dense softmax layer which predicts our target word. \n",
    "\n",
    "We match this with the actual target word, compute the loss by leveraging the categorical_crossentropy loss and perform backpropagation with each epoch to update the embedding layer in the process. Following code shows us our model architecture."
   ]
  },
  {
   "cell_type": "code",
   "execution_count": 36,
   "metadata": {},
   "outputs": [
    {
     "name": "stdout",
     "output_type": "stream",
     "text": [
      "Model: \"sequential_1\"\n",
      "_________________________________________________________________\n",
      "Layer (type)                 Output Shape              Param #   \n",
      "=================================================================\n",
      "embedding_1 (Embedding)      (None, 4, 10)             610       \n",
      "_________________________________________________________________\n",
      "lambda_1 (Lambda)            (None, 10)                0         \n",
      "_________________________________________________________________\n",
      "dense_1 (Dense)              (None, 61)                671       \n",
      "=================================================================\n",
      "Total params: 1,281\n",
      "Trainable params: 1,281\n",
      "Non-trainable params: 0\n",
      "_________________________________________________________________\n",
      "None\n"
     ]
    }
   ],
   "source": [
    "import keras.backend as K\n",
    "from keras.models import Sequential\n",
    "from keras.layers import Dense, Embedding, Lambda\n",
    "\n",
    "# build CBOW model\n",
    "cbow = Sequential()\n",
    "cbow.add(Embedding(input_dim = vocab_size, \n",
    "                   output_dim = embed_size, \n",
    "                   input_length = window_size*2))\n",
    "cbow.add(Lambda(lambda x: K.mean(x, axis = 1), \n",
    "                output_shape = (embed_size, )))\n",
    "cbow.add(Dense(vocab_size, activation = 'softmax'))\n",
    "cbow.compile(loss = 'categorical_crossentropy', \n",
    "             optimizer='rmsprop')\n",
    "\n",
    "# view model summary\n",
    "print(cbow.summary())"
   ]
  },
  {
   "cell_type": "code",
   "execution_count": 37,
   "metadata": {},
   "outputs": [
    {
     "data": {
      "image/svg+xml": [
       "<svg height=\"296pt\" viewBox=\"0.00 0.00 235.00 304.00\" width=\"228pt\" xmlns=\"http://www.w3.org/2000/svg\" xmlns:xlink=\"http://www.w3.org/1999/xlink\">\n",
       "<g class=\"graph\" id=\"graph0\" transform=\"scale(0.972222 0.972222) rotate(0) translate(4 300)\">\n",
       "<title>G</title>\n",
       "<polygon fill=\"white\" points=\"-4,4 -4,-300 231,-300 231,4 -4,4\" stroke=\"none\"/>\n",
       "<!-- 2442039502280 -->\n",
       "<g class=\"node\" id=\"node1\"><title>2442039502280</title>\n",
       "<polygon fill=\"none\" points=\"12,-249.5 12,-295.5 215,-295.5 215,-249.5 12,-249.5\" stroke=\"black\"/>\n",
       "<text font-family=\"Times New Roman,serif\" font-size=\"14.00\" text-anchor=\"middle\" x=\"50.5\" y=\"-268.8\">InputLayer</text>\n",
       "<polyline fill=\"none\" points=\"89,-249.5 89,-295.5 \" stroke=\"black\"/>\n",
       "<text font-family=\"Times New Roman,serif\" font-size=\"14.00\" text-anchor=\"middle\" x=\"117\" y=\"-280.3\">input:</text>\n",
       "<polyline fill=\"none\" points=\"89,-272.5 145,-272.5 \" stroke=\"black\"/>\n",
       "<text font-family=\"Times New Roman,serif\" font-size=\"14.00\" text-anchor=\"middle\" x=\"117\" y=\"-257.3\">output:</text>\n",
       "<polyline fill=\"none\" points=\"145,-249.5 145,-295.5 \" stroke=\"black\"/>\n",
       "<text font-family=\"Times New Roman,serif\" font-size=\"14.00\" text-anchor=\"middle\" x=\"180\" y=\"-280.3\">(None, 4)</text>\n",
       "<polyline fill=\"none\" points=\"145,-272.5 215,-272.5 \" stroke=\"black\"/>\n",
       "<text font-family=\"Times New Roman,serif\" font-size=\"14.00\" text-anchor=\"middle\" x=\"180\" y=\"-257.3\">(None, 4)</text>\n",
       "</g>\n",
       "<!-- 2442039502984 -->\n",
       "<g class=\"node\" id=\"node2\"><title>2442039502984</title>\n",
       "<polygon fill=\"none\" points=\"0,-166.5 0,-212.5 227,-212.5 227,-166.5 0,-166.5\" stroke=\"black\"/>\n",
       "<text font-family=\"Times New Roman,serif\" font-size=\"14.00\" text-anchor=\"middle\" x=\"40\" y=\"-185.8\">Embedding</text>\n",
       "<polyline fill=\"none\" points=\"80,-166.5 80,-212.5 \" stroke=\"black\"/>\n",
       "<text font-family=\"Times New Roman,serif\" font-size=\"14.00\" text-anchor=\"middle\" x=\"108\" y=\"-197.3\">input:</text>\n",
       "<polyline fill=\"none\" points=\"80,-189.5 136,-189.5 \" stroke=\"black\"/>\n",
       "<text font-family=\"Times New Roman,serif\" font-size=\"14.00\" text-anchor=\"middle\" x=\"108\" y=\"-174.3\">output:</text>\n",
       "<polyline fill=\"none\" points=\"136,-166.5 136,-212.5 \" stroke=\"black\"/>\n",
       "<text font-family=\"Times New Roman,serif\" font-size=\"14.00\" text-anchor=\"middle\" x=\"181.5\" y=\"-197.3\">(None, 4)</text>\n",
       "<polyline fill=\"none\" points=\"136,-189.5 227,-189.5 \" stroke=\"black\"/>\n",
       "<text font-family=\"Times New Roman,serif\" font-size=\"14.00\" text-anchor=\"middle\" x=\"181.5\" y=\"-174.3\">(None, 4, 10)</text>\n",
       "</g>\n",
       "<!-- 2442039502280&#45;&gt;2442039502984 -->\n",
       "<g class=\"edge\" id=\"edge1\"><title>2442039502280-&gt;2442039502984</title>\n",
       "<path d=\"M113.5,-249.366C113.5,-241.152 113.5,-231.658 113.5,-222.725\" fill=\"none\" stroke=\"black\"/>\n",
       "<polygon fill=\"black\" points=\"117,-222.607 113.5,-212.607 110,-222.607 117,-222.607\" stroke=\"black\"/>\n",
       "</g>\n",
       "<!-- 2442039502792 -->\n",
       "<g class=\"node\" id=\"node3\"><title>2442039502792</title>\n",
       "<polygon fill=\"none\" points=\"9,-83.5 9,-129.5 218,-129.5 218,-83.5 9,-83.5\" stroke=\"black\"/>\n",
       "<text font-family=\"Times New Roman,serif\" font-size=\"14.00\" text-anchor=\"middle\" x=\"40\" y=\"-102.8\">Lambda</text>\n",
       "<polyline fill=\"none\" points=\"71,-83.5 71,-129.5 \" stroke=\"black\"/>\n",
       "<text font-family=\"Times New Roman,serif\" font-size=\"14.00\" text-anchor=\"middle\" x=\"99\" y=\"-114.3\">input:</text>\n",
       "<polyline fill=\"none\" points=\"71,-106.5 127,-106.5 \" stroke=\"black\"/>\n",
       "<text font-family=\"Times New Roman,serif\" font-size=\"14.00\" text-anchor=\"middle\" x=\"99\" y=\"-91.3\">output:</text>\n",
       "<polyline fill=\"none\" points=\"127,-83.5 127,-129.5 \" stroke=\"black\"/>\n",
       "<text font-family=\"Times New Roman,serif\" font-size=\"14.00\" text-anchor=\"middle\" x=\"172.5\" y=\"-114.3\">(None, 4, 10)</text>\n",
       "<polyline fill=\"none\" points=\"127,-106.5 218,-106.5 \" stroke=\"black\"/>\n",
       "<text font-family=\"Times New Roman,serif\" font-size=\"14.00\" text-anchor=\"middle\" x=\"172.5\" y=\"-91.3\">(None, 10)</text>\n",
       "</g>\n",
       "<!-- 2442039502984&#45;&gt;2442039502792 -->\n",
       "<g class=\"edge\" id=\"edge2\"><title>2442039502984-&gt;2442039502792</title>\n",
       "<path d=\"M113.5,-166.366C113.5,-158.152 113.5,-148.658 113.5,-139.725\" fill=\"none\" stroke=\"black\"/>\n",
       "<polygon fill=\"black\" points=\"117,-139.607 113.5,-129.607 110,-139.607 117,-139.607\" stroke=\"black\"/>\n",
       "</g>\n",
       "<!-- 2442039858184 -->\n",
       "<g class=\"node\" id=\"node4\"><title>2442039858184</title>\n",
       "<polygon fill=\"none\" points=\"21.5,-0.5 21.5,-46.5 205.5,-46.5 205.5,-0.5 21.5,-0.5\" stroke=\"black\"/>\n",
       "<text font-family=\"Times New Roman,serif\" font-size=\"14.00\" text-anchor=\"middle\" x=\"47\" y=\"-19.8\">Dense</text>\n",
       "<polyline fill=\"none\" points=\"72.5,-0.5 72.5,-46.5 \" stroke=\"black\"/>\n",
       "<text font-family=\"Times New Roman,serif\" font-size=\"14.00\" text-anchor=\"middle\" x=\"100.5\" y=\"-31.3\">input:</text>\n",
       "<polyline fill=\"none\" points=\"72.5,-23.5 128.5,-23.5 \" stroke=\"black\"/>\n",
       "<text font-family=\"Times New Roman,serif\" font-size=\"14.00\" text-anchor=\"middle\" x=\"100.5\" y=\"-8.3\">output:</text>\n",
       "<polyline fill=\"none\" points=\"128.5,-0.5 128.5,-46.5 \" stroke=\"black\"/>\n",
       "<text font-family=\"Times New Roman,serif\" font-size=\"14.00\" text-anchor=\"middle\" x=\"167\" y=\"-31.3\">(None, 10)</text>\n",
       "<polyline fill=\"none\" points=\"128.5,-23.5 205.5,-23.5 \" stroke=\"black\"/>\n",
       "<text font-family=\"Times New Roman,serif\" font-size=\"14.00\" text-anchor=\"middle\" x=\"167\" y=\"-8.3\">(None, 61)</text>\n",
       "</g>\n",
       "<!-- 2442039502792&#45;&gt;2442039858184 -->\n",
       "<g class=\"edge\" id=\"edge3\"><title>2442039502792-&gt;2442039858184</title>\n",
       "<path d=\"M113.5,-83.3664C113.5,-75.1516 113.5,-65.6579 113.5,-56.7252\" fill=\"none\" stroke=\"black\"/>\n",
       "<polygon fill=\"black\" points=\"117,-56.6068 113.5,-46.6068 110,-56.6069 117,-56.6068\" stroke=\"black\"/>\n",
       "</g>\n",
       "</g>\n",
       "</svg>"
      ],
      "text/plain": [
       "<IPython.core.display.SVG object>"
      ]
     },
     "execution_count": 37,
     "metadata": {},
     "output_type": "execute_result"
    }
   ],
   "source": [
    "# visualize model structure\n",
    "from IPython.display import SVG\n",
    "from keras.utils.vis_utils import model_to_dot\n",
    "\n",
    "SVG(model_to_dot(cbow, show_shapes = True, show_layer_names=False, dpi = 70, \n",
    "                 rankdir = 'TB').create(prog = 'dot', format ='svg'))"
   ]
  },
  {
   "cell_type": "markdown",
   "metadata": {},
   "source": [
    "We have input context words of dimensions `V x N` (`2 x window_size`), we will pass them to an embedding layer of size `(vocab_size x embed_size)` which will give us dense word embeddings for each of these context words `(1 x embed_size for each word)`. \n",
    "\n",
    "We compare this with the actual target word, compute the `loss`, `backpropagate` the errors to adjust the weights (in the embedding layer) and repeat this process for all (context, target) pairs for multiple epochs."
   ]
  },
  {
   "cell_type": "code",
   "execution_count": 38,
   "metadata": {},
   "outputs": [
    {
     "data": {
      "image/png": "[encoded data removed]",
      "text/plain": [
       "<IPython.core.display.Image object>"
      ]
     },
     "metadata": {
      "image/png": {
       "height": 400,
       "unconfined": true,
       "width": 690
      }
     },
     "output_type": "display_data"
    }
   ],
   "source": [
    "display(Image(r\"C:\\Users\\Admin\\Desktop\\Nhan_pro\\Data\\cbow.png\", width=690, height=400, unconfined=True))"
   ]
  },
  {
   "cell_type": "markdown",
   "metadata": {},
   "source": [
    "![cbow.png](cbow.png)\n",
    "\n",
    "link: https://github.com/Nhan121/Kaggle-6-first-projects/blob/master/NLP_Text_Classification/image_illustration/cbow.png"
   ]
  },
  {
   "cell_type": "code",
   "execution_count": 39,
   "metadata": {},
   "outputs": [
    {
     "name": "stdout",
     "output_type": "stream",
     "text": [
      "(60, 10)\n"
     ]
    },
    {
     "data": {
      "text/html": [
       "<div>\n",
       "<style scoped>\n",
       "    .dataframe tbody tr th:only-of-type {\n",
       "        vertical-align: middle;\n",
       "    }\n",
       "\n",
       "    .dataframe tbody tr th {\n",
       "        vertical-align: top;\n",
       "    }\n",
       "\n",
       "    .dataframe thead th {\n",
       "        text-align: right;\n",
       "    }\n",
       "</style>\n",
       "<table border=\"1\" class=\"dataframe\">\n",
       "  <thead>\n",
       "    <tr style=\"text-align: right;\">\n",
       "      <th></th>\n",
       "      <th>0</th>\n",
       "      <th>1</th>\n",
       "      <th>2</th>\n",
       "      <th>3</th>\n",
       "      <th>4</th>\n",
       "      <th>5</th>\n",
       "      <th>6</th>\n",
       "      <th>7</th>\n",
       "      <th>8</th>\n",
       "      <th>9</th>\n",
       "    </tr>\n",
       "  </thead>\n",
       "  <tbody>\n",
       "    <tr>\n",
       "      <th>is</th>\n",
       "      <td>0.022902</td>\n",
       "      <td>-0.036437</td>\n",
       "      <td>-0.049834</td>\n",
       "      <td>0.037308</td>\n",
       "      <td>0.032421</td>\n",
       "      <td>0.028189</td>\n",
       "      <td>0.015398</td>\n",
       "      <td>-0.043264</td>\n",
       "      <td>-0.022538</td>\n",
       "      <td>0.014579</td>\n",
       "    </tr>\n",
       "    <tr>\n",
       "      <th>this</th>\n",
       "      <td>-0.047168</td>\n",
       "      <td>-0.029971</td>\n",
       "      <td>-0.003903</td>\n",
       "      <td>0.001925</td>\n",
       "      <td>-0.013365</td>\n",
       "      <td>0.010975</td>\n",
       "      <td>0.023504</td>\n",
       "      <td>0.026411</td>\n",
       "      <td>0.020407</td>\n",
       "      <td>0.016897</td>\n",
       "    </tr>\n",
       "    <tr>\n",
       "      <th>document</th>\n",
       "      <td>-0.040773</td>\n",
       "      <td>-0.000716</td>\n",
       "      <td>-0.008845</td>\n",
       "      <td>-0.041829</td>\n",
       "      <td>0.032765</td>\n",
       "      <td>0.044769</td>\n",
       "      <td>-0.002028</td>\n",
       "      <td>-0.015819</td>\n",
       "      <td>-0.026889</td>\n",
       "      <td>-0.003163</td>\n",
       "    </tr>\n",
       "    <tr>\n",
       "      <th>and</th>\n",
       "      <td>-0.024910</td>\n",
       "      <td>-0.018839</td>\n",
       "      <td>0.027699</td>\n",
       "      <td>0.001809</td>\n",
       "      <td>-0.041719</td>\n",
       "      <td>-0.019998</td>\n",
       "      <td>0.046003</td>\n",
       "      <td>0.014107</td>\n",
       "      <td>0.048044</td>\n",
       "      <td>0.023242</td>\n",
       "    </tr>\n",
       "    <tr>\n",
       "      <th>earth</th>\n",
       "      <td>0.004871</td>\n",
       "      <td>0.036438</td>\n",
       "      <td>0.036597</td>\n",
       "      <td>-0.023434</td>\n",
       "      <td>0.041179</td>\n",
       "      <td>-0.008475</td>\n",
       "      <td>-0.035068</td>\n",
       "      <td>-0.004174</td>\n",
       "      <td>0.039883</td>\n",
       "      <td>-0.012681</td>\n",
       "    </tr>\n",
       "  </tbody>\n",
       "</table>\n",
       "</div>"
      ],
      "text/plain": [
       "                 0         1         2         3         4         5  \\\n",
       "is        0.022902 -0.036437 -0.049834  0.037308  0.032421  0.028189   \n",
       "this     -0.047168 -0.029971 -0.003903  0.001925 -0.013365  0.010975   \n",
       "document -0.040773 -0.000716 -0.008845 -0.041829  0.032765  0.044769   \n",
       "and      -0.024910 -0.018839  0.027699  0.001809 -0.041719 -0.019998   \n",
       "earth     0.004871  0.036438  0.036597 -0.023434  0.041179 -0.008475   \n",
       "\n",
       "                 6         7         8         9  \n",
       "is        0.015398 -0.043264 -0.022538  0.014579  \n",
       "this      0.023504  0.026411  0.020407  0.016897  \n",
       "document -0.002028 -0.015819 -0.026889 -0.003163  \n",
       "and       0.046003  0.014107  0.048044  0.023242  \n",
       "earth    -0.035068 -0.004174  0.039883 -0.012681  "
      ]
     },
     "execution_count": 39,
     "metadata": {},
     "output_type": "execute_result"
    }
   ],
   "source": [
    "weights = cbow.get_weights()[0]\n",
    "weights = weights[1:]\n",
    "print(weights.shape)\n",
    "\n",
    "pd.DataFrame(weights, index=list(id_word.values())[1:]).head()"
   ]
  },
  {
   "cell_type": "code",
   "execution_count": 40,
   "metadata": {},
   "outputs": [
    {
     "name": "stdout",
     "output_type": "stream",
     "text": [
      "(60, 60)\n"
     ]
    },
    {
     "data": {
      "text/html": [
       "<div>\n",
       "<style scoped>\n",
       "    .dataframe tbody tr th:only-of-type {\n",
       "        vertical-align: middle;\n",
       "    }\n",
       "\n",
       "    .dataframe tbody tr th {\n",
       "        vertical-align: top;\n",
       "    }\n",
       "\n",
       "    .dataframe thead th {\n",
       "        text-align: right;\n",
       "    }\n",
       "</style>\n",
       "<table border=\"1\" class=\"dataframe\">\n",
       "  <thead>\n",
       "    <tr style=\"text-align: right;\">\n",
       "      <th></th>\n",
       "      <th>god</th>\n",
       "      <th>documents</th>\n",
       "      <th>we</th>\n",
       "    </tr>\n",
       "  </thead>\n",
       "  <tbody>\n",
       "    <tr>\n",
       "      <th>0</th>\n",
       "      <td>is</td>\n",
       "      <td>unto</td>\n",
       "      <td>unit</td>\n",
       "    </tr>\n",
       "    <tr>\n",
       "      <th>1</th>\n",
       "      <td>quick</td>\n",
       "      <td>place</td>\n",
       "      <td>the</td>\n",
       "    </tr>\n",
       "    <tr>\n",
       "      <th>2</th>\n",
       "      <td>earth</td>\n",
       "      <td>does</td>\n",
       "      <td>an</td>\n",
       "    </tr>\n",
       "    <tr>\n",
       "      <th>3</th>\n",
       "      <td>third</td>\n",
       "      <td>document</td>\n",
       "      <td>ball</td>\n",
       "    </tr>\n",
       "    <tr>\n",
       "      <th>4</th>\n",
       "      <td>unit</td>\n",
       "      <td>created</td>\n",
       "      <td>earth</td>\n",
       "    </tr>\n",
       "  </tbody>\n",
       "</table>\n",
       "</div>"
      ],
      "text/plain": [
       "     god documents     we\n",
       "0     is      unto   unit\n",
       "1  quick     place    the\n",
       "2  earth      does     an\n",
       "3  third  document   ball\n",
       "4   unit   created  earth"
      ]
     },
     "execution_count": 40,
     "metadata": {},
     "output_type": "execute_result"
    }
   ],
   "source": [
    "from sklearn.metrics.pairwise import euclidean_distances\n",
    "\n",
    "# compute pairwise distance matrix\n",
    "distance_matrix = euclidean_distances(weights)\n",
    "print(distance_matrix.shape)\n",
    "\n",
    "# view contextually similar words\n",
    "similar_words = {search_term: [id_word[idx] for idx in distance_matrix[word_index[search_term]-1].argsort()[1:6]+1] \n",
    "                   for search_term in ['god', 'documents', 'we']}\n",
    "\n",
    "pd.DataFrame(similar_words)"
   ]
  },
  {
   "cell_type": "markdown",
   "metadata": {},
   "source": [
    "### 2.2. `Skip-gram` model\n",
    "\n",
    "The `skip-gram model` is introduced in Mikolov et al. (2013a,b). Figure 3 shows the skipgram model. It is the opposite of the `CBOW` model. The `target word` is now at the `input layer`, and the `context words` are on the `output layer`."
   ]
  },
  {
   "cell_type": "code",
   "execution_count": 41,
   "metadata": {},
   "outputs": [
    {
     "data": {
      "image/png": "[encoded data removed]",
      "text/plain": [
       "<IPython.core.display.Image object>"
      ]
     },
     "metadata": {
      "image/png": {
       "unconfined": true,
       "width": 450
      }
     },
     "output_type": "display_data"
    }
   ],
   "source": [
    "display(Image(r\"C:\\Users\\Admin\\Desktop\\Nhan_pro\\Data\\skip-gram.png\", width=450, unconfined=True))"
   ]
  },
  {
   "cell_type": "markdown",
   "metadata": {},
   "source": [
    "Hence, in `skip gram` architecture of `word2vec`, the `input` is the `center word` and the `predictions` are the context words. For example; when the `sliding window_size = 2` then the array of words `W`, if `W(i)` is a `input` (center word), then `W(i-2), W(i-1), W(i+1), and W(i+2)` are the `context words`.\n",
    "\n",
    "------------------------------------------------\n",
    "\n",
    "#### Build a skip-gram [(target, context), relevancy] generator\n",
    "\n",
    "`Keras` has a `nifty skipgrams utility` which can be used and we don’t have to manually implement this `generator` like we did in `CBOW`.\n",
    "\n",
    "------------------------------------------------\n",
    "\n",
    "**Note:** The function `skipgrams` *transforms a sequence of word indexes (list of integers) into tuples of words of the form*:\n",
    "- (word, word in the same window), with label 1 (positive samples).\n",
    "- (word, random word from the vocabulary), with label 0 (negative samples)."
   ]
  },
  {
   "cell_type": "code",
   "execution_count": 42,
   "metadata": {},
   "outputs": [
    {
     "name": "stdout",
     "output_type": "stream",
     "text": [
      "pair_index: \n",
      " [[16, 6], [8, 18], [16, 14], [8, 21], [1, 31], [1, 11], [8, 11], [19, 46], [16, 1], [8, 25], [1, 14], [15, 21], [20, 19], [1, 20], [8, 22], [22, 17], [8, 22], [15, 1], [22, 23], [22, 17], [17, 30], [22, 18], [8, 15], [20, 22], [21, 59], [17, 19], [1, 27], [16, 59], [20, 25], [16, 7], [8, 60], [18, 22], [8, 33], [18, 1], [18, 17], [19, 4], [15, 14], [18, 21], [17, 22], [19, 16], [14, 22], [15, 42], [21, 30], [22, 40], [17, 1], [18, 20], [1, 8], [14, 43], [1, 17], [17, 53], [16, 8], [16, 17], [21, 24], [17, 14], [14, 15], [15, 8], [20, 10], [18, 21], [15, 20], [18, 8], [21, 8], [15, 41], [22, 1], [18, 14], [8, 5], [21, 14], [19, 59], [16, 11], [17, 15], [18, 16], [22, 39], [21, 19], [18, 19], [8, 1], [1, 52], [17, 8], [14, 1], [22, 27], [8, 17], [8, 39], [21, 18], [21, 60], [17, 1], [20, 8], [21, 12], [1, 48], [22, 8], [17, 9], [17, 47], [19, 14], [20, 16], [20, 55], [16, 20], [19, 15], [16, 21], [20, 25], [18, 28], [17, 18], [15, 52], [21, 16], [1, 53], [18, 54], [8, 14], [17, 17], [20, 54], [14, 8], [15, 19], [22, 19], [8, 12], [19, 20], [15, 35], [14, 17], [14, 20], [16, 10], [15, 34], [19, 18], [14, 32], [17, 21], [19, 17], [16, 58], [21, 22], [18, 46], [8, 10], [18, 1], [21, 23], [1, 18], [19, 18], [22, 29], [16, 38], [20, 22], [22, 14], [19, 1], [16, 19], [21, 31], [22, 16], [20, 55], [17, 24], [15, 18], [20, 21], [20, 16], [15, 20], [16, 15], [18, 45], [19, 50], [15, 36], [14, 10], [19, 13], [1, 15], [14, 16], [15, 40], [15, 21], [1, 22], [20, 18], [21, 17], [14, 3], [20, 15], [18, 15], [8, 20], [18, 60], [16, 22], [16, 57], [19, 20], [19, 22], [20, 1], [20, 17], [8, 19], [1, 19], [8, 16], [22, 20], [20, 14], [16, 2], [17, 19], [20, 14], [1, 26], [14, 21], [21, 20], [21, 26], [21, 53], [14, 19], [14, 44], [17, 20], [22, 45], [19, 27], [1, 16], [18, 17], [1, 19], [1, 30], [15, 17], [18, 27], [14, 54], [16, 28], [19, 9], [22, 21], [14, 18], [8, 37], [17, 32], [19, 21], [18, 52], [20, 51], [21, 15], [19, 8], [15, 22], [14, 1], [17, 16], [15, 41], [22, 55], [14, 17], [22, 30], [14, 28], [14, 56], [1, 21], [22, 48], [21, 29], [1, 4], [15, 16], [19, 16], [21, 1], [22, 15], [16, 18], [17, 59]]\n",
      "labels: \n",
      " [0, 1, 1, 1, 0, 0, 0, 0, 1, 0, 1, 1, 1, 1, 1, 1, 0, 1, 0, 0, 0, 1, 1, 1, 0, 1, 0, 0, 0, 0, 0, 1, 0, 1, 0, 0, 1, 0, 1, 1, 1, 0, 0, 0, 0, 1, 1, 0, 1, 0, 1, 1, 0, 1, 1, 1, 0, 1, 0, 1, 1, 0, 1, 1, 0, 1, 0, 0, 1, 1, 0, 1, 1, 1, 0, 1, 1, 0, 1, 0, 1, 0, 1, 1, 0, 0, 1, 0, 0, 1, 1, 0, 1, 1, 1, 0, 0, 1, 0, 1, 0, 0, 1, 0, 0, 1, 1, 1, 0, 1, 0, 1, 1, 0, 0, 0, 0, 1, 1, 0, 1, 0, 0, 0, 0, 1, 1, 0, 0, 0, 1, 1, 1, 0, 1, 0, 0, 1, 1, 0, 1, 1, 0, 0, 0, 0, 0, 1, 1, 0, 0, 1, 1, 1, 0, 1, 1, 1, 0, 1, 0, 0, 1, 1, 1, 1, 1, 1, 1, 0, 0, 0, 1, 0, 1, 1, 0, 0, 1, 0, 1, 0, 0, 1, 1, 0, 0, 1, 0, 0, 0, 0, 1, 1, 0, 0, 1, 0, 0, 1, 1, 1, 0, 1, 0, 0, 0, 0, 0, 0, 1, 0, 0, 0, 1, 0, 1, 1, 1, 0]\n"
     ]
    }
   ],
   "source": [
    "from keras.preprocessing.sequence import skipgrams\n",
    "\n",
    "# generate skip-grams\n",
    "skip_grams = [skipgrams(wid, vocabulary_size=vocab_size, window_size=10) for wid in wids]\n",
    "print('pair_index: \\n', skip_grams[0][0])\n",
    "print('labels: \\n', skip_grams[0][1])"
   ]
  },
  {
   "cell_type": "code",
   "execution_count": 43,
   "metadata": {},
   "outputs": [
    {
     "name": "stdout",
     "output_type": "stream",
     "text": [
      "(generality (16), earth (6)) -> 0\n",
      "(of (8), consider (18)) -> 1\n",
      "(generality (16), without (14)) -> 1\n",
      "(of (8), unit (21)) -> 1\n",
      "(the (1), slater (31)) -> 0\n",
      "(the (1), place (11)) -> 0\n",
      "(of (8), place (11)) -> 0\n",
      "(firstly (19), created (46)) -> 0\n",
      "(generality (16), the (1)) -> 1\n",
      "(of (8), second (25)) -> 0\n"
     ]
    }
   ],
   "source": [
    "# view sample skip-grams\n",
    "pairs, labels = skip_grams[0][0], skip_grams[0][1]\n",
    "for i in range(10):\n",
    "    print(\"({:s} ({:d}), {:s} ({:d})) -> {:d}\".format(\n",
    "          id_word[pairs[i][0]], pairs[i][0], \n",
    "          id_word[pairs[i][1]], pairs[i][1], \n",
    "          labels[i]))"
   ]
  },
  {
   "cell_type": "markdown",
   "metadata": {},
   "source": [
    "    Thus you can see we have successfully generated our required skip-grams and based on the sample skip-grams in the preceding output, you can clearly see what is relevant and what is irrelevant based on the label (0 or 1).\n",
    "    \n",
    "### Summarization\n",
    "\n",
    "|                    |                                  |                                                                          ------------------- CBOW model -------------                                                                          |                                             skip gram model                                             |\n",
    "|:------------------:|:--------------------------------:|:----------------------------------------------------------------------------------------------------------------------------------------------------------------------------------------------:|:-------------------------------------------------------------------------------------------------------:|\n",
    "|     Input layer    |                                  |                                                                                      1 or multi contexts                                                                                       |                                                1 context                                                |\n",
    "|    Hidden layer    |                                  |                                                                 $\\textbf{h} = C^{-1} \\sum_{i=1}^C \\textbf{v}_{\\textbf{w}_i}^T$                                                                 |                                $\\textbf{h} = \\textbf{v}_{\\textbf{w}_I}^T$                               |\n",
    "|    Output layer    |                                  |                                                                             $y_j = \\dfrac{e^{u_j}}{\\sum e^{u_k} }$                                                                             |                              $y_j = \\dfrac{e^{u_{c,j}}}{\\sum_k e^{u_{k}} }$                             |\n",
    "|                    |                                  |                                                                        where $u_k = \\textbf{v}'_{\\text{w}_j} \\textbf{h}$                                                                       |                       where $u_{c,j} = u_j = \\textbf{v}'_{\\text{w}_j} \\textbf{h}$                       |\n",
    "|                    |                                  |                                                                                                                                                                                                | with $\\text{w}_j$ is the word $j^{th}$ of vocab $\\text{w}_j$-the column of the (hidden --> output) $W'$ |\n",
    "|    Loss function   |                                  |                                      $E = -\\textbf{v}_{\\textbf{w}_\\text{O}} \\textbf{h} - \\log \\sum_{k=1}^V \\exp \\left( \\textbf{w}_k^T \\textbf{h} \\right) $                                     |         $E:= -\\sum_{c=1}^C u_{j_c^{*}} + C \\log \\sum_{k=1}^V \\exp \\left( \\textbf{u}_k \\right) $         |\n",
    "| Update  using  SGD |  matrix weights  of input-hidden | $\\textbf{v}_{\\textbf{w}_{\\text{Input, c}}}^{\\text{(new)}'} = \\textbf{v}_{\\textbf{w}_{\\text{Input, c}}}^{\\text{(old)}'} - \\eta C^{-1}\\sum_{i=1}^{V}\\left(y_{j}-t_{j}\\right)\\text{w}'_{ij}x_{k}$ |                                                                                                         |\n",
    "|                    |  matrix weights of hidden-output |                       $\\textbf{v}'_{\\textbf{w}_{j\\left(\\text{new}\\right)}} = \\textbf{v}'_{\\textbf{w}_{j\\left(\\text{old}\\right)}}-\\eta\\left(y_{j}-t_{j}\\right)\\textbf{h}.$                      |                                                                                                         |\n",
    "|                    |                                  |                                                                                                                                                                                                |                                                                                                         |\n",
    "\n",
    "Both have their own advantages and disadvantages. \n",
    "\n",
    "- According to Mikolov, `Skip Gram` works well with `small amount of data` and is found to `represent rare words` well.\n",
    "\n",
    "- On the other hand, `CBOW` is `faster and has better representations for more frequent words`."
   ]
  },
  {
   "cell_type": "code",
   "execution_count": 44,
   "metadata": {},
   "outputs": [
    {
     "data": {
      "image/png": "[encoded data removed]",
      "text/plain": [
       "<IPython.core.display.Image object>"
      ]
     },
     "metadata": {
      "image/png": {
       "unconfined": true,
       "width": 650
      }
     },
     "output_type": "display_data"
    }
   ],
   "source": [
    "display(Image(r\"C:\\Users\\Admin\\Desktop\\Nhan_pro\\Data\\word2vec.png\", width=650, unconfined=True))"
   ]
  },
  {
   "cell_type": "markdown",
   "metadata": {},
   "source": [
    "## 3. `Word2Vec` & `GloVe`\n",
    "\n",
    "Now, we study directly the supported libraries and packages of them.\n",
    "\n",
    "### 3.1 Word Embedding with `Word2Vec`\n",
    "\n",
    "`word2vec` is an `unsupervised` method based on the idea that `similar words` have `similar neighbors`. There are 2 main approaches for training `word2vec` models : `CBOW (continuous bag of words)` and `Skip-Grams`. \n",
    "\n",
    "In both cases, we consider a fixed `size word window` which you slide across the text. \n",
    "- In case of `CBOW`, the model is trained to *predict the current words given its neighbors in the window*, and \n",
    "- In `skip-gram`, the model predicts the *surrounding words in the window given the current word*.\n",
    "\n",
    "----------------------------------------\n",
    "\n",
    "The words are `input` to the model as `1-hot encoded vectors`, where the size of the vector is the size of the vocabulary. WE can control the size of the vocabulary by setting a minimum frequency, considering only top N words by frequency, etc. \n",
    "\n",
    "Output is a fixed size dense vector, where the size is the embedding size you select for your model. The model itself is a fully connected network, with one or more hidden layers. \n",
    "\n",
    "Once your model reaches the desired level of accuracy, you remove the final layer and run your sparse word vectors through the truncated network to get your embeddings.\n",
    "\n",
    "Using `gensim.model`, now we can work conveniently with `Word2Vec`.\n",
    "\n",
    "https://radimrehurek.com/gensim/models/word2vec.html"
   ]
  },
  {
   "cell_type": "markdown",
   "metadata": {},
   "source": [
    "**Using `cosine-similarity` to evaluate the similar of a pair of word** This metric isn’t semantic distance; but tends to place two words close to each other if they occur in similar contexts; and defined by\n",
    "\n",
    "$$ \\cos \\left( A, B \\right) = \\dfrac{A \\circ B}{\\Vert A \\Vert_2 \\Vert B \\Vert_2} $$\n",
    "\n",
    "- If two words are very close to synonymous, we will expect them to show up in similar contexts, and indeed synonymous words tend to be close.\n",
    "- It’s positive when the words are close to each other, negative when the words are far.  For two completely random words, the similarity is pretty close to 0.\n",
    "\n",
    "In python; we press `model.wv.similarity(\"word_A\", \"word_B\")`\n",
    "\n",
    "Firstly, loading dataset "
   ]
  },
  {
   "cell_type": "code",
   "execution_count": 45,
   "metadata": {},
   "outputs": [
    {
     "name": "stderr",
     "output_type": "stream",
     "text": [
      "unable to import 'smart_open.gcs', disabling that module\n"
     ]
    },
    {
     "name": "stdout",
     "output_type": "stream",
     "text": [
      "The first line of data: \n",
      " ['alice', \"'s\", 'adventures', 'in', 'wonderland', 'alice', \"'s\", 'adventures', 'in', 'wonderland', 'lewis', 'carroll', 'the', 'millennium', 'fulcrum', 'edition', '3.0', 'chapter', 'i', 'down', 'the', 'rabbit-hole', 'alice', 'was', 'beginning', 'to', 'get', 'very', 'tired', 'of', 'sitting', 'by', 'her', 'sister', 'on', 'the', 'bank', ',', 'and', 'of', 'having', 'nothing', 'to', 'do', ':', 'once', 'or', 'twice', 'she', 'had', 'peeped', 'into', 'the', 'book', 'her', 'sister', 'was', 'reading', ',', 'but', 'it', 'had', 'no', 'pictures', 'or', 'conversations', 'in', 'it', ',', '`', 'and', 'what', 'is', 'the', 'use', 'of', 'a', 'book', ',', \"'\", 'thought', 'alice', '`', 'without', 'pictures', 'or', 'conversation', '?', \"'\"]\n"
     ]
    }
   ],
   "source": [
    "import gensim \n",
    "from gensim.models import Word2Vec\n",
    "from gensim.models.phrases import Phrases, Phraser\n",
    "from nltk.tokenize import sent_tokenize, word_tokenize \n",
    "\n",
    "sample = open(r\"C:\\Users\\Admin\\Desktop\\Nhan_pro\\Data\\ML\\alice.txt\", \"r\")\n",
    "s = sample.read() \n",
    "  \n",
    "# Replaces escape character with space \n",
    "f = s.replace(\"\\n\", \" \") \n",
    "  \n",
    "data = [] \n",
    "  \n",
    "# iterate through each sentence in the file \n",
    "for i in sent_tokenize(f): \n",
    "    temp = [] \n",
    "      \n",
    "    # tokenize the sentence into words \n",
    "    for j in word_tokenize(i): \n",
    "        temp.append(j.lower()) \n",
    "  \n",
    "    data.append(temp) \n",
    "\n",
    "print('The first line of data: \\n', data[0])    "
   ]
  },
  {
   "cell_type": "markdown",
   "metadata": {},
   "source": [
    "`Create CBOW model without load the pre-trained` \n",
    "\n",
    "                Word2Vec(sentences, min_count=10, size = 100, window = 5, sg = 1) \n",
    "\n",
    "Noting that :\n",
    "- **`min_count`** Ignores all words with total frequency lower than this; its reasonable value is between `0-100` (default = 5), ***depending on the size of your dataset***.\n",
    "- **`size = 100`** is size of the `NN layers`, which correspond to the `“degrees” of freedom` the training algorithm has. A bigger size values require more training data, but can lead to better (more accurate) models. Reasonable values are in the tens to hundreds.\n",
    "- **`window = 5`**: size of `context_window` or the maximum distance between the `current` and `predicted` word `within a sentence`\n",
    "- **`sg = {0, 1}`** Training algorithm: `1 for skip-gram`; `otherwise CBOW`."
   ]
  },
  {
   "cell_type": "code",
   "execution_count": 46,
   "metadata": {},
   "outputs": [
    {
     "name": "stdout",
     "output_type": "stream",
     "text": [
      "Cosine similarity between 'alice' and 'wonderland' - CBOW :  0.9990146\n",
      "Cosine similarity between 'alice' and 'machines' - CBOW :  0.984926\n",
      "Cosine similarity between 'alice' and 'wonderland' - Skip Gram :  0.9430363\n",
      "Cosine similarity between 'alice' and 'machines' - Skip Gram :  0.932608\n"
     ]
    }
   ],
   "source": [
    "model1 = Word2Vec(data, min_count = 1, size = 100, window = 10) \n",
    "  \n",
    "model2 = Word2Vec(data, min_count = 1, size = 100, window = 10, sg = 1) \n",
    "\n",
    "## display\n",
    "print(\"Cosine similarity between 'alice' \" + \"and 'wonderland' - CBOW : \", model1.wv.similarity('alice', 'wonderland')) \n",
    "      \n",
    "print(\"Cosine similarity between 'alice' \" + \"and 'machines' - CBOW : \",  model1.wv.similarity('alice', 'machines')) \n",
    "  \n",
    "print(\"Cosine similarity between 'alice' \" + \"and 'wonderland' - Skip Gram : \", model2.wv.similarity('alice', 'wonderland')) \n",
    "      \n",
    "print(\"Cosine similarity between 'alice' \" + \"and 'machines' - Skip Gram : \", model2.wv.similarity('alice', 'machines'))"
   ]
  },
  {
   "cell_type": "markdown",
   "metadata": {},
   "source": [
    "**The most similar words**"
   ]
  },
  {
   "cell_type": "code",
   "execution_count": 47,
   "metadata": {},
   "outputs": [
    {
     "data": {
      "text/plain": [
       "[('together', 0.998167097568512),\n",
       " ('we', 0.9981071949005127),\n",
       " ('enough', 0.9981023669242859),\n",
       " ('voice', 0.9980887174606323),\n",
       " (')', 0.9980884790420532),\n",
       " ('into', 0.9980869293212891),\n",
       " ('or', 0.9980865716934204),\n",
       " ('because', 0.9980865120887756),\n",
       " ('only', 0.9980840682983398),\n",
       " ('see', 0.9980798363685608)]"
      ]
     },
     "execution_count": 47,
     "metadata": {},
     "output_type": "execute_result"
    }
   ],
   "source": [
    "model1.wv.most_similar('deep')"
   ]
  },
  {
   "cell_type": "code",
   "execution_count": 48,
   "metadata": {},
   "outputs": [
    {
     "data": {
      "text/plain": [
       "2625"
      ]
     },
     "execution_count": 48,
     "metadata": {},
     "output_type": "execute_result"
    }
   ],
   "source": [
    "len(list(model1.wv.vocab))"
   ]
  },
  {
   "cell_type": "markdown",
   "metadata": {},
   "source": [
    "We can see that `cosine similarity` is not sementic distance. In this model's dataset, the words `deep` and `away` are understood as a `synonym`; since both words are likely to occur in contexts where we’re talking about `distance`. \n",
    "\n",
    "Because this model only contained 2625 vocabularies, hence the result isn't what we expected.\n",
    "\n",
    "Now, we try to Load **`Google’s Word2Vec Embedding`**\n",
    "\n",
    "Training your own word vectors may be the best approach for a given NLP problem.\n",
    "\n",
    "But it can take a long time, a fast computer with a lot of RAM and disk space, and perhaps some expertise in finessing the input data and training algorithm.\n",
    "\n",
    "An alternative is to simply use an existing pre-trained word embedding.\n",
    "\n",
    "Along with the paper and code for word2vec, Google also published a pre-trained word2vec model on the Word2Vec Google Code Project.\n",
    "\n",
    "A pre-trained model is nothing more than a file containing tokens and their associated word vectors. The pre-trained Google word2vec model was trained on Google news data (about 100 billion words); it contains 3 million words and phrases and was fit using 300-dimensional word vectors.\n",
    "\n",
    "The `Gensim library` provides tools to load this file. Specifically, you can call the `KeyedVectors.load_word2vec_format()` function to load this model into memory."
   ]
  },
  {
   "cell_type": "code",
   "execution_count": 49,
   "metadata": {},
   "outputs": [],
   "source": [
    "from gensim.models import KeyedVectors\n",
    "filename = r\"D:\\Nhan\\GoogleNews-vectors-negative300.bin\\GoogleNews-vectors-negative300.bin\"\n",
    "model = KeyedVectors.load_word2vec_format(filename, binary=True)"
   ]
  },
  {
   "cell_type": "code",
   "execution_count": 50,
   "metadata": {},
   "outputs": [
    {
     "data": {
      "text/plain": [
       "[('deeper', 0.6928303241729736),\n",
       " ('deepest', 0.6820540428161621),\n",
       " ('depths', 0.5342872142791748),\n",
       " ('shallow', 0.527501106262207),\n",
       " ('gravelly_voice_fills', 0.5268532633781433),\n",
       " ('Deep', 0.5056449174880981),\n",
       " ('depth', 0.4998552203178406),\n",
       " ('deepening', 0.4924544095993042),\n",
       " ('Deeper', 0.49067163467407227),\n",
       " ('water_newbuilding_drillships', 0.48911160230636597)]"
      ]
     },
     "execution_count": 50,
     "metadata": {},
     "output_type": "execute_result"
    }
   ],
   "source": [
    "model.most_similar('deep')"
   ]
  },
  {
   "cell_type": "markdown",
   "metadata": {},
   "source": [
    "Another interesting thing that you can do is do a little linear algebra arithmetic with words.\n",
    "\n",
    "For example, a popular example described in lectures and introduction papers `queen = (king - man) + woman`. That is the word queen is the closest word given the subtraction of the notion of man from king and adding the word woman. \n",
    "\n",
    "The `“man-ness”` in king is replaced with `“woman-ness”` to give us `queen`. A very cool concept.\n",
    "\n",
    "`Gensim` provides an interface for performing these types of operations in the `most_similar()` function on the trained or loaded model."
   ]
  },
  {
   "cell_type": "code",
   "execution_count": 51,
   "metadata": {},
   "outputs": [
    {
     "name": "stdout",
     "output_type": "stream",
     "text": [
      "[('queen', 0.7118192911148071)]\n"
     ]
    }
   ],
   "source": [
    "result = model.most_similar(positive=['woman', 'king'], negative=['man'], topn=1)\n",
    "print(result)"
   ]
  },
  {
   "cell_type": "markdown",
   "metadata": {},
   "source": [
    "This meant calculating the `(king – man) + woman = ?` operation on the word vectors for those words then the answer, as we would expect, `is queen` with a `cosine_similarity_distance` is about `0.712`.\n",
    "\n",
    "---------------------------------\n",
    "\n",
    "Next, if we take word vectors for the words `“paris,” “france,”` and `“germany”` and perform the following operation\n",
    "\n",
    "                            berlin = germany + paris - france"
   ]
  },
  {
   "cell_type": "code",
   "execution_count": 52,
   "metadata": {},
   "outputs": [
    {
     "name": "stdout",
     "output_type": "stream",
     "text": [
      "[('berlin', 0.48413655161857605), ('german', 0.4656967520713806)]\n"
     ]
    }
   ],
   "source": [
    "result2 = model.most_similar(positive=['germany', 'paris'], negative=['france'], topn=2)\n",
    "print(result2)"
   ]
  },
  {
   "cell_type": "markdown",
   "metadata": {},
   "source": [
    "**Using `get_tmpfile` to initialize a model by load another pre-trained model**"
   ]
  },
  {
   "cell_type": "code",
   "execution_count": 53,
   "metadata": {},
   "outputs": [
    {
     "data": {
      "text/plain": [
       "<gensim.models.word2vec.Word2Vec at 0x23a719e4f08>"
      ]
     },
     "execution_count": 53,
     "metadata": {},
     "output_type": "execute_result"
    }
   ],
   "source": [
    "from gensim.test.utils import common_texts, get_tmpfile\n",
    "path = get_tmpfile(\"word2vec.model\")\n",
    "\n",
    "## The training is streamed, meaning sentences can be a generator, reading input data from disk on-the-fly, \n",
    "## without loading the entire corpus into RAM.\n",
    "model = Word2Vec(common_texts, size=100, window=5, min_count=1, workers=4)\n",
    "model"
   ]
  },
  {
   "cell_type": "markdown",
   "metadata": {},
   "source": [
    "`saving; loading and training with a word_vector of a list of list 3 words: \"hello\", \"world\", \"Python\"` and `\"married\", \"love\", \"wedding\"`\n",
    "\n",
    "**Describe params.** \n",
    "                    \n",
    "     Word2Vec.train(sentences, total_examples, total_words, epochs, start_alpha, end_alpha, word_count, report_delay)\n",
    "     \n",
    "where:\n",
    "- **`total_examples`**: `count of sentences`; while `total_words` be the `count of raw words in sentences`.\n",
    "- **`epochs`** Number of iterations (epochs) over the corpus.\n",
    "- **`start_alpha`** Initial learning rate. If supplied, replaces the starting `alpha` from the constructor, for this one call to `train()`. Use only if making multiple calls to `train()`, when you want to manage the alpha learning-rate yourself **`(not recommended)`**.\n",
    "- **`end_alpha`** : Final learning rate. Drops linearly from `start_alpha`. If supplied, this replaces the final `min_alpha` from the constructor, for this one call to `train()`. Use only if making multiple calls to `train()`, when you want to manage the alpha learning-rate yourself **`(not recommended)`**.\n",
    "- **`word_count`**: Count of words already trained. Set this to 0 for the usual case of training on all words in sentences.\n",
    "- **`report_delay`**: Seconds to wait before reporting progress"
   ]
  },
  {
   "cell_type": "code",
   "execution_count": 54,
   "metadata": {},
   "outputs": [
    {
     "data": {
      "text/plain": [
       "(0, 6)"
      ]
     },
     "execution_count": 54,
     "metadata": {},
     "output_type": "execute_result"
    }
   ],
   "source": [
    "model.save(\"word2vec.model\")\n",
    "\n",
    "sentences = [[\"hello\", \"world\", \"python\"], [\"married\", \"love\", \"wedding\"]]\n",
    "\n",
    "## load\n",
    "model = Word2Vec.load(\"word2vec.model\")\n",
    "model.train(sentences, total_examples=1, epochs=1)"
   ]
  },
  {
   "cell_type": "markdown",
   "metadata": {},
   "source": [
    "the second values in the output is proportional to the `epochs` values"
   ]
  },
  {
   "cell_type": "code",
   "execution_count": 55,
   "metadata": {},
   "outputs": [
    {
     "data": {
      "text/plain": [
       "(0, 54)"
      ]
     },
     "execution_count": 55,
     "metadata": {},
     "output_type": "execute_result"
    }
   ],
   "source": [
    "model.train(sentences, total_examples=1, epochs=9)"
   ]
  },
  {
   "cell_type": "markdown",
   "metadata": {},
   "source": [
    "However, if we initialize a `non pre-trainned` model, then change `total_examples = new_model.corpus_count` and `epochs = new_model.epochs`; we receive the"
   ]
  },
  {
   "cell_type": "code",
   "execution_count": 56,
   "metadata": {},
   "outputs": [
    {
     "data": {
      "text/plain": [
       "(0, 54)"
      ]
     },
     "execution_count": 56,
     "metadata": {},
     "output_type": "execute_result"
    }
   ],
   "source": [
    "model.train(sentences, total_examples = model.corpus_count, epochs = model.epochs)  # train word vectors"
   ]
  },
  {
   "cell_type": "markdown",
   "metadata": {},
   "source": [
    "The trained word vectors are stored in a `KeyedVectors` instance in `model.wv`:"
   ]
  },
  {
   "cell_type": "code",
   "execution_count": 57,
   "metadata": {},
   "outputs": [
    {
     "name": "stdout",
     "output_type": "stream",
     "text": [
      "word-vector : [-1.88834616e-03 -2.61200615e-03  1.07650114e-04  4.60221432e-03\n",
      "  4.95159486e-03 -4.15452290e-03 -4.11801506e-03  2.77039176e-03\n",
      "  1.59182865e-03 -1.26333628e-03 -8.89174044e-05  3.36515880e-03\n",
      "  2.50776554e-03  4.56538238e-03  2.66583893e-03  7.21149612e-04\n",
      "  6.76337047e-04 -3.47230840e-03  1.14229973e-03 -4.90841316e-03\n",
      "  3.10517079e-03 -3.63780186e-03 -4.65809787e-03 -4.48521553e-03\n",
      " -4.21657972e-03 -1.09269656e-03 -1.10216939e-03 -1.06165477e-03\n",
      " -2.64517311e-03  5.57712745e-04 -3.22832773e-03  2.05959799e-03\n",
      " -2.64494377e-03 -3.00360960e-03  4.80183121e-03  3.53265816e-04\n",
      " -4.89964290e-03 -9.40795508e-05 -3.24646663e-03  4.68795979e-03\n",
      " -4.22382233e-04 -4.21441905e-03  4.28246940e-03  3.97794507e-03\n",
      "  4.67866380e-03 -6.84167957e-04  2.17349059e-03  4.85589076e-03\n",
      " -2.00581620e-03 -4.00197972e-03 -2.53458717e-03 -3.12032457e-03\n",
      "  3.97901516e-03 -3.11713433e-03  1.48711551e-03  4.89191990e-03\n",
      " -9.44860454e-04  2.55011022e-03 -1.90514687e-03  7.97747052e-05\n",
      "  3.29140527e-03  8.22564063e-04 -1.88012864e-03 -4.19941935e-04\n",
      "  6.20385108e-04  3.08432220e-03  4.51746304e-03  3.28412908e-03\n",
      "  1.48435065e-03  3.03564756e-03  4.41248901e-03 -4.43751877e-03\n",
      "  2.06111278e-03  1.18821452e-03 -3.98229714e-03  9.71495989e-04\n",
      "  2.86596501e-03 -4.00914345e-03 -2.17467360e-03  4.46149753e-03\n",
      " -7.05602652e-05  1.29561999e-03 -2.51722406e-03  3.46886367e-03\n",
      "  8.59194435e-04 -9.90921282e-04 -1.45885884e-03  1.99390948e-03\n",
      "  1.93067023e-03  4.98657860e-03  7.66911486e-04  2.18381686e-03\n",
      "  3.89992911e-03 -8.81159096e-04  8.20690941e-04  3.49680922e-04\n",
      "  2.26969738e-03  4.25749691e-03 -2.30208447e-04  1.06038200e-03]\n",
      "shape : (100,)\n"
     ]
    }
   ],
   "source": [
    "vector = model.wv['computer']  # numpy vector of a word\n",
    "print('word-vector :', vector)\n",
    "print('shape :', vector.shape)"
   ]
  },
  {
   "cell_type": "markdown",
   "metadata": {},
   "source": [
    "The reason for separating the trained vectors into `KeyedVectors` is that if you don’t need the full model state any more (don’t need to continue training), the state can discarded, resulting in a much smaller and faster object that can be mmapped for lightning fast loading and sharing the vectors in RAM between processes:"
   ]
  },
  {
   "cell_type": "code",
   "execution_count": 58,
   "metadata": {},
   "outputs": [
    {
     "name": "stdout",
     "output_type": "stream",
     "text": [
      "word-vector : [-1.88834616e-03 -2.61200615e-03  1.07650114e-04  4.60221432e-03\n",
      "  4.95159486e-03 -4.15452290e-03 -4.11801506e-03  2.77039176e-03\n",
      "  1.59182865e-03 -1.26333628e-03 -8.89174044e-05  3.36515880e-03\n",
      "  2.50776554e-03  4.56538238e-03  2.66583893e-03  7.21149612e-04\n",
      "  6.76337047e-04 -3.47230840e-03  1.14229973e-03 -4.90841316e-03\n",
      "  3.10517079e-03 -3.63780186e-03 -4.65809787e-03 -4.48521553e-03\n",
      " -4.21657972e-03 -1.09269656e-03 -1.10216939e-03 -1.06165477e-03\n",
      " -2.64517311e-03  5.57712745e-04 -3.22832773e-03  2.05959799e-03\n",
      " -2.64494377e-03 -3.00360960e-03  4.80183121e-03  3.53265816e-04\n",
      " -4.89964290e-03 -9.40795508e-05 -3.24646663e-03  4.68795979e-03\n",
      " -4.22382233e-04 -4.21441905e-03  4.28246940e-03  3.97794507e-03\n",
      "  4.67866380e-03 -6.84167957e-04  2.17349059e-03  4.85589076e-03\n",
      " -2.00581620e-03 -4.00197972e-03 -2.53458717e-03 -3.12032457e-03\n",
      "  3.97901516e-03 -3.11713433e-03  1.48711551e-03  4.89191990e-03\n",
      " -9.44860454e-04  2.55011022e-03 -1.90514687e-03  7.97747052e-05\n",
      "  3.29140527e-03  8.22564063e-04 -1.88012864e-03 -4.19941935e-04\n",
      "  6.20385108e-04  3.08432220e-03  4.51746304e-03  3.28412908e-03\n",
      "  1.48435065e-03  3.03564756e-03  4.41248901e-03 -4.43751877e-03\n",
      "  2.06111278e-03  1.18821452e-03 -3.98229714e-03  9.71495989e-04\n",
      "  2.86596501e-03 -4.00914345e-03 -2.17467360e-03  4.46149753e-03\n",
      " -7.05602652e-05  1.29561999e-03 -2.51722406e-03  3.46886367e-03\n",
      "  8.59194435e-04 -9.90921282e-04 -1.45885884e-03  1.99390948e-03\n",
      "  1.93067023e-03  4.98657860e-03  7.66911486e-04  2.18381686e-03\n",
      "  3.89992911e-03 -8.81159096e-04  8.20690941e-04  3.49680922e-04\n",
      "  2.26969738e-03  4.25749691e-03 -2.30208447e-04  1.06038200e-03]\n",
      "shape : (100,)\n"
     ]
    }
   ],
   "source": [
    "path = get_tmpfile(\"wordvectors.kv\")\n",
    "model.wv.save(path)\n",
    "model.wv = KeyedVectors.load(path, mmap='r')\n",
    "vector = model.wv['computer']  # numpy vector of a word\n",
    "print('word-vector :', vector)\n",
    "print('shape :', vector.shape)"
   ]
  },
  {
   "cell_type": "markdown",
   "metadata": {},
   "source": [
    "Comeback the pre-trained model\n",
    "\n",
    "                    model = KeyedVectors.load_word2vec_format(filename, binary=True)\n",
    "\n",
    "if we don't want to use this; we can initialize then train the `text_data`\n",
    "\n",
    "                    model = Word2Vec(min_count = 20,\n",
    "                                         window = 2,\n",
    "                                         size = 300,\n",
    "                                         sample= 6e-5, \n",
    "                                         alpha = 0.03, \n",
    "                                         min_alpha = 0.0007, \n",
    "                                         negative = 20,\n",
    "                                         workers = 2)\n",
    "                    model.build_vocab(data, progress_per = 10000)\n",
    "                    model.train(data, total_examples = model.corpus_count, epochs=30, report_delay=1)"
   ]
  },
  {
   "cell_type": "code",
   "execution_count": 59,
   "metadata": {},
   "outputs": [],
   "source": [
    "model = KeyedVectors.load_word2vec_format(filename, binary=True)"
   ]
  },
  {
   "cell_type": "markdown",
   "metadata": {},
   "source": [
    "**Using `Word2Vec` to explore the `positive-similar` words of `\"the\"`**"
   ]
  },
  {
   "cell_type": "code",
   "execution_count": 60,
   "metadata": {},
   "outputs": [
    {
     "data": {
      "text/plain": [
       "[('this', 0.5937378406524658),\n",
       " ('in', 0.5429296493530273),\n",
       " ('that', 0.5262569785118103),\n",
       " ('ofthe', 0.515028178691864),\n",
       " ('another', 0.47483524680137634),\n",
       " ('however', 0.4748331904411316),\n",
       " ('one', 0.4665869474411011),\n",
       " ('entire', 0.46198248863220215),\n",
       " ('its', 0.460594117641449),\n",
       " ('which', 0.4595310688018799)]"
      ]
     },
     "execution_count": 60,
     "metadata": {},
     "output_type": "execute_result"
    }
   ],
   "source": [
    "model.init_sims(replace=True)\n",
    "model.most_similar(positive=[\"the\"])"
   ]
  },
  {
   "cell_type": "markdown",
   "metadata": {},
   "source": [
    "**Build a `scatterplot` of the similar word by using `t-SNE`**\n",
    "\n",
    "Reference `t-SNE`:\n",
    "https://scikit-learn.org/stable/modules/generated/sklearn.manifold.TSNE.html\n",
    "\n",
    "mygithub"
   ]
  },
  {
   "cell_type": "code",
   "execution_count": 61,
   "metadata": {},
   "outputs": [
    {
     "data": {
      "image/png": "[encoded data removed]",
      "text/plain": [
       "<Figure size 1008x648 with 1 Axes>"
      ]
     },
     "metadata": {
      "needs_background": "light"
     },
     "output_type": "display_data"
    }
   ],
   "source": [
    "import seaborn as sns\n",
    "import matplotlib.pyplot as plt\n",
    "from sklearn.manifold import TSNE\n",
    "from sklearn.decomposition import PCA\n",
    "\n",
    "def tsnescatterplot(model, word, list_names):\n",
    "    \"\"\" Plot in seaborn the results from the t-SNE dimensionality reduction algorithm of the vectors of a query word,\n",
    "    its list of most similar words, and a list of words.\n",
    "    \"\"\"\n",
    "    arrays = np.empty((0, 300), dtype='f')\n",
    "    word_labels = [word]\n",
    "    color_list  = ['red']\n",
    "\n",
    "    # adds the vector of the query word\n",
    "    arrays = np.append(arrays, model.__getitem__([word]), axis=0)\n",
    "    \n",
    "    # gets list of most similar words\n",
    "    close_words = model.most_similar([word])\n",
    "    \n",
    "    # adds the vector for each of the closest words to the array\n",
    "    for wrd_score in close_words:\n",
    "        wrd_vector = model.__getitem__([wrd_score[0]])    ## using either model.wv__getitem__ or model.__getitem__\n",
    "        word_labels.append(wrd_score[0])\n",
    "        color_list.append('blue')\n",
    "        arrays = np.append(arrays, wrd_vector, axis=0)\n",
    "    \n",
    "    # adds the vector for each of the words from list_names to the array\n",
    "    for wrd in list_names:\n",
    "        wrd_vector = model.__getitem__([wrd])\n",
    "        word_labels.append(wrd)\n",
    "        color_list.append('green')\n",
    "        arrays = np.append(arrays, wrd_vector, axis=0)\n",
    "        \n",
    "    # Reduces the dimensionality from 300 to 50 dimensions with PCA\n",
    "    reduc = PCA(n_components=10).fit_transform(arrays)\n",
    "    \n",
    "    # Finds t-SNE coordinates for 2 dimensions\n",
    "    np.set_printoptions(suppress=True)\n",
    "    \n",
    "    Y = TSNE(n_components=2, random_state=0, perplexity=15).fit_transform(reduc)\n",
    "    \n",
    "    # Sets everything up to plot\n",
    "    df = pd.DataFrame({'x': [x for x in Y[:, 0]],\n",
    "                       'y': [y for y in Y[:, 1]],\n",
    "                       'words': word_labels,\n",
    "                       'color': color_list})\n",
    "    \n",
    "    fig, _ = plt.subplots()\n",
    "    fig.set_size_inches(14, 9)\n",
    "    \n",
    "    # Basic plot\n",
    "    p1 = sns.regplot(data=df,\n",
    "                     x=\"x\",\n",
    "                     y=\"y\",\n",
    "                     fit_reg=False,\n",
    "                     marker=\"o\",\n",
    "                     scatter_kws={'s': 40,\n",
    "                                  'facecolors': df['color']\n",
    "                                 }\n",
    "                    )\n",
    "    \n",
    "    # Adds annotations one by one with a loop\n",
    "    for line in range(0, df.shape[0]):\n",
    "         p1.text(df[\"x\"][line],\n",
    "                 df['y'][line],\n",
    "                 '  ' + df[\"words\"][line].title(),\n",
    "                 horizontalalignment='left',\n",
    "                 verticalalignment='bottom', size='medium',\n",
    "                 color=df['color'][line],\n",
    "                 weight='normal'\n",
    "                ).set_size(15)\n",
    "\n",
    "    \n",
    "    plt.xlim(Y[:, 0].min()-50, Y[:, 0].max()+50)\n",
    "    plt.ylim(Y[:, 1].min()-50, Y[:, 1].max()+50)\n",
    "            \n",
    "    plt.title('t-SNE visualization for the word \"{}\"\"'.format(word.title()))\n",
    "    \n",
    "tsnescatterplot(model, 'the', ['king', 'queen', 'alice', 'go', 'away'])"
   ]
  },
  {
   "cell_type": "markdown",
   "metadata": {},
   "source": [
    "The Word to Vec model produces a vocabulary, with each word being represented by an n-dimensional numpy array (100 values in this example)"
   ]
  },
  {
   "cell_type": "code",
   "execution_count": 62,
   "metadata": {},
   "outputs": [
    {
     "data": {
      "image/png": "[encoded data removed]",
      "text/plain": [
       "<Figure size 1152x1152 with 1 Axes>"
      ]
     },
     "metadata": {
      "needs_background": "light"
     },
     "output_type": "display_data"
    }
   ],
   "source": [
    "# model = KeyedVectors.load_word2vec_format(filename, binary=True)\n",
    "new_model = Word2Vec(data, size=100, window=20, min_count=50, workers=4)\n",
    "\n",
    "def tsne_plot(model):\n",
    "    \"Creates and TSNE model and plots it\"\n",
    "    labels = []\n",
    "    tokens = []\n",
    "\n",
    "    for word in model.wv.vocab:\n",
    "        tokens.append(model.wv[word])\n",
    "        labels.append(word)\n",
    "    \n",
    "    tsne_model = TSNE(perplexity = 40, n_components = 2, init='pca', n_iter=2500, random_state=23)\n",
    "    new_values = tsne_model.fit_transform(tokens)\n",
    "\n",
    "    x = []\n",
    "    y = []\n",
    "    for value in new_values:\n",
    "        x.append(value[0])\n",
    "        y.append(value[1])\n",
    "        \n",
    "    plt.figure(figsize=(16, 16)) \n",
    "    for i in range(len(x)):\n",
    "        plt.scatter(x[i],y[i])\n",
    "        plt.annotate(labels[i],\n",
    "                     xy=(x[i], y[i]),\n",
    "                     xytext=(5, 2),\n",
    "                     textcoords='offset points',\n",
    "                     ha='right',\n",
    "                     va='bottom')\n",
    "    plt.show()\n",
    "\n",
    "tsne_plot(new_model)"
   ]
  },
  {
   "cell_type": "markdown",
   "metadata": {},
   "source": [
    "### 3.2. Glove Embedding\n",
    "\n",
    "After Tomas Mikolov et al. released the word2vec tool, there was a boom of articles about word vector representations. One of the best of these articles is `Stanford’s GloVe`: `Global Vectors for Word Representation`, which explained why such algorithms work and reformulated word2vec optimizations as a special kind of factoriazation for word `co-occurence matrices`.\n",
    "\n",
    "Ref: https://www.coursera.org/lecture/nlp-sequence-models/glove-word-vectors-IxDTG\n",
    "\n",
    "https://nlp.stanford.edu/pubs/glove.pdf\n",
    "\n",
    "**`GloVe algorithm`**. The `GloVe algorithm` consists of following steps:\n",
    "- **Step 1. Collect word co-occurence statistics in a form of word co-ocurrence matrix** $X$. Each element\n",
    "\n",
    "$$ X_{i,j} = \\text{count} \\left( \\text{word}_i \\in \\text{context} \\left( \\text{word}_j \\right) \\right)$$ \n",
    "\n",
    "then **calculate** `the probability that word j appear in the context of word j`\n",
    "\n",
    "$$ P(i | j) = \\dfrac{X_{i, j}}{\\sum_{k} X_{i, k}}. $$\n",
    "\n",
    "- **Step 2. For each word pair, define `soft constraints`** \n",
    "\n",
    "$$ w_i^T w_j + b_i + b_j = \\log X_{i, j} $$\n",
    "\n",
    "where $b_i, b_j$ be the additional bias of the words $i$ and $j$ respectively (to restore the symmetry of $X$); $w_i$ be the vectors of the `main-words` and $w_j$ is vector for the `context word`.\n",
    "\n",
    "- **Step 3. Define a `cost function`**\n",
    "\n",
    "$$ J=\\sum_{i,j=1}^{V}f\\left(X_{i,j}\\right)\\left[w_{i}^{T}w_{j}+b_{i}+b_{j}-\\log X_{i,j}\\right]^{2} $$\n",
    "\n",
    "where $f$ is a `weighting function` which help us to prevent learning only from extremely common word pairs; and $V$ is the `size of the vocabulary`."
   ]
  },
  {
   "cell_type": "code",
   "execution_count": 63,
   "metadata": {},
   "outputs": [
    {
     "data": {
      "text/plain": [
       "Text(0, 0.5, '$f(x)$')"
      ]
     },
     "execution_count": 63,
     "metadata": {},
     "output_type": "execute_result"
    },
    {
     "data": {
      "image/png": "[encoded data removed]",
      "text/plain": [
       "<Figure size 432x288 with 1 Axes>"
      ]
     },
     "metadata": {
      "needs_background": "light"
     },
     "output_type": "display_data"
    }
   ],
   "source": [
    "## For alpha = 3/4, and x_max = 100 then\n",
    "import matplotlib.pyplot as plt\n",
    "\n",
    "alpha = 3/4\n",
    "x_max = 100\n",
    "x_ij = np.linspace(0, 300, 3000)\n",
    "f_x = (x_ij / x_max)**alpha*(x_ij < 100) + 1*(x_ij >= 100)\n",
    "\n",
    "plt.plot(x_ij, f_x, '-')\n",
    "plt.xlabel(\"$x$\")\n",
    "plt.ylabel(\"$f(x)$\")"
   ]
  },
  {
   "cell_type": "markdown",
   "metadata": {},
   "source": [
    "####  `weighting function.`\n",
    "\n",
    "The `weighting function` should obey the following properties:\n",
    "- i. $f (0) = 0$. If $f$ is viewed as a continuous function, it should vanish as $x \\to 0$  fast enough that the $\\lim f(x) \\log^2 x = 0$\n",
    "- ii. $f$ should be non-decreasing so that `rare co-occurrences` are not `overweighted`.\n",
    "- iii. $f$ should be relatively small for large values of $x$, so that frequent `co-occurrences` are not `overweighted`.\n",
    "\n",
    "The GloVe authors choose the following function:\n",
    "\n",
    "$$ f(x) = \\left \\lbrace \\begin{array}{ccl} \\left( \\dfrac{x}{x_{\\text{max}}} \\right)^{\\alpha} &, & \\text{if } x < x_{\\text{max}} \\\\ 1 &, & \\text{otherwise} \\end{array} \\right. $$\n",
    "\n",
    "\n",
    "#### Loading & viewing dataset before using `GloVe`"
   ]
  },
  {
   "cell_type": "code",
   "execution_count": 64,
   "metadata": {},
   "outputs": [
    {
     "data": {
      "text/html": [
       "<div>\n",
       "<style scoped>\n",
       "    .dataframe tbody tr th:only-of-type {\n",
       "        vertical-align: middle;\n",
       "    }\n",
       "\n",
       "    .dataframe tbody tr th {\n",
       "        vertical-align: top;\n",
       "    }\n",
       "\n",
       "    .dataframe thead th {\n",
       "        text-align: right;\n",
       "    }\n",
       "</style>\n",
       "<table border=\"1\" class=\"dataframe\">\n",
       "  <thead>\n",
       "    <tr style=\"text-align: right;\">\n",
       "      <th></th>\n",
       "      <th>target</th>\n",
       "      <th>text_mes</th>\n",
       "    </tr>\n",
       "  </thead>\n",
       "  <tbody>\n",
       "    <tr>\n",
       "      <th>0</th>\n",
       "      <td>ham</td>\n",
       "      <td>Go until jurong point, crazy.. Available only ...</td>\n",
       "    </tr>\n",
       "    <tr>\n",
       "      <th>1</th>\n",
       "      <td>ham</td>\n",
       "      <td>Ok lar... Joking wif u oni...</td>\n",
       "    </tr>\n",
       "    <tr>\n",
       "      <th>2</th>\n",
       "      <td>spam</td>\n",
       "      <td>Free entry in 2 a wkly comp to win FA Cup fina...</td>\n",
       "    </tr>\n",
       "    <tr>\n",
       "      <th>3</th>\n",
       "      <td>ham</td>\n",
       "      <td>U dun say so early hor... U c already then say...</td>\n",
       "    </tr>\n",
       "    <tr>\n",
       "      <th>4</th>\n",
       "      <td>ham</td>\n",
       "      <td>Nah I don't think he goes to usf, he lives aro...</td>\n",
       "    </tr>\n",
       "    <tr>\n",
       "      <th>5</th>\n",
       "      <td>spam</td>\n",
       "      <td>FreeMsg Hey there darling it's been 3 week's n...</td>\n",
       "    </tr>\n",
       "  </tbody>\n",
       "</table>\n",
       "</div>"
      ],
      "text/plain": [
       "  target                                           text_mes\n",
       "0    ham  Go until jurong point, crazy.. Available only ...\n",
       "1    ham                      Ok lar... Joking wif u oni...\n",
       "2   spam  Free entry in 2 a wkly comp to win FA Cup fina...\n",
       "3    ham  U dun say so early hor... U c already then say...\n",
       "4    ham  Nah I don't think he goes to usf, he lives aro...\n",
       "5   spam  FreeMsg Hey there darling it's been 3 week's n..."
      ]
     },
     "execution_count": 64,
     "metadata": {},
     "output_type": "execute_result"
    }
   ],
   "source": [
    "new_df = pd.read_csv(r\"C:\\Users\\Admin\\Desktop\\Nhan_pro\\Data\\ML\\spam.csv\", \n",
    "                     usecols = ['text_mes', 'target'], encoding='ISO-8859-1')\n",
    "new_df.head(6)"
   ]
  },
  {
   "cell_type": "markdown",
   "metadata": {},
   "source": [
    "#### Find the `maximum_length` from each `messages` in the `text_data`"
   ]
  },
  {
   "cell_type": "code",
   "execution_count": 65,
   "metadata": {},
   "outputs": [
    {
     "data": {
      "text/plain": [
       "171"
      ]
     },
     "execution_count": 65,
     "metadata": {},
     "output_type": "execute_result"
    }
   ],
   "source": [
    "new_df['Numb_words'] = new_df['text_mes'].str.split().map(lambda x: len(x))\n",
    "MAX_LEN = new_df['Numb_words'].max()\n",
    "MAX_LEN"
   ]
  },
  {
   "cell_type": "markdown",
   "metadata": {},
   "source": [
    "#### create the `text_pad` by using `tensorflow.keras.preprocessing.sequence.pad_sequences` to pad sequences to the same length.\n",
    "\n",
    "Of course, set the `stopword` be `\"english\"` with the `max_len` be the maximum_length of the messages(observations) in the `text_data`"
   ]
  },
  {
   "cell_type": "code",
   "execution_count": 66,
   "metadata": {},
   "outputs": [
    {
     "name": "stderr",
     "output_type": "stream",
     "text": [
      "100%|██████████| 5572/5572 [00:01<00:00, 4600.16it/s]\n"
     ]
    },
    {
     "data": {
      "text/plain": [
       "(array([[   9, 3607,  699, ...,    0,    0,    0],\n",
       "        [  12,  261, 1423, ...,    0,    0,    0],\n",
       "        [  10,  380,  658, ...,    0,    0,    0],\n",
       "        ...,\n",
       "        [7174, 1119,   51, ...,    0,    0,    0],\n",
       "        [  58,  393, 7176, ...,    0,    0,    0],\n",
       "        [2232,  109,  427, ...,    0,    0,    0]]),\n",
       " (5572, 171))"
      ]
     },
     "execution_count": 66,
     "metadata": {},
     "output_type": "execute_result"
    }
   ],
   "source": [
    "from tqdm import tqdm\n",
    "from nltk.corpus import stopwords\n",
    "from tensorflow.keras.preprocessing.sequence import pad_sequences\n",
    "\n",
    "stop = set(stopwords.words('english'))\n",
    "\n",
    "def create_corpus(data):\n",
    "    corpus=[]\n",
    "    for tweet in tqdm(data['text_mes']):\n",
    "        words = [word.lower() for word in word_tokenize(tweet) if((word.isalpha()==1) & (word not in stop))]\n",
    "        corpus.append(words)\n",
    "    return corpus\n",
    "\n",
    "corpus=create_corpus(new_df)\n",
    "\n",
    "tokenizer_obj = Tokenizer()\n",
    "tokenizer_obj.fit_on_texts(corpus)\n",
    "sequences = tokenizer_obj.texts_to_sequences(corpus)\n",
    "tweet_pad = pad_sequences(sequences, maxlen = MAX_LEN, truncating='post',padding='post')\n",
    "\n",
    "tweet_pad, tweet_pad.shape"
   ]
  },
  {
   "cell_type": "markdown",
   "metadata": {},
   "source": [
    "#### Create a `embedding_matrix` by generating an `embedding_dictionaries`"
   ]
  },
  {
   "cell_type": "code",
   "execution_count": 67,
   "metadata": {},
   "outputs": [
    {
     "name": "stdout",
     "output_type": "stream",
     "text": [
      "Number of unique words: 7176\n"
     ]
    },
    {
     "name": "stderr",
     "output_type": "stream",
     "text": [
      "100%|██████████| 7176/7176 [00:00<00:00, 400462.03it/s]\n"
     ]
    },
    {
     "data": {
      "text/plain": [
       "(array([[ 0.        ,  0.        ,  0.        , ...,  0.        ,\n",
       "          0.        ,  0.        ],\n",
       "        [-0.13292   ,  0.16985001, -0.1436    , ..., -0.23778   ,\n",
       "          0.14766   ,  0.62901998],\n",
       "        [ 0.016393  , -0.40066999, -0.26541001, ..., -0.63717997,\n",
       "         -0.066708  ,  0.35212001],\n",
       "        ...,\n",
       "        [ 0.035287  , -0.11865   ,  0.28911999, ...,  0.071298  ,\n",
       "          0.34976   , -0.1023    ],\n",
       "        [-0.15858001, -0.29181999, -0.021233  , ..., -0.51073003,\n",
       "         -0.18125001, -0.20965999],\n",
       "        [ 0.22224   , -0.23886   , -0.27068001, ...,  0.11075   ,\n",
       "          0.40976   , -0.053967  ]]),\n",
       " (7177, 300))"
      ]
     },
     "execution_count": 67,
     "metadata": {},
     "output_type": "execute_result"
    }
   ],
   "source": [
    "word_index = tokenizer_obj.word_index\n",
    "print('Number of unique words:', len(word_index))\n",
    "\n",
    "dim = 300\n",
    "embedding_dict={}\n",
    "with open(r\"D:\\Nhan\\glove.6B.300d.txt\", 'r', encoding='utf8', errors='ignore') as f:\n",
    "    for line in f:\n",
    "        values = line.split()\n",
    "        word = values[0]\n",
    "        vectors = np.asarray(values[1:], 'float32')\n",
    "        embedding_dict[word]=vectors\n",
    "f.close()\n",
    "\n",
    "num_words = len(word_index) + 1   ## Number of words_vocab in the text_data\n",
    "embedding_matrix = np.zeros((num_words, dim))\n",
    "\n",
    "for word,i in tqdm(word_index.items()):\n",
    "    if i > num_words:\n",
    "        continue\n",
    "    \n",
    "    emb_vec=embedding_dict.get(word)\n",
    "    if emb_vec is not None:\n",
    "        embedding_matrix[i] = emb_vec\n",
    "\n",
    "embedding_matrix, embedding_matrix.shape"
   ]
  },
  {
   "cell_type": "code",
   "execution_count": 68,
   "metadata": {},
   "outputs": [
    {
     "data": {
      "text/plain": [
       "(300,)"
      ]
     },
     "execution_count": 68,
     "metadata": {},
     "output_type": "execute_result"
    }
   ],
   "source": [
    "embedding_dict[\"king\"].shape"
   ]
  },
  {
   "cell_type": "markdown",
   "metadata": {},
   "source": [
    "Now, then the `word \"king\"` was expressed as a `word_vector` in $\\mathbb{R}^{300}$\n",
    "\n",
    "Next, **find the most `similarity words` of `\"king\"`**"
   ]
  },
  {
   "cell_type": "code",
   "execution_count": 69,
   "metadata": {},
   "outputs": [
    {
     "data": {
      "text/plain": [
       "['king', 'queen', 'monarch', 'prince', 'kingdom']"
      ]
     },
     "execution_count": 69,
     "metadata": {},
     "output_type": "execute_result"
    }
   ],
   "source": [
    "from scipy import spatial\n",
    "\n",
    "def find_closest_embeddings(embedding):\n",
    "    return sorted(embedding_dict.keys(), key=lambda word: spatial.distance.euclidean(embedding_dict[word], embedding))\n",
    "\n",
    "find_closest_embeddings(embedding_dict[\"king\"])[:5]"
   ]
  },
  {
   "cell_type": "markdown",
   "metadata": {},
   "source": [
    "### Math with Words\n",
    "Now that we can turn any word into a vector, we can use any math operation usable on vectors, on words."
   ]
  },
  {
   "cell_type": "code",
   "execution_count": 70,
   "metadata": {},
   "outputs": [
    {
     "name": "stdout",
     "output_type": "stream",
     "text": [
      "['twig', 'hand', 'cupping', 'fingers', 'paddles']\n",
      "['king', 'queen', 'monarch', 'mother', 'princess']\n",
      "['berlin', 'frankfurt', 'germany', 'munich', 'cologne']\n"
     ]
    }
   ],
   "source": [
    "print(find_closest_embeddings(embedding_dict[\"twig\"] - embedding_dict[\"branch\"] + embedding_dict[\"hand\"])[:5])\n",
    "print(find_closest_embeddings(embedding_dict[\"woman\"] - embedding_dict[\"man\"] + embedding_dict[\"king\"])[:5])\n",
    "print(find_closest_embeddings(embedding_dict[\"paris\"] - embedding_dict[\"france\"] + embedding_dict[\"germany\"])[:5])"
   ]
  },
  {
   "cell_type": "code",
   "execution_count": 71,
   "metadata": {},
   "outputs": [
    {
     "data": {
      "image/png": "[encoded data removed]",
      "text/plain": [
       "<Figure size 1008x576 with 1 Axes>"
      ]
     },
     "metadata": {
      "needs_background": "light"
     },
     "output_type": "display_data"
    }
   ],
   "source": [
    "tsne = TSNE(n_components=2, random_state=0)\n",
    "words =  list(embedding_dict.keys())\n",
    "vectors = [embedding_dict[word] for word in words]\n",
    "Y = tsne.fit_transform(vectors[:100])\n",
    "plt.figure(figsize = (14, 8))\n",
    "plt.scatter(Y[:, 0], Y[:, 1])\n",
    "\n",
    "for label, x, y in zip(words, Y[:, 0], Y[:, 1]):\n",
    "    plt.annotate(label, xy=(x, y), xytext=(0, 0), textcoords=\"offset points\")\n",
    "plt.show()"
   ]
  },
  {
   "cell_type": "markdown",
   "metadata": {},
   "source": [
    "## 4. Using `Keras layers and keras embedding layers` in `NLP`\n",
    "\n",
    "https://stackoverflow.com/questions/42762849/keras-embedding-layers-how-do-they-work\n",
    "\n",
    "### 4.1. Something about `Keras Embedding layers`\n",
    "\n",
    "In `keras`; the syntax be\n",
    "\n",
    "                        Embedding(input_dim = vocab_size, \n",
    "                                  output_dim = size of word_embedding_vector, \n",
    "                                  input_length = max_length)\n",
    "                        \n",
    "                        \n",
    "See more by pressing `help(Embedding)`\n",
    "\n",
    "For example,"
   ]
  },
  {
   "cell_type": "code",
   "execution_count": 75,
   "metadata": {},
   "outputs": [
    {
     "data": {
      "text/plain": [
       "<keras.layers.embeddings.Embedding at 0x23a855ce4c8>"
      ]
     },
     "execution_count": 75,
     "metadata": {},
     "output_type": "execute_result"
    }
   ],
   "source": [
    "from keras.layers import Embedding\n",
    "Embedding(9, 2, input_length = 5)"
   ]
  },
  {
   "cell_type": "markdown",
   "metadata": {},
   "source": [
    "Suppose that the sentence is defined by\n",
    "\n",
    "                sentences = [\"Nice to meet you\", \n",
    "                             \"This the is sentence last\",\n",
    "                             \"At each stage, the margin is determined for each sentence\"]\n",
    "\n",
    "Then; if we `encode` these phrases by assigning each word a `unique integer` number (by order of appearance in our training dataset for example). Then our phrases could be rewritten as:\n",
    "\n",
    "                                     [[ 7  2 11  9  0  0  0  0  0  0]\n",
    "                                     [ 1  2  7  4  9  0  0  0  0  0]\n",
    "                                     [ 2  6  3  2 13  7 13 11  6  4]]\n",
    "                            \n",
    "Now, verify this"
   ]
  },
  {
   "cell_type": "code",
   "execution_count": 197,
   "metadata": {},
   "outputs": [
    {
     "name": "stdout",
     "output_type": "stream",
     "text": [
      "Vocabulary Size: 15 \n",
      "They are: \n",
      " {1: 'the', 2: 'is', 3: 'sentence', 4: 'each', 5: 'nice', 6: 'to', 7: 'meet', 8: 'you', 9: 'this', 10: 'last', 11: 'at', 12: 'stage', 13: 'margin', 14: 'determined', 15: 'for'} ,\n",
      "Max_length of each sentence =  10\n",
      "Encoded_sentences: [[8, 3, 3, 3], [9, 10, 6, 2, 4], [3, 1, 14, 10, 15, 6, 12, 6, 1, 2]]\n",
      "Padded_sentences: \n",
      " [[ 8  3  3  3  0  0  0  0  0  0]\n",
      " [ 9 10  6  2  4  0  0  0  0  0]\n",
      " [ 3  1 14 10 15  6 12  6  1  2]]\n"
     ]
    }
   ],
   "source": [
    "from keras.preprocessing.text import one_hot\n",
    "\n",
    "tokenizer = Tokenizer()\n",
    "tokenizer.fit_on_texts(sentences)\n",
    "word_index = tokenizer.word_index\n",
    "word_index = {v:k for k, v in word_index.items()}\n",
    "vocab_size = len(word_index)\n",
    "\n",
    "sentences = [\"nice to meet you\", \n",
    "             \"this the is sentence last\",\n",
    "             \"at each stage, the margin is determined for each sentence\"]\n",
    "\n",
    "encoded_docs = [one_hot(d, vocab_size+1) for d in sentences]\n",
    "\n",
    "max_length = pd.DataFrame({'text': sentences})['text'].str.split().map(lambda x: len(x)).max()\n",
    "\n",
    "padded_docs = pad_sequences(encoded_docs, maxlen=max_length, padding='post')\n",
    "\n",
    "print('Vocabulary Size:', vocab_size, '\\nThey are: \\n', word_index, ',\\nMax_length of each sentence = ', max_length)\n",
    "print('Encoded_sentences:', encoded_docs)\n",
    "print('Padded_sentences: \\n', padded_docs)"
   ]
  },
  {
   "cell_type": "markdown",
   "metadata": {},
   "source": [
    "- The first argument `(15)` is the `number of distinct (unique) words` in the training set; this is `size of vocabularies`\n",
    "- The second argument `(2)` indicates the `size of the embedding vectors` or the `dimension of the dense embedding`.\n",
    "- The `input_length = 10`, of course, determines the `max_size (max_length)` of the input sequence. \n",
    "\n",
    "By using \n",
    "\n",
    "                    E = Embedding(vocab_size, 10, input_length=max_length)\n",
    "\n",
    "The `Embedding_layer` has weights that are learned. If we save our model to file, this will include `weights` for the `Embedding layer`.\n",
    "\n",
    "The **`output of the Embedding layer is a 2D vector`** with *one embedding for each word in the input sequence of words (input document)*.\n",
    "\n",
    "If we want to connect a **`Dense`** layer directly to an Embedding layer, you must first flatten the 2D output matrix to a 1D vector using the **`Flatten`** layer (***without it, the shape of the dense outputs cannot be computed***)"
   ]
  },
  {
   "cell_type": "markdown",
   "metadata": {},
   "source": [
    "### Put the `padded_docs` into `Keras Embedding layer`"
   ]
  },
  {
   "cell_type": "code",
   "execution_count": 154,
   "metadata": {},
   "outputs": [
    {
     "name": "stdout",
     "output_type": "stream",
     "text": [
      "Model: \"sequential_9\"\n",
      "_________________________________________________________________\n",
      "Layer (type)                 Output Shape              Param #   \n",
      "=================================================================\n",
      "embedding_11 (Embedding)     (None, 10, 10)            150       \n",
      "_________________________________________________________________\n",
      "flatten_7 (Flatten)          (None, 100)               0         \n",
      "_________________________________________________________________\n",
      "dense_9 (Dense)              (None, 1)                 101       \n",
      "=================================================================\n",
      "Total params: 251\n",
      "Trainable params: 251\n",
      "Non-trainable params: 0\n",
      "_________________________________________________________________\n"
     ]
    }
   ],
   "source": [
    "from tensorflow import keras\n",
    "from tensorflow.keras import layers\n",
    "from keras import layers\n",
    "from keras.models import Sequential\n",
    "from keras.layers import Flatten\n",
    "from keras.layers import Dense, Dropout, Activation, Conv1D, GlobalMaxPooling1D, MaxPooling1D\n",
    "\n",
    "model = Sequential()\n",
    "model.add(Embedding(vocab_size, 10, input_length=max_length))\n",
    "model.add(Flatten())\n",
    "model.add(Dense(1, activation = 'sigmoid'))\n",
    "model.compile(optimizer = 'adam', loss = 'binary_crossentropy', metrics = ['acc'])\n",
    "model.summary()"
   ]
  },
  {
   "cell_type": "markdown",
   "metadata": {},
   "source": [
    "#### Create the `y_label` to predict the `correct_gramar`.! \n",
    "\n",
    "We can see that the first and last sentences is `correct (1)` while the middle(`\"this the is sentence last\"`) is `incorrect (0)`. So we have to assign \n",
    "\n",
    "                                             y = [1, 0, 1]"
   ]
  },
  {
   "cell_type": "code",
   "execution_count": 166,
   "metadata": {},
   "outputs": [
    {
     "name": "stdout",
     "output_type": "stream",
     "text": [
      "Epoch 1/3\n",
      "3/3 [==============================] - 0s 2ms/step - loss: 0.6546 - acc: 1.0000\n",
      "Epoch 2/3\n",
      "3/3 [==============================] - 0s 1ms/step - loss: 0.6517 - acc: 1.0000\n",
      "Epoch 3/3\n",
      "3/3 [==============================] - 0s 997us/step - loss: 0.6489 - acc: 1.0000\n",
      "3/3 [==============================] - 0s 332us/step\n",
      "score =  0.6459710001945496 ;\t accuracy =  1.0\n"
     ]
    }
   ],
   "source": [
    "y = [1, 0, 1]\n",
    "history = model.fit(padded_docs, y, epochs = 3, verbose = 1)\n",
    "score, acc = model.evaluate(padded_docs, y)\n",
    "print('score = ', score, ';\\t accuracy = ',acc)"
   ]
  },
  {
   "cell_type": "markdown",
   "metadata": {},
   "source": [
    "Noting that the **`output_dim`** can be chosen between **[1, `word_vector_shape`] or even larger**; because  it defines the `size of output vectors` from the `layer for each word`"
   ]
  },
  {
   "cell_type": "code",
   "execution_count": 171,
   "metadata": {},
   "outputs": [
    {
     "name": "stderr",
     "output_type": "stream",
     "text": [
      "C:\\Users\\Admin\\.conda\\envs\\projecy\\lib\\site-packages\\tensorflow_core\\python\\framework\\indexed_slices.py:433: UserWarning: Converting sparse IndexedSlices to a dense Tensor of unknown shape. This may consume a large amount of memory.\n",
      "  \"Converting sparse IndexedSlices to a dense Tensor of unknown shape. \"\n"
     ]
    },
    {
     "name": "stdout",
     "output_type": "stream",
     "text": [
      "Epoch 1/3\n",
      "3/3 [==============================] - 0s 27ms/step - loss: 0.6762 - acc: 1.0000\n",
      "Epoch 2/3\n",
      "3/3 [==============================] - 0s 998us/step - loss: 0.6748 - acc: 1.0000\n",
      "Epoch 3/3\n",
      "3/3 [==============================] - 0s 664us/step - loss: 0.6731 - acc: 1.0000\n",
      "3/3 [==============================] - 0s 6ms/step\n",
      "score =  0.6713350415229797 ;\t accuracy =  1.0\n"
     ]
    }
   ],
   "source": [
    "model2 = Sequential()\n",
    "model2.add(Embedding(vocab_size, 5, input_length=max_length))\n",
    "model2.add(Flatten())\n",
    "model2.add(Dense(1, activation = 'sigmoid'))\n",
    "model2.compile(optimizer = 'adam', loss = 'binary_crossentropy', metrics = ['acc'])\n",
    "history = model2.fit(padded_docs, y, epochs = 3, verbose = 1)\n",
    "score, acc = model2.evaluate(padded_docs, y)\n",
    "print('score = ', score, ';\\t accuracy = ',acc)"
   ]
  },
  {
   "cell_type": "markdown",
   "metadata": {},
   "source": [
    "Before going on to study **Using `Keras embedding layer` with `GloVe` and `Word2Vec`**; \n",
    "\n",
    "we have to take a look to explore **how `keras embedding layers` works**.\n",
    "\n",
    "--------------------------------------------------\n",
    "\n",
    "In particular using the `Embedding layer` we can pass to the input layer of our model, instead of the categorical one-hot encoded vector we used before, a new more powerful vector created now directly using for each word in the sentence the index value from the corresponding entry in the word table and respecting therefor the time/order sequence of the words in each sentence.\n",
    "\n",
    "Technically the way it works is that the `Embedding layer` automatically map each word to a vector representation that is automatically learned during the training process.\n",
    "\n",
    "The diagram below summarize how, even with a greater dataset and consequently a greater word table, a properly sized vector could be passed here to the input layer to let the training process calculate the weights values for the word vector representation."
   ]
  },
  {
   "cell_type": "code",
   "execution_count": 191,
   "metadata": {},
   "outputs": [
    {
     "data": {
      "image/png": "[encoded data removed]",
      "text/plain": [
       "<IPython.core.display.Image object>"
      ]
     },
     "metadata": {
      "image/png": {
       "unconfined": true,
       "width": 890
      }
     },
     "output_type": "display_data"
    }
   ],
   "source": [
    "display(Image(r\"C:\\Users\\Admin\\Desktop\\Nhan_pro\\Data\\embedding_keras_one_hot.png\", width=890, unconfined=True))"
   ]
  },
  {
   "cell_type": "markdown",
   "metadata": {},
   "source": [
    "The cube drew in the diagram above in particular represent a 3D simplified abstract representation of these vectors in a multi dimensional space where basically the dimension size of the space is equal to the dimension of the vector used for word representation (where biggest is the size of the vector greater is the capability to learn features from words and sentences).\n",
    "\n",
    "Last thing to say here is that in order to be able to support variable length phrases we need to define a max word size value for the biggest phrase we want to support on both training and inferencing. Once defined this vector length corresponding to the max number of words we want to support on each phrase we will have to pad each shorter phrase just adding a special index value of zero for these empty space in the phrase.\n",
    "\n",
    "--------------------------------------------\n",
    "\n",
    "### For the Embedding layers in `Word2Vec`  & `GloVe`\n",
    "\n",
    "The diagram below summarize how these pre-trained vectors could be used for a very big word table containing all the words present in the pre-trained word2vec/glove dataset."
   ]
  },
  {
   "cell_type": "code",
   "execution_count": 193,
   "metadata": {},
   "outputs": [
    {
     "data": {
      "image/png": "[encoded data removed]",
      "text/plain": [
       "<IPython.core.display.Image object>"
      ]
     },
     "metadata": {
      "image/png": {
       "unconfined": true,
       "width": 950
      }
     },
     "output_type": "display_data"
    }
   ],
   "source": [
    "display(Image(r\"C:\\Users\\Admin\\Desktop\\Nhan_pro\\Data\\embedding_keras.png\", width=950, unconfined=True))"
   ]
  },
  {
   "cell_type": "markdown",
   "metadata": {},
   "source": [
    "Again without introducing the “geometry of words” that is behind the word2vec algorithms, in extreme synthesis we can say that the very basic idea here is that we will be able to use synonyms and other powerful auto discovered natural language features to be able to successfully predict and classify in the inference phase new phrases that could even use totally different, but similar, words than the one used in the training dataset.\n",
    "\n",
    "For sake of clarity we can train with a sample phrase such as “Show me the blood pressure result for patient” and successfully detect a phrase such as “Display blood pressure data”."
   ]
  },
  {
   "cell_type": "markdown",
   "metadata": {},
   "source": [
    "#### Apply into the dataset"
   ]
  },
  {
   "cell_type": "code",
   "execution_count": 202,
   "metadata": {},
   "outputs": [
    {
     "name": "stdout",
     "output_type": "stream",
     "text": [
      "Vocabulary Size: 8920 ,\n",
      "Max_length of each sentence =  10\n",
      "Padded_sentences: \n",
      " [[1459 1023 7218 ... 2779 2195  780]\n",
      " [8724 7588 7451 ...    0    0    0]\n",
      " [7133 3448 3002 ... 3873 1683 4128]\n",
      " ...\n",
      " [ 646 1969 4673 ... 5467 1282 3790]\n",
      " [5664  492 8146 ... 1635 3081   35]\n",
      " [ 307 6107 1450 ...    0    0    0]]\n"
     ]
    }
   ],
   "source": [
    "tokenizer = Tokenizer()\n",
    "tokenizer.fit_on_texts(list(new_df[\"text_mes\"]))\n",
    "word_index = tokenizer.word_index\n",
    "word_index = {v:k for k, v in word_index.items()}\n",
    "vocab_size = len(word_index)\n",
    "\n",
    "encoded_docs = [one_hot(d, vocab_size+1) for d in list(new_df[\"text_mes\"])]\n",
    "new_y = new_df['target'].replace({'ham': 0, 'spam': 1})\n",
    "\n",
    "max_length = pd.DataFrame({'text': sentences})['text'].str.split().map(lambda x: len(x)).max()\n",
    "\n",
    "padded_docs = pad_sequences(encoded_docs, maxlen=max_length, padding='post')\n",
    "\n",
    "print('Vocabulary Size:', vocab_size, ',\\nMax_length of each sentence = ', max_length)\n",
    "print('Padded_sentences: \\n', padded_docs)"
   ]
  },
  {
   "cell_type": "code",
   "execution_count": 203,
   "metadata": {},
   "outputs": [
    {
     "name": "stdout",
     "output_type": "stream",
     "text": [
      "Model: \"sequential_27\"\n",
      "_________________________________________________________________\n",
      "Layer (type)                 Output Shape              Param #   \n",
      "=================================================================\n",
      "embedding_33 (Embedding)     (None, 10, 60)            535200    \n",
      "_________________________________________________________________\n",
      "flatten_24 (Flatten)         (None, 600)               0         \n",
      "_________________________________________________________________\n",
      "dense_26 (Dense)             (None, 1)                 601       \n",
      "=================================================================\n",
      "Total params: 535,801\n",
      "Trainable params: 535,801\n",
      "Non-trainable params: 0\n",
      "_________________________________________________________________\n"
     ]
    }
   ],
   "source": [
    "model3 = Sequential()\n",
    "model3.add(Embedding(vocab_size, 60, input_length=max_length))\n",
    "model3.add(Flatten())\n",
    "model3.add(Dense(1, activation = 'sigmoid'))\n",
    "model3.compile(optimizer = 'adam', loss = 'binary_crossentropy', metrics = ['acc'])\n",
    "model3.summary()"
   ]
  },
  {
   "cell_type": "code",
   "execution_count": 207,
   "metadata": {},
   "outputs": [
    {
     "name": "stdout",
     "output_type": "stream",
     "text": [
      "3900/3900 [==============================] - 0s 42us/step\n",
      "1672/1672 [==============================] - 0s 41us/step\n",
      "Train accuracy: 1.0 \n",
      "Test accuracy: 0.9832535982131958\n"
     ]
    }
   ],
   "source": [
    "from sklearn.model_selection import train_test_split\n",
    "X_train, X_test,y_train, y_test = train_test_split(padded_docs, new_y, test_size = 0.3, random_state = 42)\n",
    "history = model3.fit(X_train, y_train, batch_size = 128, epochs = 15, validation_data = (X_test, y_test), verbose=0)\n",
    "tr_score, tr_acc = model3.evaluate(X_train, y_train)\n",
    "t_score, t_acc = model3.evaluate(X_test, y_test)\n",
    "print('Train accuracy:', tr_acc, '\\nTest accuracy:', t_acc)"
   ]
  },
  {
   "cell_type": "markdown",
   "metadata": {},
   "source": [
    "### 4.2. Using `GloVe` in `keras`\n",
    "\n",
    "#### Create `embedding matrix`"
   ]
  },
  {
   "cell_type": "code",
   "execution_count": 213,
   "metadata": {},
   "outputs": [
    {
     "name": "stderr",
     "output_type": "stream",
     "text": [
      "100%|██████████| 5572/5572 [00:00<00:00, 5712.64it/s]\n",
      "100%|██████████| 7176/7176 [00:00<00:00, 233313.12it/s]\n"
     ]
    },
    {
     "name": "stdout",
     "output_type": "stream",
     "text": [
      "output_dim =  300\n"
     ]
    }
   ],
   "source": [
    "corpus = create_corpus(new_df)\n",
    "\n",
    "tokenizer_obj = Tokenizer()\n",
    "tokenizer_obj.fit_on_texts(corpus)\n",
    "sequences = tokenizer_obj.texts_to_sequences(corpus)\n",
    "tweet_pad = pad_sequences(sequences, maxlen = MAX_LEN, truncating='post',padding='post')\n",
    "\n",
    "word_index = tokenizer_obj.word_index\n",
    "\n",
    "embedding_dict={}\n",
    "with open(r\"D:\\Nhan\\glove.6B.300d.txt\", 'r', encoding='utf8', errors='ignore') as f:\n",
    "    for line in f:\n",
    "        values = line.split()\n",
    "        word = values[0]\n",
    "        vectors = np.asarray(values[1:], 'float32')\n",
    "        embedding_dict[word]=vectors\n",
    "f.close()\n",
    "\n",
    "num_words = len(word_index)+1\n",
    "embedding_matrix = np.zeros((num_words, 300))\n",
    "\n",
    "for word,i in tqdm(word_index.items()):\n",
    "    if i > num_words:\n",
    "        continue\n",
    "    \n",
    "    emb_vec=embedding_dict.get(word)\n",
    "    if emb_vec is not None:\n",
    "        embedding_matrix[i] = emb_vec\n",
    "        \n",
    "word_vec_dim = pd.DataFrame(embedding_dict).shape[0]\n",
    "print(\"output_dim = \", word_vec_dim)"
   ]
  },
  {
   "cell_type": "code",
   "execution_count": 254,
   "metadata": {},
   "outputs": [
    {
     "name": "stdout",
     "output_type": "stream",
     "text": [
      "[['go', 'jurong', 'point', 'available', 'bugis', 'n', 'great', 'world', 'la', 'e', 'buffet', 'cine', 'got', 'amore', 'wat'], ['ok', 'lar', 'joking', 'wif', 'u', 'oni'], ['free', 'entry', 'wkly', 'comp', 'win', 'fa', 'cup', 'final', 'tkts', 'may', 'text', 'fa', 'receive', 'entry', 'question', 'std', 'txt', 'rate', 't', 'c', 'apply'], ['u', 'dun', 'say', 'early', 'hor', 'u', 'c', 'already', 'say'], ['nah', 'i', 'think', 'goes', 'usf', 'lives', 'around', 'though']]\n"
     ]
    }
   ],
   "source": [
    "print(corpus[:5])"
   ]
  },
  {
   "cell_type": "markdown",
   "metadata": {},
   "source": [
    "#### Establish the model"
   ]
  },
  {
   "cell_type": "code",
   "execution_count": 224,
   "metadata": {},
   "outputs": [
    {
     "name": "stdout",
     "output_type": "stream",
     "text": [
      "Model: \"sequential_33\"\n",
      "_________________________________________________________________\n",
      "Layer (type)                 Output Shape              Param #   \n",
      "=================================================================\n",
      "embedding_38 (Embedding)     (None, 171, 300)          2153100   \n",
      "_________________________________________________________________\n",
      "flatten_25 (Flatten)         (None, 51300)             0         \n",
      "_________________________________________________________________\n",
      "dense_29 (Dense)             (None, 1)                 51301     \n",
      "=================================================================\n",
      "Total params: 2,204,401\n",
      "Trainable params: 51,301\n",
      "Non-trainable params: 2,153,100\n",
      "_________________________________________________________________\n"
     ]
    }
   ],
   "source": [
    "from keras.layers import Embedding, Dense\n",
    "model4 = Sequential()\n",
    "\n",
    "embedding = Embedding(num_words, 300, weights = [embedding_matrix],\n",
    "                   input_length = MAX_LEN, trainable = False)\n",
    "\n",
    "model4.add(embedding)\n",
    "model4.add(Flatten())\n",
    "model4.add(Dense(1, activation='sigmoid'))\n",
    "model4.compile(loss='binary_crossentropy', optimizer='adam', metrics=['acc'])\n",
    "model4.summary()"
   ]
  },
  {
   "cell_type": "markdown",
   "metadata": {},
   "source": [
    "#### Evaluate the model"
   ]
  },
  {
   "cell_type": "code",
   "execution_count": 229,
   "metadata": {},
   "outputs": [
    {
     "name": "stdout",
     "output_type": "stream",
     "text": [
      "3733/3733 [==============================] - 0s 42us/step\n",
      "1839/1839 [==============================] - 0s 51us/step\n",
      "Train accuracy: 0.9997321367263794\n",
      "Test accuracy: 0.9956498146057129\n"
     ]
    }
   ],
   "source": [
    "X_train, X_test,y_train,y_test = train_test_split(tweet_pad, new_y, test_size = 0.33)\n",
    "history = model4.fit(X_train, y_train, \n",
    "                     batch_size = 256, epochs = 15, \n",
    "                     validation_data = (X_test, y_test),\n",
    "                     verbose = 0)\n",
    "\n",
    "score, tr_acc = model4.evaluate(X_train, y_train)\n",
    "score, t_acc = model4.evaluate(X_test, y_test)\n",
    "\n",
    "print('Train accuracy:', tr_acc)\n",
    "print('Test accuracy:', t_acc)"
   ]
  },
  {
   "cell_type": "markdown",
   "metadata": {},
   "source": [
    "### 4.3. Using `word2vec` in `keras`\n",
    "\n",
    "Firstly, look at the `short_example` again,"
   ]
  },
  {
   "cell_type": "code",
   "execution_count": 230,
   "metadata": {},
   "outputs": [
    {
     "name": "stdout",
     "output_type": "stream",
     "text": [
      "Word2Vec(vocab=14, size=100, alpha=0.025)\n",
      "['this', 'is', 'the', 'first', 'sentence', 'for', 'word2vec', 'second', 'yet', 'another', 'one', 'more', 'and', 'final']\n",
      "[ 0.00340326 -0.00435903  0.00470866  0.00376485 -0.0040733   0.00338519\n",
      "  0.00404139  0.00177932  0.0024417  -0.00251456  0.00316507  0.00407272\n",
      "  0.00476802 -0.00352878 -0.00361681 -0.00296269  0.00007372  0.00321049\n",
      " -0.00401723 -0.0029892  -0.00063924 -0.00150994 -0.00039682 -0.00321666\n",
      " -0.00287783 -0.000743   -0.0022969  -0.00142249 -0.00489524 -0.00049467\n",
      " -0.00298739 -0.00421902  0.00464863  0.00237591 -0.00273726 -0.00319024\n",
      " -0.00471995  0.0048356  -0.0035862   0.00162843  0.00234244  0.00362093\n",
      "  0.00243166  0.00320085 -0.00262741 -0.00360686  0.00215791  0.00035352\n",
      "  0.00122003  0.00120915 -0.00005263 -0.00016101 -0.00412633  0.00102685\n",
      " -0.00344314  0.00239878  0.00460391 -0.00189981 -0.00467175  0.00031703\n",
      " -0.00043504  0.00259244 -0.00405035 -0.00316275 -0.00316632 -0.0047723\n",
      "  0.00321756 -0.00153133  0.00459421  0.00025999 -0.00470704 -0.00249304\n",
      " -0.00402793  0.00276152  0.00392582  0.00104747  0.00157704  0.00204047\n",
      " -0.00163937  0.00151392  0.00462709 -0.00330989  0.00442678  0.00242027\n",
      "  0.0021389   0.00154086  0.00205608 -0.00364753  0.00108066 -0.00468438\n",
      "  0.00318027  0.00443128  0.00285034  0.00286261  0.001087    0.00191044\n",
      " -0.00471769 -0.00014805  0.00084501  0.00292508]\n",
      "Word2Vec(vocab=14, size=100, alpha=0.025)\n"
     ]
    }
   ],
   "source": [
    "sentences = [['this', 'is', 'the', 'first', 'sentence', 'for', 'word2vec'],\n",
    "             ['this', 'is', 'the', 'second', 'sentence'],\n",
    "            ['yet', 'another', 'sentence'],\n",
    "            ['one', 'more', 'sentence'],\n",
    "            ['and', 'the', 'final', 'sentence']]\n",
    "# train model\n",
    "model = Word2Vec(sentences, min_count=1)\n",
    "# summarize the loaded model\n",
    "print(model)\n",
    "# summarize vocabulary\n",
    "words = list(model.wv.vocab)\n",
    "print(words)\n",
    "# access vector for one wordnew\n",
    "print(model.wv['sentence'])\n",
    "# save model\n",
    "model.save('model.bin')\n",
    "# load model\n",
    "new_model = Word2Vec.load('model.bin')\n",
    "print(new_model)"
   ]
  },
  {
   "cell_type": "markdown",
   "metadata": {},
   "source": [
    "So, we have to convert the `text_mes` in our dataset to a `list of word_list`; since"
   ]
  },
  {
   "cell_type": "code",
   "execution_count": 250,
   "metadata": {},
   "outputs": [
    {
     "data": {
      "text/plain": [
       "['Go until jurong point, crazy.. Available only in bugis n great world la e buffet... Cine there got amore wat...',\n",
       " 'Ok lar... Joking wif u oni...',\n",
       " \"Free entry in 2 a wkly comp to win FA Cup final tkts 21st May 2005. Text FA to 87121 to receive entry question(std txt rate)T&C's apply 08452810075over18's\",\n",
       " 'U dun say so early hor... U c already then say...',\n",
       " \"Nah I don't think he goes to usf, he lives around here though\"]"
      ]
     },
     "execution_count": 250,
     "metadata": {},
     "output_type": "execute_result"
    }
   ],
   "source": [
    "list(new_df[\"text_mes\"].head())"
   ]
  },
  {
   "cell_type": "markdown",
   "metadata": {},
   "source": [
    "This is a list of word sentences, so we will use `corpus`"
   ]
  },
  {
   "cell_type": "code",
   "execution_count": 255,
   "metadata": {},
   "outputs": [
    {
     "name": "stdout",
     "output_type": "stream",
     "text": [
      "[['go', 'jurong', 'point', 'available', 'bugis', 'n', 'great', 'world', 'la', 'e', 'buffet', 'cine', 'got', 'amore', 'wat'], ['ok', 'lar', 'joking', 'wif', 'u', 'oni'], ['free', 'entry', 'wkly', 'comp', 'win', 'fa', 'cup', 'final', 'tkts', 'may', 'text', 'fa', 'receive', 'entry', 'question', 'std', 'txt', 'rate', 't', 'c', 'apply'], ['u', 'dun', 'say', 'early', 'hor', 'u', 'c', 'already', 'say'], ['nah', 'i', 'think', 'goes', 'usf', 'lives', 'around', 'though']]\n"
     ]
    }
   ],
   "source": [
    "print(corpus[:5])"
   ]
  },
  {
   "cell_type": "markdown",
   "metadata": {},
   "source": [
    "#### Initialize a model using `Word2Vec`"
   ]
  },
  {
   "cell_type": "code",
   "execution_count": 297,
   "metadata": {},
   "outputs": [
    {
     "name": "stdout",
     "output_type": "stream",
     "text": [
      "Word2Vec(vocab=7176, size=150, alpha=0.025)\n"
     ]
    }
   ],
   "source": [
    "output_dim = 150\n",
    "model5 = Word2Vec(corpus, min_count = 1, size = output_dim)\n",
    "print(model5)"
   ]
  },
  {
   "cell_type": "code",
   "execution_count": 298,
   "metadata": {},
   "outputs": [
    {
     "name": "stdout",
     "output_type": "stream",
     "text": [
      "[ 0.1380029   0.30629635 -0.5757956  -0.7689321   0.48289397  0.18480477\n",
      " -0.28945184  0.23331839  0.07304378 -0.03907166 -0.24144314  0.48850098\n",
      "  0.17004801  0.2712383   0.07255654 -0.17295223  0.68147576 -0.6670764\n",
      "  0.480505    0.06981187 -0.61977583 -0.03309339 -0.49000955  0.7044414\n",
      " -0.4981335   0.11048514  0.3103077  -0.879058   -0.33291414 -0.13806896\n",
      "  0.19795088  0.216974   -0.43961707  0.45229778 -0.893933   -0.3377651\n",
      " -0.3293185   0.6723562   0.59368765 -0.11211328 -0.5740218   0.21405762\n",
      " -0.10111346 -0.29110438 -0.19024065 -0.2270457  -0.4109347  -0.46073532\n",
      "  0.45573333 -0.02722085 -0.14768939  0.49282596 -0.2680859   0.32395676\n",
      "  0.30897683  0.353006    0.04087522 -0.17257252 -0.12745741 -0.16915931\n",
      "  0.59043396 -0.03255749  0.12141302  0.23847824 -0.6971075  -0.21358694\n",
      "  0.6634064   0.39934316 -0.6036811  -0.5461943   0.5437488  -0.08944719\n",
      " -0.5432109   0.60532683 -0.13126312  0.733983    0.86771965 -0.84476525\n",
      "  0.00797695 -0.5342853  -0.06334843 -0.21834745  0.5504671   0.30320615\n",
      " -0.08293595  0.27624166  0.00788223 -0.2950565   0.19264075  0.5837122\n",
      "  0.46591946 -0.61425567  0.64873683  0.19884972 -0.19513257  0.22376502\n",
      " -0.14160033  0.2328602  -0.14772575  0.00486561  0.29249722 -0.45330194\n",
      "  0.7294445   0.01372945  0.5293301  -0.01828902  0.72762674  0.22162393\n",
      "  0.93006355 -0.55723685  0.00429066 -0.3400537   0.22607712  0.47049737\n",
      " -0.20302677 -0.54981863 -0.04988661  0.01791425  0.20935678 -0.56612784\n",
      "  0.40744057  0.22514033  0.24986151  0.33134544 -0.48814946  0.2244729\n",
      " -0.16633752  0.5695053   0.357112   -0.27477476 -0.11783278  0.57940143\n",
      "  0.02953625  0.36782438 -0.10659914 -0.20635326 -0.18748258  0.506383\n",
      "  0.47255987 -0.29470006  0.25857148 -0.8054265  -0.38006845  0.10317986\n",
      "  0.49761498  0.26684016 -0.18523559  0.03421213  0.48637828  0.97025144]\n"
     ]
    }
   ],
   "source": [
    "print(model5.wv['go'])"
   ]
  },
  {
   "cell_type": "markdown",
   "metadata": {},
   "source": [
    "#### Create an `Embedding matrix` of `Word2Vec`'s model"
   ]
  },
  {
   "cell_type": "code",
   "execution_count": 299,
   "metadata": {},
   "outputs": [
    {
     "data": {
      "text/plain": [
       "array([ 0.1380029 ,  0.30629635, -0.57579559, -0.7689321 ,  0.48289397,\n",
       "        0.18480477, -0.28945184,  0.23331839,  0.07304378, -0.03907166,\n",
       "       -0.24144314,  0.48850098,  0.17004801,  0.2712383 ,  0.07255654,\n",
       "       -0.17295223,  0.68147576, -0.66707641,  0.48050499,  0.06981187,\n",
       "       -0.61977583, -0.03309339, -0.49000955,  0.70444143, -0.49813351,\n",
       "        0.11048514,  0.31030771, -0.879058  , -0.33291414, -0.13806896,\n",
       "        0.19795088,  0.21697401, -0.43961707,  0.45229778, -0.893933  ,\n",
       "       -0.3377651 , -0.32931849,  0.67235619,  0.59368765, -0.11211328,\n",
       "       -0.57402182,  0.21405762, -0.10111346, -0.29110438, -0.19024065,\n",
       "       -0.2270457 , -0.41093469, -0.46073532,  0.45573333, -0.02722085,\n",
       "       -0.14768939,  0.49282596, -0.2680859 ,  0.32395676,  0.30897683,\n",
       "        0.35300601,  0.04087522, -0.17257252, -0.12745741, -0.16915931,\n",
       "        0.59043396, -0.03255749,  0.12141302,  0.23847824, -0.69710749,\n",
       "       -0.21358694,  0.66340637,  0.39934316, -0.60368109, -0.54619431,\n",
       "        0.5437488 , -0.08944719, -0.54321092,  0.60532683, -0.13126312,\n",
       "        0.73398298,  0.86771965, -0.84476525,  0.00797695, -0.53428531,\n",
       "       -0.06334843, -0.21834745,  0.55046707,  0.30320615, -0.08293595,\n",
       "        0.27624166,  0.00788223, -0.29505649,  0.19264075,  0.58371222,\n",
       "        0.46591946, -0.61425567,  0.64873683,  0.19884972, -0.19513257,\n",
       "        0.22376502, -0.14160033,  0.23286019, -0.14772575,  0.00486561,\n",
       "        0.29249722, -0.45330194,  0.7294445 ,  0.01372945,  0.52933007,\n",
       "       -0.01828902,  0.72762674,  0.22162393,  0.93006355, -0.55723685,\n",
       "        0.00429066, -0.34005371,  0.22607712,  0.47049737, -0.20302677,\n",
       "       -0.54981863, -0.04988661,  0.01791425,  0.20935678, -0.56612784,\n",
       "        0.40744057,  0.22514033,  0.24986151,  0.33134544, -0.48814946,\n",
       "        0.2244729 , -0.16633752,  0.56950527,  0.35711199, -0.27477476,\n",
       "       -0.11783278,  0.57940143,  0.02953625,  0.36782438, -0.10659914,\n",
       "       -0.20635326, -0.18748258,  0.506383  ,  0.47255987, -0.29470006,\n",
       "        0.25857148, -0.80542648, -0.38006845,  0.10317986,  0.49761498,\n",
       "        0.26684016, -0.18523559,  0.03421213,  0.48637828,  0.97025144])"
      ]
     },
     "execution_count": 299,
     "metadata": {},
     "output_type": "execute_result"
    }
   ],
   "source": [
    "words = list(model5.wv.vocab)\n",
    "embedding_matrix = np.zeros((len(words), output_dim))\n",
    "\n",
    "for k in range(len(words)):\n",
    "    embedding_matrix[k] = model5.wv[words[k]]\n",
    "\n",
    "embedding_matrix[0]"
   ]
  },
  {
   "cell_type": "markdown",
   "metadata": {},
   "source": [
    "#### Adding the `Embedding layer`"
   ]
  },
  {
   "cell_type": "code",
   "execution_count": 300,
   "metadata": {},
   "outputs": [
    {
     "name": "stdout",
     "output_type": "stream",
     "text": [
      "Model: \"sequential_36\"\n",
      "_________________________________________________________________\n",
      "Layer (type)                 Output Shape              Param #   \n",
      "=================================================================\n",
      "embedding_41 (Embedding)     (None, 171, 150)          1076400   \n",
      "_________________________________________________________________\n",
      "flatten_28 (Flatten)         (None, 25650)             0         \n",
      "_________________________________________________________________\n",
      "dense_32 (Dense)             (None, 1)                 25651     \n",
      "=================================================================\n",
      "Total params: 1,102,051\n",
      "Trainable params: 25,651\n",
      "Non-trainable params: 1,076,400\n",
      "_________________________________________________________________\n"
     ]
    }
   ],
   "source": [
    "model6 = Sequential()\n",
    "\n",
    "embedding = Embedding(len(words), output_dim, weights = [embedding_matrix],\n",
    "                   input_length = MAX_LEN, trainable = False)\n",
    "\n",
    "model6.add(embedding)\n",
    "model6.add(Flatten())\n",
    "model6.add(Dense(1, activation='sigmoid'))\n",
    "model6.compile(loss='binary_crossentropy', optimizer='adam', metrics=['acc'])\n",
    "model6.summary()"
   ]
  },
  {
   "cell_type": "code",
   "execution_count": 304,
   "metadata": {},
   "outputs": [
    {
     "name": "stdout",
     "output_type": "stream",
     "text": [
      "3733/3733 [==============================] - 0s 42us/step\n",
      "1839/1839 [==============================] - 0s 45us/step\n",
      "Train accuracy: 0.918648533821106\n",
      "Test accuracy: 0.920581865310669\n"
     ]
    }
   ],
   "source": [
    "X_train, X_test,y_train,y_test = train_test_split(tweet_pad, new_y, test_size = 0.33)\n",
    "history = model6.fit(X_train, y_train, \n",
    "                     batch_size = 64, epochs = 100, \n",
    "                     validation_data = (X_test, y_test),\n",
    "                     verbose = 0)\n",
    "\n",
    "score, tr_acc = model6.evaluate(X_train, y_train)\n",
    "score, t_acc = model6.evaluate(X_test, y_test)\n",
    "\n",
    "print('Train accuracy:', tr_acc)\n",
    "print('Test accuracy:', t_acc)"
   ]
  },
  {
   "cell_type": "markdown",
   "metadata": {},
   "source": [
    "#### References:\n",
    "\n",
    "1 https://machinelearningmastery.com/develop-word-embeddings-python-gensim/\n",
    "\n",
    "2 https://www.coursera.org/lecture/nlp-sequence-models/glove-word-vectors-IxDTG\n",
    "\n",
    "3 https://radimrehurek.com/gensim/models/word2vec.html\n",
    "\n",
    "4 https://nlp.stanford.edu/pubs/glove.pdf\n",
    "\n",
    "5 http://arxiv.org/abs/1512.05287\n",
    "\n",
    "6 https://medium.com/@JMangia/coreml-with-glove-word-embedding-and-recursive-neural-network-part-2-ab238ca90970"
   ]
  }
 ],
 "metadata": {
  "kernelspec": {
   "display_name": "Python 3",
   "language": "python",
   "name": "python3"
  },
  "language_info": {
   "codemirror_mode": {
    "name": "ipython",
    "version": 3
   },
   "file_extension": ".py",
   "mimetype": "text/x-python",
   "name": "python",
   "nbconvert_exporter": "python",
   "pygments_lexer": "ipython3",
   "version": "3.7.7"
  }
 },
 "nbformat": 4,
 "nbformat_minor": 4
}
